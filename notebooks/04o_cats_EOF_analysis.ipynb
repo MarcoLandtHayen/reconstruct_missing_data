{
 "cells": [
  {
   "cell_type": "code",
   "execution_count": 2,
   "id": "6873dee1",
   "metadata": {},
   "outputs": [],
   "source": [
    "import os\n",
    "import sys\n",
    "sys.path.append('../reconstruct_missing_data')\n",
    "\n",
    "from pathlib import Path\n",
    "from json import dump, load\n",
    "\n",
    "from data_loading import (\n",
    "    clone_data, \n",
    "    create_missing_mask, \n",
    "    split_and_scale_data,\n",
    ")\n",
    "\n",
    "import numpy as np\n",
    "import xarray as xr\n",
    "import scipy as sp\n",
    "from matplotlib import pyplot as plt\n",
    "from pathlib import Path\n",
    "from json import dump, load\n",
    "import os\n",
    "\n",
    "# # Next block for visualization, only if packages are pre-installed!\n",
    "# import xarray as xr\n",
    "# import hvplot.xarray\n",
    "# import geoviews as gv\n",
    "# import cartopy\n",
    "# import cartopy.crs as ccrs\n",
    "# import cmocean"
   ]
  },
  {
   "cell_type": "code",
   "execution_count": 3,
   "id": "db3ddeef",
   "metadata": {},
   "outputs": [],
   "source": [
    "# Set working directory, according to working directory in scripts:\n",
    "os.chdir('/gxfs_work1/geomar/smomw511') # nesh\n",
    "# os.chdir('/Users/mlandt-hayen') # local\n",
    "# os.chdir('/work') # local in Docker Container"
   ]
  },
  {
   "cell_type": "code",
   "execution_count": 5,
   "id": "b23d080a",
   "metadata": {},
   "outputs": [],
   "source": [
    "## Specify parameters:\n",
    "\n",
    "# Set path to data: Subset of cat images prepared as numpy array.\n",
    "path_to_data = \"GitHub/MarcoLandtHayen/reconstruct_missing_data/data/raw\"\n",
    "\n",
    "# Source: \n",
    "source = 'cats_1300'"
   ]
  },
  {
   "cell_type": "code",
   "execution_count": 6,
   "id": "93be12a7",
   "metadata": {},
   "outputs": [],
   "source": [
    "# Load data:\n",
    "data = np.load(path_to_data + '/' + source + '.npy')"
   ]
  },
  {
   "cell_type": "code",
   "execution_count": 8,
   "id": "02e1b3e0",
   "metadata": {},
   "outputs": [],
   "source": [
    "# Get mean cat:\n",
    "data_mean = np.mean(data,axis=0)"
   ]
  },
  {
   "cell_type": "code",
   "execution_count": 10,
   "id": "b841497e",
   "metadata": {},
   "outputs": [],
   "source": [
    "# De-mean data:\n",
    "data_demean = data - data_mean"
   ]
  },
  {
   "cell_type": "code",
   "execution_count": 15,
   "id": "0d89f29d",
   "metadata": {},
   "outputs": [],
   "source": [
    "# Flatten data: Only keep sample dimension.\n",
    "data_flat = np.reshape(data_demean,(data_demean.shape[0],-1))"
   ]
  },
  {
   "cell_type": "code",
   "execution_count": 17,
   "id": "7b3bee28",
   "metadata": {},
   "outputs": [
    {
     "name": "stdout",
     "output_type": "stream",
     "text": [
      "pc shape:  (1300, 1300)\n",
      "s shape:  (1300,)\n",
      "eof shape:  (1300, 20736)\n"
     ]
    }
   ],
   "source": [
    "## Perform SVD on flat data (de-meaned):\n",
    "\n",
    "pc_cats, s_cats, eof_cats = sp.linalg.svd(\n",
    "    data_flat, full_matrices=False\n",
    ")\n",
    "\n",
    "print(\"pc shape: \", pc_cats.shape)\n",
    "print(\"s shape: \", s_cats.shape)\n",
    "print(\"eof shape: \", eof_cats.shape)"
   ]
  },
  {
   "cell_type": "code",
   "execution_count": 18,
   "id": "6c1f7877",
   "metadata": {},
   "outputs": [],
   "source": [
    "# Compute explained variance from singular values:\n",
    "exp_var_cats = s_cats**2 / (s_cats**2).sum()\n",
    "\n",
    "## Get accumulated explained variance:\n",
    "\n",
    "# Initialize storage:\n",
    "exp_var_acc_cats = np.zeros(exp_var_cats.shape)\n",
    "\n",
    "# # Run over array of explained variance:\n",
    "for i in range(len(exp_var_cats)):\n",
    "    \n",
    "    # First step to initialize accumulated variance:\n",
    "    if i == 0:\n",
    "        exp_var_acc_cats[i] = exp_var_cats[i]\n",
    "    else:\n",
    "        exp_var_acc_cats[i] = exp_var_acc_cats[i-1] + exp_var_cats[i]"
   ]
  },
  {
   "cell_type": "code",
   "execution_count": 21,
   "id": "d5018b33",
   "metadata": {},
   "outputs": [
    {
     "data": {
      "image/png": "[encoded data removed]",
      "text/plain": [
       "<Figure size 504x288 with 1 Axes>"
      ]
     },
     "metadata": {
      "needs_background": "light"
     },
     "output_type": "display_data"
    }
   ],
   "source": [
    "## Plot accumulated expressed variance over EOF modes.\n",
    "\n",
    "fig, axes = plt.subplots(1,1,figsize=(7,4))\n",
    "\n",
    "axes.plot(np.arange(0,len(exp_var_acc_cats[:240]),step=1)+1, exp_var_acc_cats[:240], color='black', marker='o', linestyle='--')\n",
    "# Optionally add threshold:\n",
    "axes.plot(np.arange(0,len(exp_var_acc_cats[:240]),step=1)+1, np.ones(len(exp_var_acc_cats[:240]))*0.8, color='blue', linestyle='--')\n",
    "\n",
    "axes.set_ylim(top=1.03)\n",
    "axes.set_title('cats: Accumulated expressed variance', fontsize=14)\n",
    "axes.set_xlabel('# of EOF modes', fontsize=12)\n",
    "axes.set_ylabel('acc. expressed variance', fontsize=12)\n",
    "#axes.legend()\n",
    "plt.show() "
   ]
  },
  {
   "cell_type": "code",
   "execution_count": 20,
   "id": "f512b3a9",
   "metadata": {},
   "outputs": [
    {
     "data": {
      "text/plain": [
       "array([0.24074371, 0.35412915, 0.42416231, 0.48778894, 0.52301903,\n",
       "       0.55175367, 0.57563161, 0.59606759, 0.61200274, 0.62634031,\n",
       "       0.6402924 , 0.65303445, 0.66302041, 0.67224371, 0.68075157,\n",
       "       0.68858836, 0.6958189 , 0.70228535, 0.70842802, 0.71435252,\n",
       "       0.72005756, 0.7252664 , 0.7301692 , 0.73484306, 0.73939832,\n",
       "       0.74378986, 0.74774955, 0.75145096, 0.75502553, 0.75855566,\n",
       "       0.76194692, 0.7652982 , 0.76835962, 0.77138939, 0.77432047,\n",
       "       0.77714456, 0.77983087, 0.7824498 , 0.78505746, 0.78754777,\n",
       "       0.78996521, 0.79229505, 0.79450388, 0.79666843, 0.79878112,\n",
       "       0.80082862, 0.80284487, 0.80478959, 0.80671105, 0.80859867])"
      ]
     },
     "execution_count": 20,
     "metadata": {},
     "output_type": "execute_result"
    }
   ],
   "source": [
    "exp_var_acc_cats[:50]"
   ]
  },
  {
   "cell_type": "code",
   "execution_count": null,
   "id": "76281315",
   "metadata": {},
   "outputs": [],
   "source": []
  },
  {
   "cell_type": "code",
   "execution_count": null,
   "id": "7c5c3553",
   "metadata": {},
   "outputs": [],
   "source": []
  }
 ],
 "metadata": {
  "kernelspec": {
   "display_name": "Python 3 (ipykernel)",
   "language": "python",
   "name": "python3"
  },
  "language_info": {
   "codemirror_mode": {
    "name": "ipython",
    "version": 3
   },
   "file_extension": ".py",
   "mimetype": "text/x-python",
   "name": "python",
   "nbconvert_exporter": "python",
   "pygments_lexer": "ipython3",
   "version": "3.8.8"
  }
 },
 "nbformat": 4,
 "nbformat_minor": 5
}
