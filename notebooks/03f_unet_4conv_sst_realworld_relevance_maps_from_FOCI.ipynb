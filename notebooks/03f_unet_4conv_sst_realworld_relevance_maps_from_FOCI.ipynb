{
 "cells": [
  {
   "cell_type": "markdown",
   "id": "c70d7d09",
   "metadata": {},
   "source": [
    "### First experiments with U-Net on real world sst data\n",
    "\n",
    "Derived optimal masks for CESM and FOCI for 99.9% / 99% / 95% missing.\n",
    "\n",
    "Now, try to transfer these masks to real world data.\n",
    "\n",
    "**Note:** Have different grid structures. For FOCI, we have 96 x 192 lat-lon grid, with 18,432 grid points. 0.1% hence means 18 grid points. Whereas, for real world slp fields we use a 80 x 176 lat-lon grid, with only 9,913 VALID grid points.\n",
    "\n",
    "--> Look for the top 10 grid points from CESM mean rel. loss reduction maps and transfer obtained mask to real world grid."
   ]
  },
  {
   "cell_type": "code",
   "execution_count": 64,
   "id": "7763b0e6",
   "metadata": {},
   "outputs": [],
   "source": [
    "import os\n",
    "import sys\n",
    "sys.path.append('../reconstruct_missing_data')\n",
    "\n",
    "from pathlib import Path\n",
    "from json import dump, load\n",
    "\n",
    "# # Next block for visualization, only if packeges are pre-installed!\n",
    "# import xarray as xr\n",
    "# import hvplot.xarray\n",
    "# import geoviews as gv\n",
    "# import cartopy\n",
    "# import cartopy.crs as ccrs\n",
    "# import cmocean\n",
    "\n",
    "import numpy as np\n",
    "import pandas as pd\n",
    "from sklearn.mixture import GaussianMixture\n",
    "from sklearn.datasets import make_blobs\n",
    "from sklearn.cluster import KMeans\n",
    "from matplotlib import pyplot as plt\n",
    "\n",
    "from data_loading import find_data_files, load_data_set, get_anomalies, clone_data, create_missing_mask, split_and_scale_data, get_land_silhouette\n",
    "from models import build_unet_4conv\n",
    "from relevance import compute_single_relevance_map\n",
    "\n",
    "import tensorflow as tf\n",
    "from tensorflow.keras import Sequential\n",
    "from tensorflow.keras.models import Model\n",
    "from tensorflow.keras.layers import Input, Dense, Lambda, concatenate, Conv1D, Conv2D, MaxPool2D, UpSampling2D, BatchNormalization, LeakyReLU\n",
    "from tensorflow.keras.optimizers import Adam, SGD\n",
    "import tensorflow.keras.initializers as tfi\n",
    "import tensorflow.keras.regularizers as tfr\n",
    "from tensorflow.keras.utils import plot_model\n",
    "\n",
    "# Suppress Tensorflow warnings\n",
    "tf.compat.v1.logging.set_verbosity(tf.compat.v1.logging.ERROR)"
   ]
  },
  {
   "cell_type": "code",
   "execution_count": 65,
   "id": "5e5df29a",
   "metadata": {},
   "outputs": [],
   "source": [
    "# Set working directory, according to working directory in scripts:\n",
    "os.chdir('/gxfs_work1/geomar/smomw511') # nesh\n",
    "# os.chdir('/Users/mlandt-hayen') # local\n",
    "# os.chdir('/work') # local in Docker Container"
   ]
  },
  {
   "cell_type": "code",
   "execution_count": 66,
   "id": "eb4743ce",
   "metadata": {},
   "outputs": [
    {
     "name": "stdout",
     "output_type": "stream",
     "text": [
      "GitGeomar/marco-landt-hayen/reconstruct_missing_data_results/unet_4conv_sst_FOCI_variable_range_25_999_factor_3_final/relevance_2\n",
      "\n",
      "number of samples:  115\n",
      "patch size:  1\n",
      "max. number of patches to include:  184\n",
      "max. acc. rel. loss as threshold:  1.0\n"
     ]
    }
   ],
   "source": [
    "## Reload parameters and results for experiment:\n",
    "\n",
    "# Specify experiment:\n",
    "model_config = 'unet_4conv'\n",
    "feature = 'sea-surface-temperature' # Choose either 'sea-level-pressure' or 'sea-surface-temperature' as feature.\n",
    "feature_short = 'sst' # Free to set short name, to store results, e.g. 'slp' and 'sst'.\n",
    "source = 'FOCI' # Choose Earth System Model, either 'FOCI' or 'CESM'.\n",
    "mask_type = 'variable'\n",
    "missing_type = 'range_25_999'\n",
    "augmentation_factor = 3\n",
    "run = '_final'\n",
    "exp_name = '/relevance_2'\n",
    "\n",
    "# Get path to stored results:\n",
    "path_to_stored_results = Path('GitGeomar/marco-landt-hayen/reconstruct_missing_data_results/'+model_config+'_'+feature_short+'_'+source+'_'\n",
    "                      +mask_type+'_'+missing_type+'_factor_'+str(augmentation_factor)+run+exp_name)\n",
    "\n",
    "print(path_to_stored_results)\n",
    "\n",
    "# Reload parameters relevant for data pre-processing for this experiment:\n",
    "with open(path_to_stored_results / 'parameters.json', 'r') as f:\n",
    "    parameters=load(f)\n",
    "\n",
    "\n",
    "train_val_split = parameters['train_val_split']\n",
    "scale_to = parameters['scale_to']\n",
    "n_samples = parameters['n_samples']\n",
    "patch_size = parameters['patch_size']\n",
    "max_patch_num = parameters['max_patch_num']\n",
    "max_acc_rel_loss_reduction = parameters['max_acc_rel_loss_reduction']\n",
    "\n",
    "# Print parameters:\n",
    "print(\"\\nnumber of samples: \", n_samples)\n",
    "print(\"patch size: \", patch_size)\n",
    "print(\"max. number of patches to include: \", max_patch_num)\n",
    "print(\"max. acc. rel. loss as threshold: \", max_acc_rel_loss_reduction)"
   ]
  },
  {
   "cell_type": "code",
   "execution_count": 67,
   "id": "18f5f163",
   "metadata": {},
   "outputs": [],
   "source": [
    "# # Get path to model:\n",
    "# path_to_model = Path('GitGeomar/marco-landt-hayen/reconstruct_missing_data_results/'+model_config+'_'+feature_short+'_'+source+'_'\n",
    "#                       +mask_type+'_'+missing_type+'_factor_'+str(augmentation_factor)+run)\n",
    "\n",
    "# # Reload final model, trained on range:\n",
    "# model = tf.keras.models.load_model(path_to_model / 'missing_25_999' / 'model')"
   ]
  },
  {
   "cell_type": "code",
   "execution_count": 68,
   "id": "21dda7ba",
   "metadata": {
    "tags": []
   },
   "outputs": [
    {
     "name": "stderr",
     "output_type": "stream",
     "text": [
      "/app/conda/lib/python3.8/site-packages/xarray/coding/times.py:673: SerializationWarning: Unable to decode time axis into full numpy.datetime64 objects, continuing using cftime.datetime objects instead, reason: dates out of range\n",
      "  dtype = _decode_cf_datetime_dtype(data, units, calendar, self.use_cftime)\n",
      "/app/conda/lib/python3.8/site-packages/numpy/core/_asarray.py:83: SerializationWarning: Unable to decode time axis into full numpy.datetime64 objects, continuing using cftime.datetime objects instead, reason: dates out of range\n",
      "  return array(a, dtype, copy=False, order=order)\n"
     ]
    }
   ],
   "source": [
    "## Prepare validation samples:\n",
    "\n",
    "# Path to full data:\n",
    "#path_to_data = 'climate_index_collection/data/raw/2022-08-22/'\n",
    "path_to_data = 'GitHub/MarcoLandtHayen/reconstruct_missing_data/data/test_data/'\n",
    "\n",
    "# Load data:\n",
    "data_raw = load_data_set(data_path=path_to_data, data_source_name=source)\n",
    "\n",
    "# Select single feature and compute anomalies, using whole time span as climatology:\n",
    "data = get_anomalies(feature=feature, data_set=data_raw)\n",
    "\n",
    "# Create synthetic missing_mask of ONEs, to load FULL validation samples:\n",
    "missing_mask_1 = (np.ones(data.shape)==1)\n",
    "\n",
    "# Get scaled validation inputs and targets. Note: Using missing_mask of ONEs, validation inputs and targets are \n",
    "# identical. Only difference is found in dimensionality: inputs have channel number (=1) as final dimension, targets don't.\n",
    "train_input, val_input, _, _, train_min, train_max, _, _ = split_and_scale_data(\n",
    "    data, \n",
    "    missing_mask_1,\n",
    "    train_val_split, \n",
    "    scale_to\n",
    ")"
   ]
  },
  {
   "cell_type": "code",
   "execution_count": 69,
   "id": "cc449b0c",
   "metadata": {},
   "outputs": [],
   "source": [
    "# Get possible number of patches in lat and lon directions, respectively:\n",
    "n_lat = int(val_input[0:1].shape[1] / patch_size)\n",
    "n_lon = int(val_input[0:1].shape[2] / patch_size)\n",
    "\n",
    "# Obtain total number of patches:\n",
    "n_patches = int(n_lat * n_lon)\n",
    "\n",
    "# If max. number of patches to include is given as -1, set to total number of possible patches:\n",
    "if max_patch_num == -1:\n",
    "    max_patch_num = n_patches"
   ]
  },
  {
   "cell_type": "code",
   "execution_count": 70,
   "id": "51f52766",
   "metadata": {},
   "outputs": [],
   "source": [
    "# Reload results for this experiment:\n",
    "rel_loss_reduction_maps = np.load(path_to_stored_results / \"rel_loss_reduction_maps.npy\")\n",
    "patch_orders = np.load(path_to_stored_results / \"patch_orders.npy\")\n",
    "abs_loss_reductions = np.load(path_to_stored_results / \"abs_loss_reductions.npy\")\n",
    "rel_loss_reductions = np.load(path_to_stored_results / \"rel_loss_reductions.npy\")\n",
    "acc_rel_loss_reductions = np.load(path_to_stored_results / \"acc_rel_loss_reductions.npy\")"
   ]
  },
  {
   "cell_type": "code",
   "execution_count": 71,
   "id": "32783bf4",
   "metadata": {},
   "outputs": [
    {
     "name": "stdout",
     "output_type": "stream",
     "text": [
      "rel_loss_reduction_maps: (115, 96, 192)\n",
      "patch_orders: (115, 18432)\n",
      "rel_loss_reductions: (115, 18432)\n",
      "abs_loss_reductions: (115, 18432)\n",
      "acc_rel_loss_reductions: (115, 18432)\n"
     ]
    }
   ],
   "source": [
    "## Optionally pick only subset of samples:\n",
    "\n",
    "# # Define starting point(s) and number of samples to consider at each starting point:\n",
    "# n_start_1 = 0\n",
    "# n_start_2 = 900\n",
    "# n_samples = 300\n",
    "\n",
    "# # In case, only one starting point is defined:\n",
    "# rel_loss_reduction_maps = rel_loss_reduction_maps[n_start_1:n_start_1+n_samples]\n",
    "# patch_orders = patch_orders[n_start_1:n_start_1+n_samples]\n",
    "# abs_loss_reductions = abs_loss_reductions[n_start_1:n_start_1+n_samples]\n",
    "# rel_loss_reductions = rel_loss_reductions[n_start_1:n_start_1+n_samples]\n",
    "# acc_rel_loss_reductions = acc_rel_loss_reductions[n_start_1:n_start_1+n_samples]\n",
    "\n",
    "# # For two distincd starting points:\n",
    "# rel_loss_reduction_maps = np.concatenate([rel_loss_reduction_maps[n_start_1:n_start_1+n_samples],\n",
    "#                                           rel_loss_reduction_maps[n_start_2:n_start_2+n_samples]], axis=0)\n",
    "# patch_orders = np.concatenate([patch_orders[n_start_1:n_start_1+n_samples],\n",
    "#                                           patch_orders[n_start_2:n_start_2+n_samples]], axis=0)\n",
    "# abs_loss_reductions = np.concatenate([abs_loss_reductions[n_start_1:n_start_1+n_samples],\n",
    "#                                           abs_loss_reductions[n_start_2:n_start_2+n_samples]], axis=0)\n",
    "# rel_loss_reductions = np.concatenate([rel_loss_reductions[n_start_1:n_start_1+n_samples],\n",
    "#                                           rel_loss_reductions[n_start_2:n_start_2+n_samples]], axis=0)\n",
    "# acc_rel_loss_reductions = np.concatenate([acc_rel_loss_reductions[n_start_1:n_start_1+n_samples],\n",
    "#                                           acc_rel_loss_reductions[n_start_2:n_start_2+n_samples]], axis=0)\n",
    "\n",
    "# # Double number of samples, to have n_samples reflect the correct number of samples:\n",
    "# n_samples = n_samples * 2\n",
    "\n",
    "print(\"rel_loss_reduction_maps:\", rel_loss_reduction_maps.shape)\n",
    "print(\"patch_orders:\", patch_orders.shape)\n",
    "print(\"rel_loss_reductions:\", rel_loss_reductions.shape)\n",
    "print(\"abs_loss_reductions:\", abs_loss_reductions.shape)\n",
    "print(\"acc_rel_loss_reductions:\", acc_rel_loss_reductions.shape)"
   ]
  },
  {
   "cell_type": "code",
   "execution_count": 72,
   "id": "3df1b84d",
   "metadata": {},
   "outputs": [
    {
     "data": {
      "image/png": "[encoded data removed]",
      "text/plain": [
       "<Figure size 576x288 with 2 Axes>"
      ]
     },
     "metadata": {
      "needs_background": "light"
     },
     "output_type": "display_data"
    }
   ],
   "source": [
    "## range_25_999, relevance_2: TRAINING samples!\n",
    "# Include 120 samples, 60 from both edges of the time line. (5 samples crashed!)\n",
    "# patch_size = 1\n",
    "# max_patch_num = 184\n",
    "# max_acc_rel_loss_reduction = 1.0\n",
    "\n",
    "# Compute mean of rel. loss reduction maps, over desired number of considered validation samples:\n",
    "mean_rel_loss_reduction_map = np.mean(rel_loss_reduction_maps[:n_samples],axis=0)\n",
    "\n",
    "# Plot resulting mean rel. loss reduction map as heatmap:        \n",
    "fig, ax = plt.subplots(figsize=(8, 4))\n",
    "im = plt.imshow(mean_rel_loss_reduction_map, cmap=\"coolwarm\", interpolation='nearest', vmax=0.003)\n",
    "cbar = plt.colorbar(im)\n",
    "cbar.set_label('rel. loss reduction', fontsize=14)\n",
    "plt.title('Mean rel. loss red. map, with patch size '+str(patch_size)+', '+str(n_samples)+' val. samples', fontsize=14)\n",
    "plt.xlabel('Longitude [°E]', fontsize=14)\n",
    "plt.ylabel('Latitude [°N]', fontsize=14)\n",
    "plt.xticks(np.arange(0, 192, step=32), [0, 60, 120, 180, 240, 300], fontsize=12)\n",
    "plt.yticks([5, 15, 26, 37, 47, 58, 69, 80, 90], [80, 60, 40, 20, 0, -20, -40, -60, -80], fontsize=12)\n",
    "plt.show()"
   ]
  },
  {
   "cell_type": "markdown",
   "id": "897b88a7",
   "metadata": {},
   "source": [
    "### Clustering with GMM to find optimal masks"
   ]
  },
  {
   "cell_type": "markdown",
   "id": "0bd3cf49",
   "metadata": {},
   "source": [
    "#### 99.9% missing"
   ]
  },
  {
   "cell_type": "code",
   "execution_count": 73,
   "id": "1c1cafeb",
   "metadata": {},
   "outputs": [
    {
     "name": "stdout",
     "output_type": "stream",
     "text": [
      "non-zero entries in mean rel. loss reduction map:  4315\n",
      "number of xyz-tuples representing non-zero entries in mean rel. loss reduction map:  762\n"
     ]
    }
   ],
   "source": [
    "# Look for number of grid points in mean rel. loss reduction map with non-zero entry:\n",
    "print(\"non-zero entries in mean rel. loss reduction map: \", np.sum(mean_rel_loss_reduction_map!=0))\n",
    "\n",
    "## Start with 3D clustering of x/y positions and its rel. loss reduction (z) for non-zero entries:\n",
    "## Optionally cut of noise in mean rel. loss reduction map:\n",
    "\n",
    "# Set threshold:\n",
    "noise_threshold = 0.0001\n",
    "\n",
    "# Compute max. rel. loss reduction, for scaling of z-component:\n",
    "max_rel_loss_red = np.max(mean_rel_loss_reduction_map)\n",
    "\n",
    "# Create tuples of x/y/z positions:\n",
    "xyz = []\n",
    "\n",
    "# Loop over longitude:\n",
    "for x in range(n_lon):\n",
    "    \n",
    "    # Loop over latitude:\n",
    "    for y in range(n_lat):\n",
    "        \n",
    "        # Check for non-zero entry in mean rel. loss reduction map:\n",
    "        if mean_rel_loss_reduction_map[y,x] > noise_threshold:\n",
    "            \n",
    "#         # Alternatively check for grid points, that exceed threshold in patch_counts:\n",
    "#         if patch_counts_2D[y,x] > 5:\n",
    "            \n",
    "            # Store xyz-tuple, scaled to [0,1] in either dimension:\n",
    "            xyz.append([x/(n_lon-1), y/(n_lat-1), mean_rel_loss_reduction_map[y,x]/max_rel_loss_red])\n",
    "\n",
    "# Convert list of xyz-tuples to np.array:\n",
    "xyz = np.array(xyz)\n",
    "\n",
    "# Output number of obtained tuples:\n",
    "print(\"number of xyz-tuples representing non-zero entries in mean rel. loss reduction map: \", len(xyz))\n",
    "\n",
    "# Get clusters from GMM algorithms with pre-specified number of clusters = 10 (=0.1% of valid grid points for RW sst grid).\n",
    "# Note: Only use positional features (lat and lon), omit mean rel. loss reduction as feature:\n",
    "GMM_999 = GaussianMixture(n_components=10, random_state=0).fit(xyz[:,:2])\n",
    "\n",
    "# Get clusters:\n",
    "GMM_999_clusters = GMM_999.predict(xyz[:,:2])"
   ]
  },
  {
   "cell_type": "code",
   "execution_count": 74,
   "id": "c174e76f",
   "metadata": {},
   "outputs": [],
   "source": [
    "## Convert obtained cluster means to real world lat/lon scales:\n",
    "\n",
    "# Note: sst real world fields come on 89 x 180 lat-lon-grid. Truncated to 80 x 176, to make them fit to U-Net with 5 convolutions.\n",
    "# For rescaling, need original dimensions, to transfer grid correctly.\n",
    "n_lat_realworld = 89\n",
    "n_lon_realworld = 180\n",
    "\n",
    "# Initialize storage:\n",
    "cluster_means_999_GMM = np.zeros(GMM_999.means_.shape).astype(int)\n",
    "\n",
    "# Unscale latitude and longitude dimensions:\n",
    "cluster_means_999_GMM[:,0] = np.round(GMM_999.means_[:,0]*(n_lon_realworld-1),0).astype(int)\n",
    "cluster_means_999_GMM[:,1] = np.round(GMM_999.means_[:,1]*(n_lat_realworld-1),0).astype(int)"
   ]
  },
  {
   "cell_type": "code",
   "execution_count": 78,
   "id": "858ec930",
   "metadata": {},
   "outputs": [
    {
     "data": {
      "image/png": "[encoded data removed]",
      "text/plain": [
       "<Figure size 576x288 with 2 Axes>"
      ]
     },
     "metadata": {
      "needs_background": "light"
     },
     "output_type": "display_data"
    }
   ],
   "source": [
    "## Create optimal mask from cluster means:\n",
    "\n",
    "# Initialize two-dimensional boolean mask of FALSE, dimension (n_lat, n_lon):\n",
    "mask_999_GMM = (np.zeros((n_lat_realworld,n_lon_realworld))!=0)\n",
    "\n",
    "# Loop over cluster centers:\n",
    "for xyz in cluster_means_999_GMM:\n",
    "    \n",
    "    # Set grid points to True:\n",
    "    mask_999_GMM[xyz[1],xyz[0]]=True\n",
    "\n",
    "# Truncate mask to fit dimensions, used to train models:\n",
    "mask_999_GMM = mask_999_GMM[5:-4,:-4]\n",
    "\n",
    "# Manually shift single grid points, to avoid placement over land:\n",
    "mask_999_GMM[8,16]=False\n",
    "mask_999_GMM[3,16]=True\n",
    "\n",
    "# Plot optimal mask:\n",
    "fig, ax = plt.subplots(figsize=(8, 4))\n",
    "im = plt.imshow(mask_999_GMM, cmap=\"Greys\", interpolation='nearest')#, vmax=0.00022)\n",
    "cbar = plt.colorbar(im)\n",
    "cbar.set_label('rel. loss reduction', fontsize=14)\n",
    "plt.title('Optimal mask with top 10 grid points, 99.9% missing values on RW grid', fontsize=14)\n",
    "plt.xlabel('Longitude [°E]', fontsize=14)\n",
    "plt.ylabel('Latitude [°N]', fontsize=14)\n",
    "plt.xticks(np.arange(0, 176, step=30), [0, 60, 120, 180, 240, 300], fontsize=12)\n",
    "plt.yticks(np.arange(4, 88, step=10), [80, 60, 40, 20, 0, -20, -40, -60, -80], fontsize=12)\n",
    "plt.show()"
   ]
  },
  {
   "cell_type": "code",
   "execution_count": 79,
   "id": "2a3437ee",
   "metadata": {},
   "outputs": [
    {
     "name": "stdout",
     "output_type": "stream",
     "text": [
      "GitGeomar/marco-landt-hayen/reconstruct_missing_data_results/unet_4conv_sst_FOCI_variable_range_25_999_factor_3_final/relevance_2\n"
     ]
    }
   ],
   "source": [
    "# Set path to store optimal missing masks:\n",
    "path_to_store_masks = Path(\n",
    "    'GitGeomar/marco-landt-hayen/reconstruct_missing_data_results/'+model_config+'_'+feature_short+'_'+source+'_'+\n",
    "    mask_type+'_'+missing_type+'_factor_'+str(augmentation_factor)+run+exp_name)\n",
    "\n",
    "print(path_to_store_masks)"
   ]
  },
  {
   "cell_type": "code",
   "execution_count": 80,
   "id": "c059c98f",
   "metadata": {},
   "outputs": [],
   "source": [
    "## Store masks, to re-use in batch:\n",
    "#np.save(path_to_store_masks / \"optimal_sampling_mask_999_realworld_noise_2.npy\", mask_999_GMM)"
   ]
  },
  {
   "cell_type": "markdown",
   "id": "95a4033b",
   "metadata": {},
   "source": [
    "#### 99% missing"
   ]
  },
  {
   "cell_type": "code",
   "execution_count": 58,
   "id": "07100469",
   "metadata": {},
   "outputs": [
    {
     "name": "stdout",
     "output_type": "stream",
     "text": [
      "non-zero entries in mean rel. loss reduction map:  4315\n",
      "noise threshold: 0.0\n",
      "number of xyz-tuples representing non-zero entries in mean rel. loss reduction map:  4315\n"
     ]
    },
    {
     "data": {
      "image/png": "[encoded data removed]",
      "text/plain": [
       "<Figure size 576x288 with 1 Axes>"
      ]
     },
     "metadata": {
      "needs_background": "light"
     },
     "output_type": "display_data"
    }
   ],
   "source": [
    "# Look for number of grid points in mean rel. loss reduction map with non-zero entry:\n",
    "print(\"non-zero entries in mean rel. loss reduction map: \", np.sum(mean_rel_loss_reduction_map!=0))\n",
    "\n",
    "## Start with 3D clustering of x/y positions and its rel. loss reduction (z) for non-zero entries:\n",
    "## Optionally cut of noise in mean rel. loss reduction map:\n",
    "\n",
    "# Set threshold:\n",
    "noise_threshold = 0.0\n",
    "\n",
    "print('noise threshold:',noise_threshold)\n",
    "\n",
    "# Compute max. rel. loss reduction, for scaling of z-component:\n",
    "max_rel_loss_red = np.max(mean_rel_loss_reduction_map)\n",
    "\n",
    "# Create tuples of x/y/z positions:\n",
    "xyz = []\n",
    "\n",
    "# Loop over longitude:\n",
    "for x in range(n_lon):\n",
    "    \n",
    "    # Loop over latitude:\n",
    "    for y in range(n_lat):\n",
    "        \n",
    "        # Check for non-zero entry in mean rel. loss reduction map:\n",
    "        if mean_rel_loss_reduction_map[y,x] > noise_threshold:\n",
    "            \n",
    "#         # Alternatively check for grid points, that exceed threshold in patch_counts:\n",
    "#         if patch_counts_2D[y,x] > 5:\n",
    "            \n",
    "            # Store xyz-tuple, scaled to [0,1] in either dimension:\n",
    "            xyz.append([x/(n_lon-1), y/(n_lat-1), mean_rel_loss_reduction_map[y,x]/max_rel_loss_red])\n",
    "\n",
    "# Convert list of xyz-tuples to np.array:\n",
    "xyz = np.array(xyz)\n",
    "\n",
    "# Output number of obtained tuples:\n",
    "print(\"number of xyz-tuples representing non-zero entries in mean rel. loss reduction map: \", len(xyz))\n",
    "\n",
    "# Get clusters from GMM algorithms with pre-specified number of clusters = 99 (=1% of valid grid points for RW sst grid).\n",
    "# Note: Only use positional features (lat and lon), omit mean rel. loss reduction as feature:\n",
    "GMM_99 = GaussianMixture(n_components=99, random_state=0).fit(xyz[:,:2])\n",
    "\n",
    "# Get clusters:\n",
    "GMM_99_clusters = GMM_99.predict(xyz[:,:2])\n",
    "\n",
    "## Convert obtained cluster means to real world lat/lon scales:\n",
    "\n",
    "# Note: sst real world fields come on 89 x 180 lat-lon-grid. Truncated to 80 x 176, to make them fit to U-Net with 5 convolutions.\n",
    "# For rescaling, need original dimensions, to transfer grid correctly.\n",
    "n_lat_realworld = 89\n",
    "n_lon_realworld = 180\n",
    "\n",
    "# Initialize storage:\n",
    "cluster_means_99_GMM = np.zeros(GMM_99.means_.shape).astype(int)\n",
    "\n",
    "# Unscale latitude and longitude dimensions:\n",
    "cluster_means_99_GMM[:,0] = np.round(GMM_99.means_[:,0]*(n_lon_realworld-1),0).astype(int)\n",
    "cluster_means_99_GMM[:,1] = np.round(GMM_99.means_[:,1]*(n_lat_realworld-1),0).astype(int)\n",
    "\n",
    "## Create optimal mask from cluster means:\n",
    "\n",
    "# Initialize two-dimensional boolean mask of FALSE, dimension (n_lat, n_lon):\n",
    "mask_99_GMM = (np.zeros((n_lat_realworld,n_lon_realworld))!=0)\n",
    "\n",
    "# Loop over cluster centers:\n",
    "for xyz in cluster_means_99_GMM:\n",
    "    \n",
    "    # Set grid points to True:\n",
    "    mask_99_GMM[xyz[1],xyz[0]]=True\n",
    "\n",
    "# Truncate mask to fit dimensions, used to train models:\n",
    "mask_99_GMM = mask_99_GMM[5:-4,:-4]\n",
    "\n",
    "# Plot optimal mask:\n",
    "fig, ax = plt.subplots(figsize=(8, 4))\n",
    "im = plt.imshow(mask_99_GMM, cmap=\"Greys\", interpolation='nearest')#, vmax=0.00022)\n",
    "#cbar = plt.colorbar(im)\n",
    "#cbar.set_label('rel. loss reduction', fontsize=14)\n",
    "plt.title('Optimal mask with top 99 grid points, 99% missing values on RW grid', fontsize=14)\n",
    "plt.xlabel('Longitude [°E]', fontsize=14)\n",
    "plt.ylabel('Latitude [°N]', fontsize=14)\n",
    "plt.xticks(np.arange(0, 176, step=30), [0, 60, 120, 180, 240, 300], fontsize=12)\n",
    "plt.yticks(np.arange(4, 88, step=10), [80, 60, 40, 20, 0, -20, -40, -60, -80], fontsize=12)\n",
    "plt.show()"
   ]
  },
  {
   "cell_type": "code",
   "execution_count": 59,
   "id": "bca4c2f1",
   "metadata": {},
   "outputs": [
    {
     "name": "stdout",
     "output_type": "stream",
     "text": [
      "GitGeomar/marco-landt-hayen/reconstruct_missing_data_results/unet_4conv_sst_FOCI_variable_range_25_999_factor_3_final/relevance_2\n"
     ]
    }
   ],
   "source": [
    "# Set path to store optimal missing masks:\n",
    "path_to_store_masks = Path(\n",
    "    'GitGeomar/marco-landt-hayen/reconstruct_missing_data_results/'+model_config+'_'+feature_short+'_'+source+'_'+\n",
    "    mask_type+'_'+missing_type+'_factor_'+str(augmentation_factor)+run+exp_name)\n",
    "\n",
    "print(path_to_store_masks)"
   ]
  },
  {
   "cell_type": "code",
   "execution_count": 60,
   "id": "d26262e5",
   "metadata": {},
   "outputs": [],
   "source": [
    "## Store masks, to re-use in batch:\n",
    "#np.save(path_to_store_masks / \"optimal_sampling_mask_99_realworld_noise_2.npy\", mask_99_GMM)"
   ]
  },
  {
   "cell_type": "markdown",
   "id": "af325e05",
   "metadata": {},
   "source": [
    "#### 95% missing"
   ]
  },
  {
   "cell_type": "code",
   "execution_count": 61,
   "id": "e1465044",
   "metadata": {},
   "outputs": [
    {
     "name": "stdout",
     "output_type": "stream",
     "text": [
      "non-zero entries in mean rel. loss reduction map:  4315\n",
      "noise threshold: 0.0\n",
      "number of xyz-tuples representing non-zero entries in mean rel. loss reduction map:  4315\n"
     ]
    },
    {
     "data": {
      "image/png": "[encoded data removed]",
      "text/plain": [
       "<Figure size 576x288 with 1 Axes>"
      ]
     },
     "metadata": {
      "needs_background": "light"
     },
     "output_type": "display_data"
    }
   ],
   "source": [
    "# Look for number of grid points in mean rel. loss reduction map with non-zero entry:\n",
    "print(\"non-zero entries in mean rel. loss reduction map: \", np.sum(mean_rel_loss_reduction_map!=0))\n",
    "\n",
    "## Start with 3D clustering of x/y positions and its rel. loss reduction (z) for non-zero entries:\n",
    "## Optionally cut of noise in mean rel. loss reduction map:\n",
    "\n",
    "# Set threshold:\n",
    "noise_threshold = 0.0\n",
    "\n",
    "print('noise threshold:',noise_threshold)\n",
    "\n",
    "# Compute max. rel. loss reduction, for scaling of z-component:\n",
    "max_rel_loss_red = np.max(mean_rel_loss_reduction_map)\n",
    "\n",
    "# Create tuples of x/y/z positions:\n",
    "xyz = []\n",
    "\n",
    "# Loop over longitude:\n",
    "for x in range(n_lon):\n",
    "    \n",
    "    # Loop over latitude:\n",
    "    for y in range(n_lat):\n",
    "        \n",
    "        # Check for non-zero entry in mean rel. loss reduction map:\n",
    "        if mean_rel_loss_reduction_map[y,x] > noise_threshold:\n",
    "            \n",
    "#         # Alternatively check for grid points, that exceed threshold in patch_counts:\n",
    "#         if patch_counts_2D[y,x] > 5:\n",
    "            \n",
    "            # Store xyz-tuple, scaled to [0,1] in either dimension:\n",
    "            xyz.append([x/(n_lon-1), y/(n_lat-1), mean_rel_loss_reduction_map[y,x]/max_rel_loss_red])\n",
    "\n",
    "# Convert list of xyz-tuples to np.array:\n",
    "xyz = np.array(xyz)\n",
    "\n",
    "# Output number of obtained tuples:\n",
    "print(\"number of xyz-tuples representing non-zero entries in mean rel. loss reduction map: \", len(xyz))\n",
    "\n",
    "# Get clusters from GMM algorithms with pre-specified number of clusters = 496 (=5% of valid grid points for RW sst grid).\n",
    "# Note: Only use positional features (lat and lon), omit mean rel. loss reduction as feature:\n",
    "GMM_95 = GaussianMixture(n_components=496, random_state=0).fit(xyz[:,:2])\n",
    "\n",
    "# Get clusters:\n",
    "GMM_95_clusters = GMM_95.predict(xyz[:,:2])\n",
    "\n",
    "## Convert obtained cluster means to real world lat/lon scales:\n",
    "\n",
    "# Note: sst real world fields come on 89 x 180 lat-lon-grid. Truncated to 80 x 176, to make them fit to U-Net with 5 convolutions.\n",
    "# For rescaling, need original dimensions, to transfer grid correctly.\n",
    "n_lat_realworld = 89\n",
    "n_lon_realworld = 180\n",
    "\n",
    "# Initialize storage:\n",
    "cluster_means_95_GMM = np.zeros(GMM_95.means_.shape).astype(int)\n",
    "\n",
    "# Unscale latitude and longitude dimensions:\n",
    "cluster_means_95_GMM[:,0] = np.round(GMM_95.means_[:,0]*(n_lon_realworld-1),0).astype(int)\n",
    "cluster_means_95_GMM[:,1] = np.round(GMM_95.means_[:,1]*(n_lat_realworld-1),0).astype(int)\n",
    "\n",
    "## Create optimal mask from cluster means:\n",
    "\n",
    "# Initialize two-dimensional boolean mask of FALSE, dimension (n_lat, n_lon):\n",
    "mask_95_GMM = (np.zeros((n_lat_realworld,n_lon_realworld))!=0)\n",
    "\n",
    "# Loop over cluster centers:\n",
    "for xyz in cluster_means_95_GMM:\n",
    "    \n",
    "    # Set grid points to True:\n",
    "    mask_95_GMM[xyz[1],xyz[0]]=True\n",
    "\n",
    "# Truncate mask to fit dimensions, used to train models: Omit last row and last four columns, to fit requirements for U-Net:\n",
    "mask_95_GMM = mask_95_GMM[5:-4,:-4]\n",
    "\n",
    "# Plot optimal mask:\n",
    "fig, ax = plt.subplots(figsize=(8, 4))\n",
    "im = plt.imshow(mask_95_GMM, cmap=\"Greys\", interpolation='nearest')#, vmax=0.00022)\n",
    "#cbar = plt.colorbar(im)\n",
    "#cbar.set_label('rel. loss reduction', fontsize=14)\n",
    "plt.title('Optimal mask with top 496 grid points, 95% missing values on RW grid', fontsize=14)\n",
    "plt.xlabel('Longitude [°E]', fontsize=14)\n",
    "plt.ylabel('Latitude [°N]', fontsize=14)\n",
    "plt.xticks(np.arange(0, 176, step=30), [0, 60, 120, 180, 240, 300], fontsize=12)\n",
    "plt.yticks(np.arange(4, 88, step=10), [80, 60, 40, 20, 0, -20, -40, -60, -80], fontsize=12)\n",
    "plt.show()"
   ]
  },
  {
   "cell_type": "code",
   "execution_count": 62,
   "id": "0bf981ce",
   "metadata": {},
   "outputs": [
    {
     "name": "stdout",
     "output_type": "stream",
     "text": [
      "GitGeomar/marco-landt-hayen/reconstruct_missing_data_results/unet_4conv_sst_FOCI_variable_range_25_999_factor_3_final/relevance_2\n"
     ]
    }
   ],
   "source": [
    "# Set path to store optimal missing masks:\n",
    "path_to_store_masks = Path(\n",
    "    'GitGeomar/marco-landt-hayen/reconstruct_missing_data_results/'+model_config+'_'+feature_short+'_'+source+'_'+\n",
    "    mask_type+'_'+missing_type+'_factor_'+str(augmentation_factor)+run+exp_name)\n",
    "\n",
    "print(path_to_store_masks)"
   ]
  },
  {
   "cell_type": "code",
   "execution_count": 63,
   "id": "6764cbcb",
   "metadata": {},
   "outputs": [],
   "source": [
    "## Store masks, to re-use in batch:\n",
    "np.save(path_to_store_masks / \"optimal_sampling_mask_95_realworld_noise_2.npy\", mask_95_GMM)"
   ]
  },
  {
   "cell_type": "code",
   "execution_count": null,
   "id": "df3c2570",
   "metadata": {},
   "outputs": [],
   "source": []
  }
 ],
 "metadata": {
  "kernelspec": {
   "display_name": "Python 3 (ipykernel)",
   "language": "python",
   "name": "python3"
  },
  "language_info": {
   "codemirror_mode": {
    "name": "ipython",
    "version": 3
   },
   "file_extension": ".py",
   "mimetype": "text/x-python",
   "name": "python",
   "nbconvert_exporter": "python",
   "pygments_lexer": "ipython3",
   "version": "3.8.8"
  }
 },
 "nbformat": 4,
 "nbformat_minor": 5
}
