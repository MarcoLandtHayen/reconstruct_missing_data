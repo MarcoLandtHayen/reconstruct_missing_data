{
 "cells": [
  {
   "cell_type": "markdown",
   "id": "a34c31da",
   "metadata": {},
   "source": [
    "### First experiments with U-Net on FOCI sss data\n",
    "\n",
    "Trained model with **variable mask** and **augmentation factor 3** on samples with rel. amount of missing values in the **range of [0,1]**.\n",
    "\n",
    "Use this single model to find the **optimized sampling strategy** in a brute-force manner."
   ]
  },
  {
   "cell_type": "code",
   "execution_count": 1,
   "id": "139c46d3",
   "metadata": {},
   "outputs": [],
   "source": [
    "import os\n",
    "import sys\n",
    "sys.path.append('../reconstruct_missing_data')\n",
    "\n",
    "from pathlib import Path\n",
    "from json import dump, load\n",
    "\n",
    "import numpy as np\n",
    "import pandas as pd\n",
    "from sklearn.datasets import make_blobs\n",
    "from sklearn.cluster import KMeans\n",
    "from sklearn.mixture import GaussianMixture\n",
    "from matplotlib import pyplot as plt\n",
    "\n",
    "from data_loading import find_data_files, load_data_set, get_anomalies, clone_data, create_missing_mask, split_and_scale_data\n",
    "from models import build_unet_4conv\n",
    "from relevance import compute_single_relevance_map\n",
    "\n",
    "import tensorflow as tf\n",
    "from tensorflow.keras import Sequential\n",
    "from tensorflow.keras.models import Model\n",
    "from tensorflow.keras.layers import Input, Dense, Lambda, concatenate, Conv1D, Conv2D, MaxPool2D, UpSampling2D, BatchNormalization, LeakyReLU\n",
    "from tensorflow.keras.optimizers import Adam, SGD\n",
    "import tensorflow.keras.initializers as tfi\n",
    "import tensorflow.keras.regularizers as tfr\n",
    "from tensorflow.keras.utils import plot_model\n",
    "\n",
    "# Suppress Tensorflow warnings\n",
    "tf.compat.v1.logging.set_verbosity(tf.compat.v1.logging.ERROR)"
   ]
  },
  {
   "cell_type": "code",
   "execution_count": 2,
   "id": "01940557",
   "metadata": {},
   "outputs": [],
   "source": [
    "# Set working directory, according to working directory in scripts:\n",
    "os.chdir('/gxfs_work1/geomar/smomw511')"
   ]
  },
  {
   "cell_type": "code",
   "execution_count": 6,
   "id": "fbb5cd96",
   "metadata": {},
   "outputs": [
    {
     "name": "stdout",
     "output_type": "stream",
     "text": [
      "GitGeomar/marco-landt-hayen/reconstruct_missing_data_results/unet_4conv_sss_FOCI_variable_range_0_100_factor_3_final/relevance_1\n",
      "\n",
      "number of samples:  240\n",
      "patch size:  1\n",
      "max. number of patches to include:  50\n",
      "max. acc. rel. loss as threshold:  0.9\n"
     ]
    }
   ],
   "source": [
    "## Reload parameters and results for experiment:\n",
    "\n",
    "# Specify experiment:\n",
    "model_config = 'unet_4conv'\n",
    "feature = 'sea-surface-salinity' # Choose either 'sea-level-pressure' or 'sea-surface-temperature' as feature.\n",
    "feature_short = 'sss' # Free to set short name, to store results, e.g. 'slp' and 'sst'.\n",
    "source = 'FOCI' # Choose Earth System Model, either 'FOCI' or 'CESM'.\n",
    "mask_type = 'variable'\n",
    "missing_type = 'range_0_100'\n",
    "augmentation_factor = 3\n",
    "run = '_final'\n",
    "exp_name = '/relevance_1'\n",
    "\n",
    "# Get path to stored results:\n",
    "path_to_stored_results = Path('GitGeomar/marco-landt-hayen/reconstruct_missing_data_results/'+model_config+'_'+feature_short+'_'+source+'_'\n",
    "                      +mask_type+'_'+missing_type+'_factor_'+str(augmentation_factor)+run+exp_name)\n",
    "\n",
    "print(path_to_stored_results)\n",
    "\n",
    "# Reload parameters relevant for data pre-processing for this experiment:\n",
    "with open(path_to_stored_results / 'parameters.json', 'r') as f:\n",
    "    parameters=load(f)\n",
    "\n",
    "\n",
    "train_val_split = parameters['train_val_split']\n",
    "scale_to = parameters['scale_to']\n",
    "n_samples = parameters['n_samples']\n",
    "patch_size = parameters['patch_size']\n",
    "max_patch_num = parameters['max_patch_num']\n",
    "max_acc_rel_loss_reduction = parameters['max_acc_rel_loss_reduction']\n",
    "\n",
    "# Print parameters:\n",
    "print(\"\\nnumber of samples: \", n_samples)\n",
    "print(\"patch size: \", patch_size)\n",
    "print(\"max. number of patches to include: \", max_patch_num)\n",
    "print(\"max. acc. rel. loss as threshold: \", max_acc_rel_loss_reduction)"
   ]
  },
  {
   "cell_type": "code",
   "execution_count": 5,
   "id": "d336296a",
   "metadata": {},
   "outputs": [],
   "source": [
    "# ## For the following individual list of samples:\n",
    "\n",
    "# relevance_3_samples = [\n",
    "#     0,1,2,3,4,5,6,7,8,9,10,11,12,13,14,15,16,17,18,19,20,21,23,24,25,26,27,28,29,30,31,32,34,35,36,38,39,\n",
    "#     40,41,42,44,45,47,48,49,50,51,52,53,54,55,56,57,58,59,9530,9531,9532,9533,9534,9535,9536,9537,9538,9539,\n",
    "#     9540,9541,9542,9543,9544,9545,9546,9548,9549,9550,9551,9553,9554,9555,9556,9557,9558,9559,9560,9561,9562,\n",
    "#     9563,9564,9565,9566,9567,9568,9569,9570,9571,9572,9573,9574,9575,9576,9577,9578,9579,9580,9581,9582,9583,\n",
    "#     9584,9585,9586,9587,9588,9589\n",
    "# ]\n",
    "\n",
    "# # Combine results:\n",
    "# for n in relevance_3_samples:\n",
    "\n",
    "#     ## rel_loss_reduction_maps:\n",
    "    \n",
    "#     # Define filename, according to sample number.\n",
    "#     # Reload result for sample.\n",
    "#     # Concatenate result with all results.  \n",
    "#     # Define filename for all samples.\n",
    "#     # Save results for all samples.\n",
    "#     file_name_rel_loss_reduction_map = \"rel_loss_reduction_map_sample_\"+str(n)+\".npy\"\n",
    "#     rel_loss_reduction_map = np.load(path_to_stored_results / file_name_rel_loss_reduction_map)\n",
    "#     # Initialize storage for sample 0:\n",
    "#     if n == 0:\n",
    "#         rel_loss_reduction_maps = np.expand_dims(rel_loss_reduction_map,axis=0)\n",
    "#     else:\n",
    "#         rel_loss_reduction_maps = np.concatenate([rel_loss_reduction_maps,np.expand_dims(rel_loss_reduction_map,axis=0)])\n",
    "# file_name_rel_loss_reduction_maps = \"rel_loss_reduction_maps.npy\"\n",
    "# np.save(path_to_stored_results / file_name_rel_loss_reduction_maps, rel_loss_reduction_maps)\n",
    "    \n",
    "# # Combine results:\n",
    "# for n in relevance_3_samples:  \n",
    "\n",
    "#     ## patch_orders:\n",
    "    \n",
    "#     # Define filename, according to sample number.\n",
    "#     # Reload result for sample.\n",
    "#     # Concatenate result with all results.  \n",
    "#     # Define filename for all samples.\n",
    "#     # Save results for all samples.\n",
    "#     file_name_patch_order = \"patch_order_sample_\"+str(n)+\".npy\"\n",
    "#     patch_order = np.load(path_to_stored_results / file_name_patch_order)\n",
    "#     # Initialize storage for sample 0:\n",
    "#     if n == 0:\n",
    "#         patch_orders = np.expand_dims(patch_order,axis=0)\n",
    "#     else:\n",
    "#         patch_orders = np.concatenate([patch_orders,np.expand_dims(patch_order,axis=0)])\n",
    "# file_name_patch_orders = \"patch_orders.npy\"\n",
    "# np.save(path_to_stored_results / file_name_patch_orders, patch_orders)\n",
    "     \n",
    "# # Combine results:\n",
    "# for n in relevance_3_samples:  \n",
    "\n",
    "#     ## abs_loss_reduction:\n",
    "    \n",
    "#     # Define filename, according to sample number.\n",
    "#     # Reload result for sample.\n",
    "#     # Concatenate result with all results.  \n",
    "#     # Define filename for all samples.\n",
    "#     # Save results for all samples.\n",
    "#     file_name_abs_loss_reduction = \"abs_loss_reduction_sample_\"+str(n)+\".npy\"\n",
    "#     abs_loss_reduction = np.load(path_to_stored_results / file_name_abs_loss_reduction)\n",
    "#     # Initialize storage for sample 0:\n",
    "#     if n == 0:\n",
    "#         abs_loss_reductions = np.expand_dims(abs_loss_reduction,axis=0)\n",
    "#     else:\n",
    "#         abs_loss_reductions = np.concatenate([abs_loss_reductions,np.expand_dims(abs_loss_reduction,axis=0)])\n",
    "# file_name_abs_loss_reductions = \"abs_loss_reductions.npy\"\n",
    "# np.save(path_to_stored_results / file_name_abs_loss_reductions, abs_loss_reductions)\n",
    "    \n",
    "# # Combine results:\n",
    "# for n in relevance_3_samples:  \n",
    "\n",
    "#     ## rel_loss_reduction:\n",
    "    \n",
    "#     # Define filename, according to sample number.\n",
    "#     # Reload result for sample.\n",
    "#     # Concatenate result with all results.  \n",
    "#     # Define filename for all samples.\n",
    "#     # Save results for all samples.\n",
    "#     file_name_rel_loss_reduction = \"rel_loss_reduction_sample_\"+str(n)+\".npy\"\n",
    "#     rel_loss_reduction = np.load(path_to_stored_results / file_name_rel_loss_reduction)\n",
    "#     # Initialize storage for sample 0:\n",
    "#     if n == 0:\n",
    "#         rel_loss_reductions = np.expand_dims(rel_loss_reduction,axis=0)\n",
    "#     else:    \n",
    "#         rel_loss_reductions = np.concatenate([rel_loss_reductions,np.expand_dims(rel_loss_reduction,axis=0)])\n",
    "# file_name_rel_loss_reductions = \"rel_loss_reductions.npy\"\n",
    "# np.save(path_to_stored_results / file_name_rel_loss_reductions, rel_loss_reductions)\n",
    "    \n",
    "# # Combine results:\n",
    "# for n in relevance_3_samples:   \n",
    "\n",
    "#     ## acc_rel_loss_reduction:\n",
    "    \n",
    "#     # Define filename, according to sample number.\n",
    "#     # Reload result for sample.\n",
    "#     # Concatenate result with all results.  \n",
    "#     # Define filename for all samples.\n",
    "#     # Save results for all samples.\n",
    "#     file_name_acc_rel_loss_reduction = \"acc_rel_loss_reduction_sample_\"+str(n)+\".npy\"\n",
    "#     acc_rel_loss_reduction = np.load(path_to_stored_results / file_name_acc_rel_loss_reduction)\n",
    "#     # Initialize storage for sample 0:\n",
    "#     if n == 0:\n",
    "#         acc_rel_loss_reductions = np.expand_dims(acc_rel_loss_reduction,axis=0)\n",
    "#     else:\n",
    "#         acc_rel_loss_reductions = np.concatenate([acc_rel_loss_reductions,np.expand_dims(acc_rel_loss_reduction,axis=0)])\n",
    "# file_name_acc_rel_loss_reductions = \"acc_rel_loss_reductions.npy\"\n",
    "# np.save(path_to_stored_results / file_name_acc_rel_loss_reductions, acc_rel_loss_reductions)\n",
    "\n",
    "# print(\"rel_loss_reduction_maps:\", rel_loss_reduction_maps.shape)\n",
    "# print(\"patch_orders:\", patch_orders.shape)\n",
    "# print(\"rel_loss_reductions:\", rel_loss_reductions.shape)\n",
    "# print(\"abs_loss_reductions:\", abs_loss_reductions.shape)\n",
    "# print(\"acc_rel_loss_reductions:\", acc_rel_loss_reductions.shape)"
   ]
  },
  {
   "cell_type": "code",
   "execution_count": 8,
   "id": "2e89487b",
   "metadata": {},
   "outputs": [
    {
     "name": "stdout",
     "output_type": "stream",
     "text": [
      "rel_loss_reduction_maps: (120, 96, 192)\n",
      "patch_orders: (120, 18432)\n",
      "rel_loss_reductions: (120, 18432)\n",
      "abs_loss_reductions: (120, 18432)\n",
      "acc_rel_loss_reductions: (120, 18432)\n"
     ]
    }
   ],
   "source": [
    "# ## For complete list of samples:\n",
    "\n",
    "# start_at = 0\n",
    "# end_at = start_at + n_samples\n",
    "\n",
    "# # Combine results:\n",
    "# for n in np.arange(start_at,end_at): \n",
    "\n",
    "#     ## rel_loss_reduction_maps:\n",
    "    \n",
    "#     # Define filename, according to sample number.\n",
    "#     # Reload result for sample.\n",
    "#     # Concatenate result with all results.  \n",
    "#     # Define filename for all samples.\n",
    "#     # Save results for all samples.\n",
    "#     file_name_rel_loss_reduction_map = \"rel_loss_reduction_map_sample_\"+str(n)+\".npy\"\n",
    "#     rel_loss_reduction_map = np.load(path_to_stored_results / file_name_rel_loss_reduction_map)\n",
    "#     # Initialize storage for sample 0:\n",
    "#     if n == 0:\n",
    "#         rel_loss_reduction_maps = np.expand_dims(rel_loss_reduction_map,axis=0)\n",
    "#     else:\n",
    "#         rel_loss_reduction_maps = np.concatenate([rel_loss_reduction_maps,np.expand_dims(rel_loss_reduction_map,axis=0)])\n",
    "# file_name_rel_loss_reduction_maps = \"rel_loss_reduction_maps.npy\"\n",
    "# np.save(path_to_stored_results / file_name_rel_loss_reduction_maps, rel_loss_reduction_maps)\n",
    "    \n",
    "# # Combine results:\n",
    "# for n in np.arange(start_at,end_at):    \n",
    "\n",
    "#     ## patch_orders:\n",
    "    \n",
    "#     # Define filename, according to sample number.\n",
    "#     # Reload result for sample.\n",
    "#     # Concatenate result with all results.  \n",
    "#     # Define filename for all samples.\n",
    "#     # Save results for all samples.\n",
    "#     file_name_patch_order = \"patch_order_sample_\"+str(n)+\".npy\"\n",
    "#     patch_order = np.load(path_to_stored_results / file_name_patch_order)\n",
    "#     # Initialize storage for sample 0:\n",
    "#     if n == 0:\n",
    "#         patch_orders = np.expand_dims(patch_order,axis=0)\n",
    "#     else:\n",
    "#         patch_orders = np.concatenate([patch_orders,np.expand_dims(patch_order,axis=0)])\n",
    "# file_name_patch_orders = \"patch_orders.npy\"\n",
    "# np.save(path_to_stored_results / file_name_patch_orders, patch_orders)\n",
    "     \n",
    "# # Combine results:\n",
    "# for n in np.arange(start_at,end_at):   \n",
    "\n",
    "#     ## abs_loss_reduction:\n",
    "    \n",
    "#     # Define filename, according to sample number.\n",
    "#     # Reload result for sample.\n",
    "#     # Concatenate result with all results.  \n",
    "#     # Define filename for all samples.\n",
    "#     # Save results for all samples.\n",
    "#     file_name_abs_loss_reduction = \"abs_loss_reduction_sample_\"+str(n)+\".npy\"\n",
    "#     abs_loss_reduction = np.load(path_to_stored_results / file_name_abs_loss_reduction)\n",
    "#     # Initialize storage for sample 0:\n",
    "#     if n == 0:\n",
    "#         abs_loss_reductions = np.expand_dims(abs_loss_reduction,axis=0)\n",
    "#     else:\n",
    "#         abs_loss_reductions = np.concatenate([abs_loss_reductions,np.expand_dims(abs_loss_reduction,axis=0)])\n",
    "# file_name_abs_loss_reductions = \"abs_loss_reductions.npy\"\n",
    "# np.save(path_to_stored_results / file_name_abs_loss_reductions, abs_loss_reductions)\n",
    "    \n",
    "# # Combine results:\n",
    "# for n in np.arange(start_at,end_at):    \n",
    "\n",
    "#     ## rel_loss_reduction:\n",
    "    \n",
    "#     # Define filename, according to sample number.\n",
    "#     # Reload result for sample.\n",
    "#     # Concatenate result with all results.  \n",
    "#     # Define filename for all samples.\n",
    "#     # Save results for all samples.\n",
    "#     file_name_rel_loss_reduction = \"rel_loss_reduction_sample_\"+str(n)+\".npy\"\n",
    "#     rel_loss_reduction = np.load(path_to_stored_results / file_name_rel_loss_reduction)\n",
    "#     # Initialize storage for sample 0:\n",
    "#     if n == 0:\n",
    "#         rel_loss_reductions = np.expand_dims(rel_loss_reduction,axis=0)\n",
    "#     else:    \n",
    "#         rel_loss_reductions = np.concatenate([rel_loss_reductions,np.expand_dims(rel_loss_reduction,axis=0)])\n",
    "# file_name_rel_loss_reductions = \"rel_loss_reductions.npy\"\n",
    "# np.save(path_to_stored_results / file_name_rel_loss_reductions, rel_loss_reductions)\n",
    "    \n",
    "# # Combine results:\n",
    "# for n in np.arange(start_at,end_at):     \n",
    "\n",
    "#     ## acc_rel_loss_reduction:\n",
    "    \n",
    "#     # Define filename, according to sample number.\n",
    "#     # Reload result for sample.\n",
    "#     # Concatenate result with all results.  \n",
    "#     # Define filename for all samples.\n",
    "#     # Save results for all samples.\n",
    "#     file_name_acc_rel_loss_reduction = \"acc_rel_loss_reduction_sample_\"+str(n)+\".npy\"\n",
    "#     acc_rel_loss_reduction = np.load(path_to_stored_results / file_name_acc_rel_loss_reduction)\n",
    "#     # Initialize storage for sample 0:\n",
    "#     if n == 0:\n",
    "#         acc_rel_loss_reductions = np.expand_dims(acc_rel_loss_reduction,axis=0)\n",
    "#     else:\n",
    "#         acc_rel_loss_reductions = np.concatenate([acc_rel_loss_reductions,np.expand_dims(acc_rel_loss_reduction,axis=0)])\n",
    "# file_name_acc_rel_loss_reductions = \"acc_rel_loss_reductions.npy\"\n",
    "# np.save(path_to_stored_results / file_name_acc_rel_loss_reductions, acc_rel_loss_reductions)\n",
    "\n",
    "# print(\"rel_loss_reduction_maps:\", rel_loss_reduction_maps.shape)\n",
    "# print(\"patch_orders:\", patch_orders.shape)\n",
    "# print(\"rel_loss_reductions:\", rel_loss_reductions.shape)\n",
    "# print(\"abs_loss_reductions:\", abs_loss_reductions.shape)\n",
    "# print(\"acc_rel_loss_reductions:\", acc_rel_loss_reductions.shape)"
   ]
  },
  {
   "cell_type": "code",
   "execution_count": 11,
   "id": "5224aa42",
   "metadata": {},
   "outputs": [
    {
     "name": "stdout",
     "output_type": "stream",
     "text": [
      "rel_loss_reduction_maps: (240, 96, 192)\n",
      "patch_orders: (240, 18432)\n",
      "rel_loss_reductions: (240, 18432)\n",
      "abs_loss_reductions: (240, 18432)\n",
      "acc_rel_loss_reductions: (240, 18432)\n"
     ]
    }
   ],
   "source": [
    "# start_at = 9480\n",
    "# end_at = 9480+120\n",
    "\n",
    "# # Reload results for this experiment:\n",
    "# rel_loss_reduction_maps = np.load(path_to_stored_results / \"rel_loss_reduction_maps.npy\")\n",
    "# patch_orders = np.load(path_to_stored_results / \"patch_orders.npy\")\n",
    "# abs_loss_reductions = np.load(path_to_stored_results / \"abs_loss_reductions.npy\")\n",
    "# rel_loss_reductions = np.load(path_to_stored_results / \"rel_loss_reductions.npy\")\n",
    "# acc_rel_loss_reductions = np.load(path_to_stored_results / \"acc_rel_loss_reductions.npy\")\n",
    "\n",
    "# # Combine results:\n",
    "# for n in np.arange(start_at,end_at):    \n",
    "\n",
    "#     ## rel_loss_reduction_maps:\n",
    "    \n",
    "#     # Define filename, according to sample number.\n",
    "#     # Reload result for sample.\n",
    "#     # Concatenate result with all results.  \n",
    "#     # Define filename for all samples.\n",
    "#     # Save results for all samples.\n",
    "#     file_name_rel_loss_reduction_map = \"rel_loss_reduction_map_sample_\"+str(n)+\".npy\"\n",
    "#     rel_loss_reduction_map = np.load(path_to_stored_results / file_name_rel_loss_reduction_map)\n",
    "#     rel_loss_reduction_maps = np.concatenate([rel_loss_reduction_maps,np.expand_dims(rel_loss_reduction_map,axis=0)])\n",
    "# file_name_rel_loss_reduction_maps = \"rel_loss_reduction_maps_new.npy\"\n",
    "# np.save(path_to_stored_results / file_name_rel_loss_reduction_maps, rel_loss_reduction_maps)\n",
    "    \n",
    "# # Combine results:\n",
    "# for n in np.arange(start_at,end_at):     \n",
    "\n",
    "#     ## patch_orders:\n",
    "    \n",
    "#     # Define filename, according to sample number.\n",
    "#     # Reload result for sample.\n",
    "#     # Concatenate result with all results.  \n",
    "#     # Define filename for all samples.\n",
    "#     # Save results for all samples.\n",
    "#     file_name_patch_order = \"patch_order_sample_\"+str(n)+\".npy\"\n",
    "#     patch_order = np.load(path_to_stored_results / file_name_patch_order)\n",
    "#     patch_orders = np.concatenate([patch_orders,np.expand_dims(patch_order,axis=0)])\n",
    "# file_name_patch_orders = \"patch_orders_new.npy\"\n",
    "# np.save(path_to_stored_results / file_name_patch_orders, patch_orders)\n",
    "     \n",
    "# # Combine results:\n",
    "# for n in np.arange(start_at,end_at):     \n",
    "\n",
    "#     ## abs_loss_reduction:\n",
    "    \n",
    "#     # Define filename, according to sample number.\n",
    "#     # Reload result for sample.\n",
    "#     # Concatenate result with all results.  \n",
    "#     # Define filename for all samples.\n",
    "#     # Save results for all samples.\n",
    "#     file_name_abs_loss_reduction = \"abs_loss_reduction_sample_\"+str(n)+\".npy\"\n",
    "#     abs_loss_reduction = np.load(path_to_stored_results / file_name_abs_loss_reduction)\n",
    "#     abs_loss_reductions = np.concatenate([abs_loss_reductions,np.expand_dims(abs_loss_reduction,axis=0)])\n",
    "# file_name_abs_loss_reductions = \"abs_loss_reductions_new.npy\"\n",
    "# np.save(path_to_stored_results / file_name_abs_loss_reductions, abs_loss_reductions)\n",
    "    \n",
    "# # Combine results:\n",
    "# for n in np.arange(start_at,end_at):     \n",
    "\n",
    "#     ## rel_loss_reduction:\n",
    "    \n",
    "#     # Define filename, according to sample number.\n",
    "#     # Reload result for sample.\n",
    "#     # Concatenate result with all results.  \n",
    "#     # Define filename for all samples.\n",
    "#     # Save results for all samples.\n",
    "#     file_name_rel_loss_reduction = \"rel_loss_reduction_sample_\"+str(n)+\".npy\"\n",
    "#     rel_loss_reduction = np.load(path_to_stored_results / file_name_rel_loss_reduction)\n",
    "#     rel_loss_reductions = np.concatenate([rel_loss_reductions,np.expand_dims(rel_loss_reduction,axis=0)])\n",
    "# file_name_rel_loss_reductions = \"rel_loss_reductions_new.npy\"\n",
    "# np.save(path_to_stored_results / file_name_rel_loss_reductions, rel_loss_reductions)\n",
    "    \n",
    "# # Combine results:\n",
    "# for n in np.arange(start_at,end_at):    \n",
    "\n",
    "#     ## acc_rel_loss_reduction:\n",
    "    \n",
    "#     # Define filename, according to sample number.\n",
    "#     # Reload result for sample.\n",
    "#     # Concatenate result with all results.  \n",
    "#     # Define filename for all samples.\n",
    "#     # Save results for all samples.\n",
    "#     file_name_acc_rel_loss_reduction = \"acc_rel_loss_reduction_sample_\"+str(n)+\".npy\"\n",
    "#     acc_rel_loss_reduction = np.load(path_to_stored_results / file_name_acc_rel_loss_reduction)\n",
    "#     acc_rel_loss_reductions = np.concatenate([acc_rel_loss_reductions,np.expand_dims(acc_rel_loss_reduction,axis=0)])\n",
    "# file_name_acc_rel_loss_reductions = \"acc_rel_loss_reductions_new.npy\"\n",
    "# np.save(path_to_stored_results / file_name_acc_rel_loss_reductions, acc_rel_loss_reductions)\n",
    "\n",
    "# print(\"rel_loss_reduction_maps:\", rel_loss_reduction_maps.shape)\n",
    "# print(\"patch_orders:\", patch_orders.shape)\n",
    "# print(\"rel_loss_reductions:\", rel_loss_reductions.shape)\n",
    "# print(\"abs_loss_reductions:\", abs_loss_reductions.shape)\n",
    "# print(\"acc_rel_loss_reductions:\", acc_rel_loss_reductions.shape)"
   ]
  },
  {
   "cell_type": "code",
   "execution_count": 7,
   "id": "41e71e07",
   "metadata": {},
   "outputs": [
    {
     "name": "stderr",
     "output_type": "stream",
     "text": [
      "2023-03-08 08:01:21.810076: W tensorflow/stream_executor/platform/default/dso_loader.cc:64] Could not load dynamic library 'libcuda.so.1'; dlerror: libcuda.so.1: cannot open shared object file: No such file or directory; LD_LIBRARY_PATH: /.singularity.d/libs\n",
      "2023-03-08 08:01:21.810101: W tensorflow/stream_executor/cuda/cuda_driver.cc:269] failed call to cuInit: UNKNOWN ERROR (303)\n",
      "2023-03-08 08:01:21.810114: I tensorflow/stream_executor/cuda/cuda_diagnostics.cc:156] kernel driver does not appear to be running on this host (neshcl211): /proc/driver/nvidia/version does not exist\n",
      "2023-03-08 08:01:21.810321: I tensorflow/core/platform/cpu_feature_guard.cc:142] This TensorFlow binary is optimized with oneAPI Deep Neural Network Library (oneDNN) to use the following CPU instructions in performance-critical operations:  SSE4.1 SSE4.2 AVX AVX2 AVX512F FMA\n",
      "To enable them in other operations, rebuild TensorFlow with the appropriate compiler flags.\n"
     ]
    }
   ],
   "source": [
    "# # Get path to model:\n",
    "# path_to_model = Path('GitGeomar/marco-landt-hayen/reconstruct_missing_data_results/'+model_config+'_'+feature_short+'_'+source+'_'\n",
    "#                       +mask_type+'_'+missing_type+'_factor_'+str(augmentation_factor)+run)\n",
    "\n",
    "# # Reload final model, trained on range:\n",
    "# model = tf.keras.models.load_model(path_to_model / 'missing_50_999' / 'model')"
   ]
  },
  {
   "cell_type": "code",
   "execution_count": 12,
   "id": "501b4b71",
   "metadata": {
    "tags": []
   },
   "outputs": [
    {
     "name": "stderr",
     "output_type": "stream",
     "text": [
      "/app/conda/lib/python3.8/site-packages/xarray/coding/times.py:673: SerializationWarning: Unable to decode time axis into full numpy.datetime64 objects, continuing using cftime.datetime objects instead, reason: dates out of range\n",
      "  dtype = _decode_cf_datetime_dtype(data, units, calendar, self.use_cftime)\n",
      "/app/conda/lib/python3.8/site-packages/numpy/core/_asarray.py:83: SerializationWarning: Unable to decode time axis into full numpy.datetime64 objects, continuing using cftime.datetime objects instead, reason: dates out of range\n",
      "  return array(a, dtype, copy=False, order=order)\n"
     ]
    }
   ],
   "source": [
    "## Prepare validation samples:\n",
    "\n",
    "# Path to full data:\n",
    "# path_to_data = 'climate_index_collection/data/raw/2022-08-22/'\n",
    "path_to_data = 'GitHub/MarcoLandtHayen/reconstruct_missing_data/data/test_data/'\n",
    "\n",
    "# Load data:\n",
    "data_raw = load_data_set(data_path=path_to_data, data_source_name=source)\n",
    "\n",
    "# Select single feature and compute anomalies, using whole time span as climatology:\n",
    "data = get_anomalies(feature=feature, data_set=data_raw)\n",
    "\n",
    "# Create synthetic missing_mask of ONEs, to load FULL validation samples:\n",
    "missing_mask_1 = (np.ones(data.shape)==1)\n",
    "\n",
    "# Get scaled validation inputs and targets. Note: Using missing_mask of ONEs, validation inputs and targets are \n",
    "# identical. Only difference is found in dimensionality: inputs have channel number (=1) as final dimension, targets don't.\n",
    "train_input, val_input, _, _, train_min, train_max, _, _ = split_and_scale_data(\n",
    "    data, \n",
    "    missing_mask_1,\n",
    "    train_val_split, \n",
    "    scale_to\n",
    ")"
   ]
  },
  {
   "cell_type": "code",
   "execution_count": 13,
   "id": "bc7188e9",
   "metadata": {},
   "outputs": [],
   "source": [
    "# Get possible number of patches in lat and lon directions, respectively:\n",
    "n_lat = int(val_input[0:1].shape[1] / patch_size)\n",
    "n_lon = int(val_input[0:1].shape[2] / patch_size)\n",
    "\n",
    "# Obtain total number of patches:\n",
    "n_patches = int(n_lat * n_lon)\n",
    "\n",
    "# If max. number of patches to include is given as -1, set to total number of possible patches:\n",
    "if max_patch_num == -1:\n",
    "    max_patch_num = n_patches"
   ]
  },
  {
   "cell_type": "code",
   "execution_count": 15,
   "id": "f540658f",
   "metadata": {},
   "outputs": [
    {
     "name": "stdout",
     "output_type": "stream",
     "text": [
      "rel_loss_reduction_maps: (240, 96, 192)\n",
      "patch_orders: (240, 18432)\n",
      "rel_loss_reductions: (240, 18432)\n",
      "abs_loss_reductions: (240, 18432)\n",
      "acc_rel_loss_reductions: (240, 18432)\n"
     ]
    }
   ],
   "source": [
    "# Reload results for this experiment:\n",
    "rel_loss_reduction_maps = np.load(path_to_stored_results / \"rel_loss_reduction_maps.npy\")\n",
    "patch_orders = np.load(path_to_stored_results / \"patch_orders.npy\")\n",
    "abs_loss_reductions = np.load(path_to_stored_results / \"abs_loss_reductions.npy\")\n",
    "rel_loss_reductions = np.load(path_to_stored_results / \"rel_loss_reductions.npy\")\n",
    "acc_rel_loss_reductions = np.load(path_to_stored_results / \"acc_rel_loss_reductions.npy\")\n",
    "\n",
    "# Check dimensions:\n",
    "print(\"rel_loss_reduction_maps:\", rel_loss_reduction_maps.shape)\n",
    "print(\"patch_orders:\", patch_orders.shape)\n",
    "print(\"rel_loss_reductions:\", rel_loss_reductions.shape)\n",
    "print(\"abs_loss_reductions:\", abs_loss_reductions.shape)\n",
    "print(\"acc_rel_loss_reductions:\", acc_rel_loss_reductions.shape)"
   ]
  },
  {
   "cell_type": "code",
   "execution_count": 18,
   "id": "4fa476a1",
   "metadata": {},
   "outputs": [
    {
     "data": {
      "image/png": "[encoded data removed]",
      "text/plain": [
       "<Figure size 576x288 with 2 Axes>"
      ]
     },
     "metadata": {
      "needs_background": "light"
     },
     "output_type": "display_data"
    }
   ],
   "source": [
    "## range_0_100, relevance_1: TRAINING samples!\n",
    "# Include 240 samples, 120 from the beginning and 120 from the end of the time line.\n",
    "# patch_size = 1\n",
    "# max_patch_num = 50\n",
    "# max_acc_rel_loss_reduction = 0.9\n",
    "\n",
    "# Compute mean of rel. loss reduction maps, over desired number of considered validation samples:\n",
    "mean_rel_loss_reduction_map = np.mean(rel_loss_reduction_maps[:n_samples],axis=0)\n",
    "\n",
    "# Plot resulting mean rel. loss reduction map as heatmap:        \n",
    "fig, ax = plt.subplots(figsize=(8, 4))\n",
    "im = plt.imshow(mean_rel_loss_reduction_map, cmap=\"coolwarm\", interpolation='nearest', vmax=0.001)\n",
    "cbar = plt.colorbar(im)\n",
    "cbar.set_label('rel. loss reduction', fontsize=14)\n",
    "plt.title('Mean rel. loss red. map, with patch size '+str(patch_size)+', '+str(n_samples)+' val. samples', fontsize=14)\n",
    "plt.xlabel('Longitude [°E]', fontsize=14)\n",
    "plt.ylabel('Latitude [°N]', fontsize=14)\n",
    "plt.xticks(np.arange(0, 144, step=16), [0, 40, 80, 120, 160, 200, 240, 280, 320], fontsize=12)\n",
    "plt.yticks([5, 15, 26, 37, 47, 58, 69, 80, 90], [80, 60, 40, 20, 0, -20, -40, -60, -80], fontsize=12)\n",
    "plt.show()"
   ]
  },
  {
   "cell_type": "code",
   "execution_count": 19,
   "id": "a88c8053",
   "metadata": {},
   "outputs": [
    {
     "name": "stderr",
     "output_type": "stream",
     "text": [
      "/tmp/ipykernel_3462823/3221499229.py:2: RuntimeWarning: Mean of empty slice\n",
      "  mean_acc_rel_loss_reduction = np.nanmean(acc_rel_loss_reductions[:n_samples],axis=0)\n"
     ]
    },
    {
     "data": {
      "image/png": "[encoded data removed]",
      "text/plain": [
       "<Figure size 504x288 with 1 Axes>"
      ]
     },
     "metadata": {
      "needs_background": "light"
     },
     "output_type": "display_data"
    }
   ],
   "source": [
    "# Compute mean acc. rel. loss reduction, over desired number of considered validation samples:\n",
    "mean_acc_rel_loss_reduction = np.nanmean(acc_rel_loss_reductions[:n_samples],axis=0)\n",
    "\n",
    "# Plot mean acc. rel. loss reduction over desired number of patches to include:\n",
    "fig, axes = plt.subplots(1,1,figsize=(7,4))\n",
    "\n",
    "axes.plot(np.arange(0,n_patches,step=1)+1, mean_acc_rel_loss_reduction[:n_patches], color='black', marker='o', linestyle='--')\n",
    "# Optionally add threshold:\n",
    "axes.plot(np.arange(0,n_patches,step=1)+1, np.ones(n_patches)*0.9, color='blue', linestyle='--')\n",
    "\n",
    "axes.set_ylim(top=1.03)\n",
    "axes.set_title('Mean acc. rel. loss reduction, for patch size '+str(patch_size)+', and '+str(n_samples)+' val. samples', fontsize=14)\n",
    "axes.set_xlabel('# of included patches', fontsize=12)\n",
    "axes.set_ylabel('acc. rel. loss reduction', fontsize=12)\n",
    "#axes.legend()\n",
    "plt.show() "
   ]
  },
  {
   "cell_type": "code",
   "execution_count": null,
   "id": "eddfc9fd",
   "metadata": {},
   "outputs": [],
   "source": []
  },
  {
   "cell_type": "code",
   "execution_count": null,
   "id": "93787d1b",
   "metadata": {},
   "outputs": [],
   "source": []
  },
  {
   "cell_type": "code",
   "execution_count": null,
   "id": "53eb66f8",
   "metadata": {},
   "outputs": [],
   "source": []
  },
  {
   "cell_type": "code",
   "execution_count": null,
   "id": "ae3b4f0c",
   "metadata": {},
   "outputs": [],
   "source": []
  },
  {
   "cell_type": "code",
   "execution_count": null,
   "id": "f4884b4a",
   "metadata": {},
   "outputs": [],
   "source": []
  },
  {
   "cell_type": "code",
   "execution_count": null,
   "id": "bb138d80",
   "metadata": {},
   "outputs": [],
   "source": []
  },
  {
   "cell_type": "code",
   "execution_count": null,
   "id": "0bdc575d",
   "metadata": {},
   "outputs": [],
   "source": []
  },
  {
   "cell_type": "code",
   "execution_count": null,
   "id": "56f8ba00",
   "metadata": {},
   "outputs": [],
   "source": []
  },
  {
   "cell_type": "code",
   "execution_count": null,
   "id": "01bc1e8f",
   "metadata": {},
   "outputs": [],
   "source": []
  },
  {
   "cell_type": "markdown",
   "id": "e5a59b49",
   "metadata": {},
   "source": [
    "### Clustering with GMM to find optimal masks"
   ]
  },
  {
   "cell_type": "markdown",
   "id": "66bf4cf1",
   "metadata": {},
   "source": [
    "#### 99.9% missing"
   ]
  },
  {
   "cell_type": "code",
   "execution_count": 16,
   "id": "454a9661",
   "metadata": {},
   "outputs": [
    {
     "data": {
      "image/png": "[encoded data removed]",
      "text/plain": [
       "<Figure size 576x288 with 2 Axes>"
      ]
     },
     "metadata": {
      "needs_background": "light"
     },
     "output_type": "display_data"
    }
   ],
   "source": [
    "## range_50_999, relevance_2: TRAINING samples!\n",
    "# Include first 120 samples.\n",
    "# patch_size = 1\n",
    "# max_patch_num = 184\n",
    "# max_acc_rel_loss_reduction = 0.99\n",
    "\n",
    "# Compute mean of rel. loss reduction maps, over desired number of considered validation samples:\n",
    "mean_rel_loss_reduction_map = np.mean(rel_loss_reduction_maps[:n_samples],axis=0)\n",
    "\n",
    "# Plot resulting FLIPPED mean rel. loss reduction map as heatmap:        \n",
    "fig, ax = plt.subplots(figsize=(8, 4))\n",
    "im = plt.imshow(mean_rel_loss_reduction_map, cmap=\"coolwarm\", interpolation='nearest', vmax=0.003)\n",
    "cbar = plt.colorbar(im)\n",
    "cbar.set_label('rel. loss reduction', fontsize=14)\n",
    "plt.title('Mean rel. loss red. map, with patch size '+str(patch_size)+', '+str(n_samples)+' val. samples', fontsize=14)\n",
    "plt.xlabel('Longitude [°E]', fontsize=14)\n",
    "plt.ylabel('Latitude [°N]', fontsize=14)\n",
    "plt.xticks(np.arange(0, 144, step=16), [0, 40, 80, 120, 160, 200, 240, 280, 320], fontsize=12)\n",
    "plt.yticks([5, 15, 26, 37, 47, 58, 69, 80, 90], [80, 60, 40, 20, 0, -20, -40, -60, -80], fontsize=12)\n",
    "plt.show()"
   ]
  },
  {
   "cell_type": "code",
   "execution_count": 17,
   "id": "5b674b76",
   "metadata": {},
   "outputs": [
    {
     "name": "stdout",
     "output_type": "stream",
     "text": [
      "non-zero entries in mean rel. loss reduction map:  5232\n"
     ]
    }
   ],
   "source": [
    "# Look for number of grid points in mean rel. loss reduction map with non-zero entry:\n",
    "print(\"non-zero entries in mean rel. loss reduction map: \", np.sum(mean_rel_loss_reduction_map!=0))"
   ]
  },
  {
   "cell_type": "code",
   "execution_count": 18,
   "id": "85bddbdb",
   "metadata": {},
   "outputs": [
    {
     "name": "stdout",
     "output_type": "stream",
     "text": [
      "number of xyz-tuples representing non-zero entries in mean rel. loss reduction map:  213\n"
     ]
    }
   ],
   "source": [
    "## Start with 3D clustering of x/y positions and its rel. loss reduction (z) for non-zero entries:\n",
    "## Optionally cut of noise in mean rel. loss reduction map:\n",
    "\n",
    "# Set threshold:\n",
    "noise_threshold = 0.001\n",
    "\n",
    "# Compute max. rel. loss reduction, for scaling of z-component:\n",
    "max_rel_loss_red = np.max(mean_rel_loss_reduction_map)\n",
    "\n",
    "# Create tuples of x/y/z positions:\n",
    "xyz = []\n",
    "\n",
    "# Loop over longitude:\n",
    "for x in range(n_lon):\n",
    "    \n",
    "    # Loop over latitude:\n",
    "    for y in range(n_lat):\n",
    "        \n",
    "        # Check for non-zero entry in mean rel. loss reduction map:\n",
    "        if mean_rel_loss_reduction_map[y,x] > noise_threshold:\n",
    "            \n",
    "#         # Alternatively check for grid points, that exceed threshold in patch_counts:\n",
    "#         if patch_counts_2D[y,x] > 5:\n",
    "            \n",
    "            # Store xyz-tuple, scaled to [0,1] in either dimension:\n",
    "            xyz.append([x/(n_lon-1), y/(n_lat-1), mean_rel_loss_reduction_map[y,x]/max_rel_loss_red])\n",
    "\n",
    "# Convert list of xyz-tuples to np.array:\n",
    "xyz = np.array(xyz)\n",
    "\n",
    "# Output number of obtained tuples:\n",
    "print(\"number of xyz-tuples representing non-zero entries in mean rel. loss reduction map: \", len(xyz))"
   ]
  },
  {
   "cell_type": "code",
   "execution_count": 19,
   "id": "f313c8ae",
   "metadata": {},
   "outputs": [
    {
     "data": {
      "image/png": "[encoded data removed]",
      "text/plain": [
       "<Figure size 864x432 with 2 Axes>"
      ]
     },
     "metadata": {
      "needs_background": "light"
     },
     "output_type": "display_data"
    }
   ],
   "source": [
    "## Plot mean rel. loss reduction map, only grid points with value exceeding threshold, used to cut-off noise:\n",
    "mean_rel_loss_reduction_map_cut = (mean_rel_loss_reduction_map>noise_threshold) * mean_rel_loss_reduction_map\n",
    "\n",
    "# Plot resulting mean rel. loss reduction map with cut off noise as heatmap:        \n",
    "fig, ax = plt.subplots(figsize=(12, 6))\n",
    "im = plt.imshow(mean_rel_loss_reduction_map_cut, cmap=\"coolwarm\", interpolation='nearest')#, vmax=0.002)\n",
    "cbar = plt.colorbar(im)\n",
    "cbar.set_label('rel. loss reduction', fontsize=14)\n",
    "plt.title('Mean rel. loss red. map, with patch size '+str(patch_size)+', '+str(n_samples)+' val. samples', fontsize=14)\n",
    "plt.xlabel('Longitude [°E]', fontsize=14)\n",
    "plt.ylabel('Latitude [°N]', fontsize=14)\n",
    "plt.xticks(np.arange(0, 144, step=16), [0, 40, 80, 120, 160, 200, 240, 280, 320], fontsize=12)\n",
    "plt.yticks([5, 15, 26, 37, 47, 58, 69, 80, 90], [80, 60, 40, 20, 0, -20, -40, -60, -80], fontsize=12)\n",
    "plt.show()"
   ]
  },
  {
   "cell_type": "code",
   "execution_count": 21,
   "id": "31e70804",
   "metadata": {},
   "outputs": [],
   "source": [
    "# Get clusters from GMM algorithms with pre-specified number of clusters = 18 (=0.1% for FOCI slp grid).\n",
    "# Note: Only use positional features (lat and lon), omit mean rel. loss reduction as feature:\n",
    "GMM_999 = GaussianMixture(n_components=18, random_state=0).fit(xyz[:,:2])\n",
    "\n",
    "# Get clusters:\n",
    "GMM_999_clusters = GMM_999.predict(xyz[:,:2])\n",
    "\n",
    "## Prepare colors for visualizing clusters:\n",
    "\n",
    "# # Set colors:\n",
    "# colors = ['red', 'orange', 'yellow', 'blue', 'pink', 'cyan', 'magenta', 'grey', 'brown', 'purple']\n",
    "\n",
    "# # Create list of colors:\n",
    "# GMM_colors = []\n",
    "# for i in range(len(GMM_999_clusters)):\n",
    "#     GMM_colors.append(colors[GMM_999_clusters[i]])"
   ]
  },
  {
   "cell_type": "code",
   "execution_count": 22,
   "id": "f59b0d9f",
   "metadata": {},
   "outputs": [],
   "source": [
    "## Convert obtained cluster means to CESM lat/lon grid:\n",
    "\n",
    "# Initialize storage:\n",
    "cluster_means_999_GMM = np.zeros(GMM_999.means_.shape).astype(int)\n",
    "\n",
    "# Unscale latitude and longitude dimensions:\n",
    "cluster_means_999_GMM[:,0] = np.round(GMM_999.means_[:,0]*(n_lon-1),0).astype(int)\n",
    "cluster_means_999_GMM[:,1] = np.round(GMM_999.means_[:,1]*(n_lat-1),0).astype(int)"
   ]
  },
  {
   "cell_type": "code",
   "execution_count": 35,
   "id": "9e839ca9",
   "metadata": {},
   "outputs": [
    {
     "data": {
      "image/png": "[encoded data removed]",
      "text/plain": [
       "<Figure size 576x288 with 2 Axes>"
      ]
     },
     "metadata": {
      "needs_background": "light"
     },
     "output_type": "display_data"
    }
   ],
   "source": [
    "## Create optimal mask from cluster centers:\n",
    "\n",
    "# Initialize two-dimensional boolean mask of FALSE, dimension (n_lat, n_lon):\n",
    "mask_999_GMM = (np.zeros((n_lat,n_lon))!=0)\n",
    "\n",
    "# Loop over cluster centers:\n",
    "for xyz in cluster_means_999_GMM:\n",
    "    \n",
    "    # Set grid points to True:\n",
    "    mask_999_GMM[xyz[1],xyz[0]]=True\n",
    "\n",
    "# Plot optimal mask:\n",
    "fig, ax = plt.subplots(figsize=(8, 4))\n",
    "im = plt.imshow(mask_999_GMM, cmap=\"Greys\", interpolation='nearest')#, vmax=0.00022)\n",
    "cbar = plt.colorbar(im)\n",
    "cbar.set_label('rel. loss reduction', fontsize=14)\n",
    "plt.title('Optimal mask with top 14 grid points, 99.9% missing values on CESM grid', fontsize=14)\n",
    "plt.xlabel('Longitude [°E]', fontsize=14)\n",
    "plt.ylabel('Latitude [°N]', fontsize=14)\n",
    "plt.xticks(np.arange(0, 144, step=24), [0, 60, 120, 180, 240, 300], fontsize=12)\n",
    "plt.yticks(np.arange(4, 72, step=8), [80, 60, 40, 20, 0, -20, -40, -60, -80], fontsize=12)\n",
    "plt.show()"
   ]
  },
  {
   "cell_type": "code",
   "execution_count": 24,
   "id": "74e6f2d4",
   "metadata": {},
   "outputs": [
    {
     "name": "stdout",
     "output_type": "stream",
     "text": [
      "GitGeomar/marco-landt-hayen/reconstruct_missing_data_results/unet_4conv_slp_FOCI_variable_range_50_999_factor_3_final/relevance_2\n"
     ]
    }
   ],
   "source": [
    "# Set path to store optimal missing masks:\n",
    "path_to_store_masks = Path(\n",
    "    'GitGeomar/marco-landt-hayen/reconstruct_missing_data_results/'+model_config+'_'+feature_short+'_'+source+'_'+\n",
    "    mask_type+'_'+missing_type+'_factor_'+str(augmentation_factor)+run+exp_name)\n",
    "\n",
    "print(path_to_store_masks)"
   ]
  },
  {
   "cell_type": "code",
   "execution_count": 25,
   "id": "65b9bfce",
   "metadata": {},
   "outputs": [],
   "source": [
    "## Store masks, to re-use in batch:\n",
    "#np.save(path_to_store_masks / \"optimal_sampling_mask_999.npy\", mask_999_GMM)"
   ]
  },
  {
   "cell_type": "markdown",
   "id": "079e1af8",
   "metadata": {},
   "source": [
    "#### 99% missing"
   ]
  },
  {
   "cell_type": "code",
   "execution_count": 36,
   "id": "0a3be79e",
   "metadata": {},
   "outputs": [
    {
     "name": "stdout",
     "output_type": "stream",
     "text": [
      "non-zero entries in mean rel. loss reduction map:  5232\n",
      "noise threshold: 0.0005\n",
      "number of xyz-tuples representing non-zero entries in mean rel. loss reduction map:  409\n"
     ]
    },
    {
     "data": {
      "image/png": "[encoded data removed]",
      "text/plain": [
       "<Figure size 576x288 with 1 Axes>"
      ]
     },
     "metadata": {
      "needs_background": "light"
     },
     "output_type": "display_data"
    }
   ],
   "source": [
    "# Look for number of grid points in mean rel. loss reduction map with non-zero entry:\n",
    "print(\"non-zero entries in mean rel. loss reduction map: \", np.sum(mean_rel_loss_reduction_map!=0))\n",
    "\n",
    "## Start with 3D clustering of x/y positions and its rel. loss reduction (z) for non-zero entries:\n",
    "## Optionally cut of noise in mean rel. loss reduction map:\n",
    "\n",
    "# Set threshold:\n",
    "noise_threshold = 0.0005\n",
    "\n",
    "print('noise threshold:',noise_threshold)\n",
    "\n",
    "# Compute max. rel. loss reduction, for scaling of z-component:\n",
    "max_rel_loss_red = np.max(mean_rel_loss_reduction_map)\n",
    "\n",
    "# Create tuples of x/y/z positions:\n",
    "xyz = []\n",
    "\n",
    "# Loop over longitude:\n",
    "for x in range(n_lon):\n",
    "    \n",
    "    # Loop over latitude:\n",
    "    for y in range(n_lat):\n",
    "        \n",
    "        # Check for non-zero entry in mean rel. loss reduction map:\n",
    "        if mean_rel_loss_reduction_map[y,x] > noise_threshold:\n",
    "            \n",
    "#         # Alternatively check for grid points, that exceed threshold in patch_counts:\n",
    "#         if patch_counts_2D[y,x] > 5:\n",
    "            \n",
    "            # Store xyz-tuple, scaled to [0,1] in either dimension:\n",
    "            xyz.append([x/(n_lon-1), y/(n_lat-1), mean_rel_loss_reduction_map[y,x]/max_rel_loss_red])\n",
    "\n",
    "# Convert list of xyz-tuples to np.array:\n",
    "xyz = np.array(xyz)\n",
    "\n",
    "# Output number of obtained tuples:\n",
    "print(\"number of xyz-tuples representing non-zero entries in mean rel. loss reduction map: \", len(xyz))\n",
    "\n",
    "# Get clusters from GMM algorithms with pre-specified number of clusters = 184 (=1% for FOCI slp grid).\n",
    "# Note: Only use positional features (lat and lon), omit mean rel. loss reduction as feature:\n",
    "GMM_99 = GaussianMixture(n_components=184, random_state=0).fit(xyz[:,:2])\n",
    "\n",
    "# Get clusters:\n",
    "GMM_99_clusters = GMM_99.predict(xyz[:,:2])\n",
    "\n",
    "## Convert obtained cluster means to CESM lat/lon grid:\n",
    "\n",
    "# Initialize storage:\n",
    "cluster_means_99_GMM = np.zeros(GMM_99.means_.shape).astype(int)\n",
    "\n",
    "# Unscale latitude and longitude dimensions:\n",
    "cluster_means_99_GMM[:,0] = np.round(GMM_99.means_[:,0]*(n_lon-1),0).astype(int)\n",
    "cluster_means_99_GMM[:,1] = np.round(GMM_99.means_[:,1]*(n_lat-1),0).astype(int)\n",
    "\n",
    "## Create optimal mask from cluster centers:\n",
    "\n",
    "# Initialize two-dimensional boolean mask of FALSE, dimension (n_lat, n_lon):\n",
    "mask_99_GMM = (np.zeros((n_lat,n_lon))!=0)\n",
    "\n",
    "# Loop over cluster centers:\n",
    "for xyz in cluster_means_99_GMM:\n",
    "    \n",
    "    # Set grid points to True:\n",
    "    mask_99_GMM[xyz[1],xyz[0]]=True\n",
    "\n",
    "# Plot optimal mask:\n",
    "fig, ax = plt.subplots(figsize=(8, 4))\n",
    "im = plt.imshow(mask_99_GMM, cmap=\"Greys\", interpolation='nearest')#, vmax=0.00022)\n",
    "#cbar = plt.colorbar(im)\n",
    "#cbar.set_label('rel. loss reduction', fontsize=14)\n",
    "plt.title('Optimal mask with top 138 grid points, 99% missing values on CESM grid', fontsize=14)\n",
    "plt.xlabel('Longitude [°E]', fontsize=14)\n",
    "plt.ylabel('Latitude [°N]', fontsize=14)\n",
    "plt.xticks(np.arange(0, 144, step=24), [0, 60, 120, 180, 240, 300], fontsize=12)\n",
    "plt.yticks(np.arange(4, 72, step=8), [80, 60, 40, 20, 0, -20, -40, -60, -80], fontsize=12)\n",
    "plt.show()"
   ]
  },
  {
   "cell_type": "code",
   "execution_count": 29,
   "id": "7874a8b7",
   "metadata": {},
   "outputs": [
    {
     "name": "stdout",
     "output_type": "stream",
     "text": [
      "GitGeomar/marco-landt-hayen/reconstruct_missing_data_results/unet_4conv_slp_FOCI_variable_range_50_999_factor_3_final/relevance_2\n"
     ]
    }
   ],
   "source": [
    "# Set path to store optimal missing masks:\n",
    "path_to_store_masks = Path(\n",
    "    'GitGeomar/marco-landt-hayen/reconstruct_missing_data_results/'+model_config+'_'+feature_short+'_'+source+'_'+\n",
    "    mask_type+'_'+missing_type+'_factor_'+str(augmentation_factor)+run+exp_name)\n",
    "\n",
    "print(path_to_store_masks)"
   ]
  },
  {
   "cell_type": "code",
   "execution_count": 30,
   "id": "0fc1450b",
   "metadata": {},
   "outputs": [],
   "source": [
    "## Store masks, to re-use in batch:\n",
    "#np.save(path_to_store_masks / \"optimal_sampling_mask_99.npy\", mask_99_GMM)"
   ]
  },
  {
   "cell_type": "markdown",
   "id": "bbff758e",
   "metadata": {},
   "source": [
    "#### 95% missing"
   ]
  },
  {
   "cell_type": "code",
   "execution_count": 37,
   "id": "76157861",
   "metadata": {},
   "outputs": [
    {
     "name": "stdout",
     "output_type": "stream",
     "text": [
      "non-zero entries in mean rel. loss reduction map:  5232\n",
      "noise threshold: 0.0\n",
      "number of xyz-tuples representing non-zero entries in mean rel. loss reduction map:  5232\n"
     ]
    },
    {
     "name": "stderr",
     "output_type": "stream",
     "text": [
      "/app/conda/lib/python3.8/site-packages/sklearn/mixture/_base.py:286: ConvergenceWarning: Initialization 1 did not converge. Try different init parameters, or increase max_iter, tol or check for degenerate data.\n",
      "  warnings.warn(\n"
     ]
    },
    {
     "data": {
      "image/png": "[encoded data removed]",
      "text/plain": [
       "<Figure size 576x288 with 1 Axes>"
      ]
     },
     "metadata": {
      "needs_background": "light"
     },
     "output_type": "display_data"
    }
   ],
   "source": [
    "# Look for number of grid points in mean rel. loss reduction map with non-zero entry:\n",
    "print(\"non-zero entries in mean rel. loss reduction map: \", np.sum(mean_rel_loss_reduction_map!=0))\n",
    "\n",
    "## Start with 3D clustering of x/y positions and its rel. loss reduction (z) for non-zero entries:\n",
    "## Optionally cut of noise in mean rel. loss reduction map:\n",
    "\n",
    "# Set threshold:\n",
    "noise_threshold = 0.0\n",
    "\n",
    "print('noise threshold:',noise_threshold)\n",
    "\n",
    "# Compute max. rel. loss reduction, for scaling of z-component:\n",
    "max_rel_loss_red = np.max(mean_rel_loss_reduction_map)\n",
    "\n",
    "# Create tuples of x/y/z positions:\n",
    "xyz = []\n",
    "\n",
    "# Loop over longitude:\n",
    "for x in range(n_lon):\n",
    "    \n",
    "    # Loop over latitude:\n",
    "    for y in range(n_lat):\n",
    "        \n",
    "        # Check for non-zero entry in mean rel. loss reduction map:\n",
    "        if mean_rel_loss_reduction_map[y,x] > noise_threshold:\n",
    "            \n",
    "#         # Alternatively check for grid points, that exceed threshold in patch_counts:\n",
    "#         if patch_counts_2D[y,x] > 5:\n",
    "            \n",
    "            # Store xyz-tuple, scaled to [0,1] in either dimension:\n",
    "            xyz.append([x/(n_lon-1), y/(n_lat-1), mean_rel_loss_reduction_map[y,x]/max_rel_loss_red])\n",
    "\n",
    "# Convert list of xyz-tuples to np.array:\n",
    "xyz = np.array(xyz)\n",
    "\n",
    "# Output number of obtained tuples:\n",
    "print(\"number of xyz-tuples representing non-zero entries in mean rel. loss reduction map: \", len(xyz))\n",
    "\n",
    "# Get clusters from GMM algorithms with pre-specified number of clusters = 921 (=5% for FOCI slp grid).\n",
    "# Note: Only use positional features (lat and lon), omit mean rel. loss reduction as feature:\n",
    "GMM_95 = GaussianMixture(n_components=921, random_state=0).fit(xyz[:,:2])\n",
    "\n",
    "# Get clusters:\n",
    "GMM_95_clusters = GMM_95.predict(xyz[:,:2])\n",
    "\n",
    "## Convert obtained cluster means to CESM lat/lon grid:\n",
    "\n",
    "# Initialize storage:\n",
    "cluster_means_95_GMM = np.zeros(GMM_95.means_.shape).astype(int)\n",
    "\n",
    "# Unscale latitude and longitude dimensions:\n",
    "cluster_means_95_GMM[:,0] = np.round(GMM_95.means_[:,0]*(n_lon-1),0).astype(int)\n",
    "cluster_means_95_GMM[:,1] = np.round(GMM_95.means_[:,1]*(n_lat-1),0).astype(int)\n",
    "\n",
    "## Create optimal mask from cluster centers:\n",
    "\n",
    "# Initialize two-dimensional boolean mask of FALSE, dimension (n_lat, n_lon):\n",
    "mask_95_GMM = (np.zeros((n_lat,n_lon))!=0)\n",
    "\n",
    "# Loop over cluster centers:\n",
    "for xyz in cluster_means_95_GMM:\n",
    "    \n",
    "    # Set grid points to True:\n",
    "    mask_95_GMM[xyz[1],xyz[0]]=True\n",
    "\n",
    "# Plot optimal mask:\n",
    "fig, ax = plt.subplots(figsize=(8, 4))\n",
    "im = plt.imshow(mask_95_GMM, cmap=\"Greys\", interpolation='nearest')#, vmax=0.00022)\n",
    "#cbar = plt.colorbar(im)\n",
    "#cbar.set_label('rel. loss reduction', fontsize=14)\n",
    "plt.title('Optimal mask with top 691 grid points, 95% missing values on CESM grid', fontsize=14)\n",
    "plt.xlabel('Longitude [°E]', fontsize=14)\n",
    "plt.ylabel('Latitude [°N]', fontsize=14)\n",
    "plt.xticks(np.arange(0, 144, step=24), [0, 60, 120, 180, 240, 300], fontsize=12)\n",
    "plt.yticks(np.arange(4, 72, step=8), [80, 60, 40, 20, 0, -20, -40, -60, -80], fontsize=12)\n",
    "plt.show()"
   ]
  },
  {
   "cell_type": "code",
   "execution_count": 32,
   "id": "e6443169",
   "metadata": {},
   "outputs": [
    {
     "name": "stdout",
     "output_type": "stream",
     "text": [
      "GitGeomar/marco-landt-hayen/reconstruct_missing_data_results/unet_4conv_slp_FOCI_variable_range_50_999_factor_3_final/relevance_2\n"
     ]
    }
   ],
   "source": [
    "# Set path to store optimal missing masks:\n",
    "path_to_store_masks = Path(\n",
    "    'GitGeomar/marco-landt-hayen/reconstruct_missing_data_results/'+model_config+'_'+feature_short+'_'+source+'_'+\n",
    "    mask_type+'_'+missing_type+'_factor_'+str(augmentation_factor)+run+exp_name)\n",
    "\n",
    "print(path_to_store_masks)"
   ]
  },
  {
   "cell_type": "code",
   "execution_count": 33,
   "id": "2cf9ad45",
   "metadata": {},
   "outputs": [],
   "source": [
    "## Store masks, to re-use in batch:\n",
    "#np.save(path_to_store_masks / \"optimal_sampling_mask_95.npy\", mask_95_GMM)"
   ]
  },
  {
   "cell_type": "code",
   "execution_count": null,
   "id": "a1a0b6c2",
   "metadata": {},
   "outputs": [],
   "source": []
  },
  {
   "cell_type": "code",
   "execution_count": null,
   "id": "9e8dcf73",
   "metadata": {},
   "outputs": [],
   "source": []
  },
  {
   "cell_type": "code",
   "execution_count": null,
   "id": "ade2bf68",
   "metadata": {},
   "outputs": [],
   "source": []
  },
  {
   "cell_type": "code",
   "execution_count": null,
   "id": "8e5cd547",
   "metadata": {},
   "outputs": [],
   "source": []
  }
 ],
 "metadata": {
  "kernelspec": {
   "display_name": "Python 3 (ipykernel)",
   "language": "python",
   "name": "python3"
  },
  "language_info": {
   "codemirror_mode": {
    "name": "ipython",
    "version": 3
   },
   "file_extension": ".py",
   "mimetype": "text/x-python",
   "name": "python",
   "nbconvert_exporter": "python",
   "pygments_lexer": "ipython3",
   "version": "3.8.8"
  }
 },
 "nbformat": 4,
 "nbformat_minor": 5
}
