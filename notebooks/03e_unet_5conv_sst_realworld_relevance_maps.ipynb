{
 "cells": [
  {
   "cell_type": "markdown",
   "id": "81dfa571",
   "metadata": {},
   "source": [
    "### First experiments with U-Net on real world slp data\n",
    "\n",
    "Inspect the ground truth: How do mean relevance maps look like for sst real world data. Derive from model trained on full range [0,1] of missing values with augmentation factor 3 (unet5conv)."
   ]
  },
  {
   "cell_type": "code",
   "execution_count": 1,
   "id": "ed55753a",
   "metadata": {},
   "outputs": [],
   "source": [
    "import os\n",
    "import sys\n",
    "sys.path.append('../reconstruct_missing_data')\n",
    "\n",
    "from pathlib import Path\n",
    "from json import dump, load\n",
    "\n",
    "# # Next block for visualization, only if packeges are pre-installed!\n",
    "# import xarray as xr\n",
    "# import hvplot.xarray\n",
    "# import geoviews as gv\n",
    "# import cartopy\n",
    "# import cartopy.crs as ccrs\n",
    "# import cmocean\n",
    "\n",
    "import numpy as np\n",
    "import pandas as pd\n",
    "import xarray as xr\n",
    "from sklearn.mixture import GaussianMixture\n",
    "from sklearn.datasets import make_blobs\n",
    "from sklearn.cluster import KMeans\n",
    "from matplotlib import pyplot as plt\n",
    "\n",
    "from data_loading import find_data_files, load_data_set, get_anomalies, clone_data, create_missing_mask, split_and_scale_data, get_land_silhouette\n",
    "from models import build_unet_4conv\n",
    "from relevance import compute_single_relevance_map\n",
    "\n",
    "import tensorflow as tf\n",
    "from tensorflow.keras import Sequential\n",
    "from tensorflow.keras.models import Model\n",
    "from tensorflow.keras.layers import Input, Dense, Lambda, concatenate, Conv1D, Conv2D, MaxPool2D, UpSampling2D, BatchNormalization, LeakyReLU\n",
    "from tensorflow.keras.optimizers import Adam, SGD\n",
    "import tensorflow.keras.initializers as tfi\n",
    "import tensorflow.keras.regularizers as tfr\n",
    "from tensorflow.keras.utils import plot_model\n",
    "\n",
    "# Suppress Tensorflow warnings\n",
    "tf.compat.v1.logging.set_verbosity(tf.compat.v1.logging.ERROR)"
   ]
  },
  {
   "cell_type": "code",
   "execution_count": 2,
   "id": "293dd73c",
   "metadata": {},
   "outputs": [],
   "source": [
    "# Set working directory, according to working directory in scripts:\n",
    "os.chdir('/gxfs_work1/geomar/smomw511') # nesh\n",
    "# os.chdir('/Users/mlandt-hayen') # local\n",
    "# os.chdir('/work') # local in Docker Container"
   ]
  },
  {
   "cell_type": "code",
   "execution_count": 4,
   "id": "68126ed3",
   "metadata": {},
   "outputs": [
    {
     "name": "stdout",
     "output_type": "stream",
     "text": [
      "GitGeomar/marco-landt-hayen/reconstruct_missing_data_results/unet_5conv_sst_realworld_variable_range_0_100_factor_3_final/relevance_1\n",
      "\n",
      "number of samples:  120\n",
      "patch size:  1\n",
      "max. number of patches to include:  50\n",
      "max. acc. rel. loss as threshold:  0.9\n"
     ]
    }
   ],
   "source": [
    "## Reload parameters and results for experiment:\n",
    "\n",
    "# Specify experiment:\n",
    "model_config = 'unet_5conv'\n",
    "feature = 'sea-surface-temperature' # Choose either 'sea-level-pressure' or 'sea-surface-temperature' as feature.\n",
    "feature_short = 'sst' # Free to set short name, to store results, e.g. 'slp' and 'sst'.\n",
    "source = 'realworld' # Choose Earth System Model, either 'FOCI' or 'CESM'.\n",
    "mask_type = 'variable'\n",
    "missing_type = 'range_0_100'\n",
    "augmentation_factor = 3\n",
    "run = '_final'\n",
    "exp_name = '/relevance_1'\n",
    "\n",
    "# Get path to stored results:\n",
    "path_to_stored_results = Path('GitGeomar/marco-landt-hayen/reconstruct_missing_data_results/'+model_config+'_'+feature_short+'_'+source+'_'\n",
    "                      +mask_type+'_'+missing_type+'_factor_'+str(augmentation_factor)+run+exp_name)\n",
    "\n",
    "print(path_to_stored_results)\n",
    "\n",
    "# Reload parameters relevant for data pre-processing for this experiment:\n",
    "with open(path_to_stored_results / 'parameters.json', 'r') as f:\n",
    "    parameters=load(f)\n",
    "\n",
    "\n",
    "train_val_split = parameters['train_val_split']\n",
    "scale_to = parameters['scale_to']\n",
    "n_samples = parameters['n_samples']\n",
    "patch_size = parameters['patch_size']\n",
    "max_patch_num = parameters['max_patch_num']\n",
    "max_acc_rel_loss_reduction = parameters['max_acc_rel_loss_reduction']\n",
    "\n",
    "# Print parameters:\n",
    "print(\"\\nnumber of samples: \", n_samples)\n",
    "print(\"patch size: \", patch_size)\n",
    "print(\"max. number of patches to include: \", max_patch_num)\n",
    "print(\"max. acc. rel. loss as threshold: \", max_acc_rel_loss_reduction)"
   ]
  },
  {
   "cell_type": "code",
   "execution_count": 5,
   "id": "94cc6f14",
   "metadata": {},
   "outputs": [
    {
     "name": "stdout",
     "output_type": "stream",
     "text": [
      "rel_loss_reduction_maps: (3, 80, 176)\n",
      "patch_orders: (3, 14080)\n",
      "rel_loss_reductions: (3, 14080)\n",
      "abs_loss_reductions: (3, 14080)\n",
      "acc_rel_loss_reductions: (3, 14080)\n"
     ]
    }
   ],
   "source": [
    "# ## For the following individual list of samples:\n",
    "\n",
    "# samples = [\n",
    "#     0,10,20\n",
    "# ]\n",
    "\n",
    "# # Combine results:\n",
    "# for n in samples:\n",
    "\n",
    "#     ## rel_loss_reduction_maps:\n",
    "    \n",
    "#     # Define filename, according to sample number.\n",
    "#     # Reload result for sample.\n",
    "#     # Concatenate result with all results.  \n",
    "#     # Define filename for all samples.\n",
    "#     # Save results for all samples.\n",
    "#     file_name_rel_loss_reduction_map = \"rel_loss_reduction_map_sample_\"+str(n)+\".npy\"\n",
    "#     rel_loss_reduction_map = np.load(path_to_stored_results / file_name_rel_loss_reduction_map)\n",
    "#     # Initialize storage for sample 0:\n",
    "#     if n == 0:\n",
    "#         rel_loss_reduction_maps = np.expand_dims(rel_loss_reduction_map,axis=0)\n",
    "#     else:\n",
    "#         rel_loss_reduction_maps = np.concatenate([rel_loss_reduction_maps,np.expand_dims(rel_loss_reduction_map,axis=0)])\n",
    "# file_name_rel_loss_reduction_maps = \"rel_loss_reduction_maps.npy\"\n",
    "# np.save(path_to_stored_results / file_name_rel_loss_reduction_maps, rel_loss_reduction_maps)\n",
    "    \n",
    "# # Combine results:\n",
    "# for n in samples:  \n",
    "\n",
    "#     ## patch_orders:\n",
    "    \n",
    "#     # Define filename, according to sample number.\n",
    "#     # Reload result for sample.\n",
    "#     # Concatenate result with all results.  \n",
    "#     # Define filename for all samples.\n",
    "#     # Save results for all samples.\n",
    "#     file_name_patch_order = \"patch_order_sample_\"+str(n)+\".npy\"\n",
    "#     patch_order = np.load(path_to_stored_results / file_name_patch_order)\n",
    "#     # Initialize storage for sample 0:\n",
    "#     if n == 0:\n",
    "#         patch_orders = np.expand_dims(patch_order,axis=0)\n",
    "#     else:\n",
    "#         patch_orders = np.concatenate([patch_orders,np.expand_dims(patch_order,axis=0)])\n",
    "# file_name_patch_orders = \"patch_orders.npy\"\n",
    "# np.save(path_to_stored_results / file_name_patch_orders, patch_orders)\n",
    "     \n",
    "# # Combine results:\n",
    "# for n in samples:  \n",
    "\n",
    "#     ## abs_loss_reduction:\n",
    "    \n",
    "#     # Define filename, according to sample number.\n",
    "#     # Reload result for sample.\n",
    "#     # Concatenate result with all results.  \n",
    "#     # Define filename for all samples.\n",
    "#     # Save results for all samples.\n",
    "#     file_name_abs_loss_reduction = \"abs_loss_reduction_sample_\"+str(n)+\".npy\"\n",
    "#     abs_loss_reduction = np.load(path_to_stored_results / file_name_abs_loss_reduction)\n",
    "#     # Initialize storage for sample 0:\n",
    "#     if n == 0:\n",
    "#         abs_loss_reductions = np.expand_dims(abs_loss_reduction,axis=0)\n",
    "#     else:\n",
    "#         abs_loss_reductions = np.concatenate([abs_loss_reductions,np.expand_dims(abs_loss_reduction,axis=0)])\n",
    "# file_name_abs_loss_reductions = \"abs_loss_reductions.npy\"\n",
    "# np.save(path_to_stored_results / file_name_abs_loss_reductions, abs_loss_reductions)\n",
    "    \n",
    "# # Combine results:\n",
    "# for n in samples:  \n",
    "\n",
    "#     ## rel_loss_reduction:\n",
    "    \n",
    "#     # Define filename, according to sample number.\n",
    "#     # Reload result for sample.\n",
    "#     # Concatenate result with all results.  \n",
    "#     # Define filename for all samples.\n",
    "#     # Save results for all samples.\n",
    "#     file_name_rel_loss_reduction = \"rel_loss_reduction_sample_\"+str(n)+\".npy\"\n",
    "#     rel_loss_reduction = np.load(path_to_stored_results / file_name_rel_loss_reduction)\n",
    "#     # Initialize storage for sample 0:\n",
    "#     if n == 0:\n",
    "#         rel_loss_reductions = np.expand_dims(rel_loss_reduction,axis=0)\n",
    "#     else:    \n",
    "#         rel_loss_reductions = np.concatenate([rel_loss_reductions,np.expand_dims(rel_loss_reduction,axis=0)])\n",
    "# file_name_rel_loss_reductions = \"rel_loss_reductions.npy\"\n",
    "# np.save(path_to_stored_results / file_name_rel_loss_reductions, rel_loss_reductions)\n",
    "    \n",
    "# # Combine results:\n",
    "# for n in samples:   \n",
    "\n",
    "#     ## acc_rel_loss_reduction:\n",
    "    \n",
    "#     # Define filename, according to sample number.\n",
    "#     # Reload result for sample.\n",
    "#     # Concatenate result with all results.  \n",
    "#     # Define filename for all samples.\n",
    "#     # Save results for all samples.\n",
    "#     file_name_acc_rel_loss_reduction = \"acc_rel_loss_reduction_sample_\"+str(n)+\".npy\"\n",
    "#     acc_rel_loss_reduction = np.load(path_to_stored_results / file_name_acc_rel_loss_reduction)\n",
    "#     # Initialize storage for sample 0:\n",
    "#     if n == 0:\n",
    "#         acc_rel_loss_reductions = np.expand_dims(acc_rel_loss_reduction,axis=0)\n",
    "#     else:\n",
    "#         acc_rel_loss_reductions = np.concatenate([acc_rel_loss_reductions,np.expand_dims(acc_rel_loss_reduction,axis=0)])\n",
    "# file_name_acc_rel_loss_reductions = \"acc_rel_loss_reductions.npy\"\n",
    "# np.save(path_to_stored_results / file_name_acc_rel_loss_reductions, acc_rel_loss_reductions)\n",
    "\n",
    "# print(\"rel_loss_reduction_maps:\", rel_loss_reduction_maps.shape)\n",
    "# print(\"patch_orders:\", patch_orders.shape)\n",
    "# print(\"rel_loss_reductions:\", rel_loss_reductions.shape)\n",
    "# print(\"abs_loss_reductions:\", abs_loss_reductions.shape)\n",
    "# print(\"acc_rel_loss_reductions:\", acc_rel_loss_reductions.shape)"
   ]
  },
  {
   "cell_type": "code",
   "execution_count": 5,
   "id": "61068d94",
   "metadata": {},
   "outputs": [
    {
     "name": "stdout",
     "output_type": "stream",
     "text": [
      "rel_loss_reduction_maps: (60, 80, 176)\n",
      "patch_orders: (60, 14080)\n",
      "rel_loss_reductions: (60, 14080)\n",
      "abs_loss_reductions: (60, 14080)\n",
      "acc_rel_loss_reductions: (60, 14080)\n"
     ]
    }
   ],
   "source": [
    "# ## For complete list of samples:\n",
    "\n",
    "# start_at = 0\n",
    "# end_at = start_at + n_samples\n",
    "\n",
    "# # Combine results:\n",
    "# for n in np.arange(start_at,end_at): \n",
    "\n",
    "#     ## rel_loss_reduction_maps:\n",
    "    \n",
    "#     # Define filename, according to sample number.\n",
    "#     # Reload result for sample.\n",
    "#     # Concatenate result with all results.  \n",
    "#     # Define filename for all samples.\n",
    "#     # Save results for all samples.\n",
    "#     file_name_rel_loss_reduction_map = \"rel_loss_reduction_map_sample_\"+str(n)+\".npy\"\n",
    "#     rel_loss_reduction_map = np.load(path_to_stored_results / file_name_rel_loss_reduction_map)\n",
    "#     # Initialize storage for sample 0:\n",
    "#     if n == 0:\n",
    "#         rel_loss_reduction_maps = np.expand_dims(rel_loss_reduction_map,axis=0)\n",
    "#     else:\n",
    "#         rel_loss_reduction_maps = np.concatenate([rel_loss_reduction_maps,np.expand_dims(rel_loss_reduction_map,axis=0)])\n",
    "# file_name_rel_loss_reduction_maps = \"rel_loss_reduction_maps.npy\"\n",
    "# np.save(path_to_stored_results / file_name_rel_loss_reduction_maps, rel_loss_reduction_maps)\n",
    "    \n",
    "# # Combine results:\n",
    "# for n in np.arange(start_at,end_at):    \n",
    "\n",
    "#     ## patch_orders:\n",
    "    \n",
    "#     # Define filename, according to sample number.\n",
    "#     # Reload result for sample.\n",
    "#     # Concatenate result with all results.  \n",
    "#     # Define filename for all samples.\n",
    "#     # Save results for all samples.\n",
    "#     file_name_patch_order = \"patch_order_sample_\"+str(n)+\".npy\"\n",
    "#     patch_order = np.load(path_to_stored_results / file_name_patch_order)\n",
    "#     # Initialize storage for sample 0:\n",
    "#     if n == 0:\n",
    "#         patch_orders = np.expand_dims(patch_order,axis=0)\n",
    "#     else:\n",
    "#         patch_orders = np.concatenate([patch_orders,np.expand_dims(patch_order,axis=0)])\n",
    "# file_name_patch_orders = \"patch_orders.npy\"\n",
    "# np.save(path_to_stored_results / file_name_patch_orders, patch_orders)\n",
    "     \n",
    "# # Combine results:\n",
    "# for n in np.arange(start_at,end_at):   \n",
    "\n",
    "#     ## abs_loss_reduction:\n",
    "    \n",
    "#     # Define filename, according to sample number.\n",
    "#     # Reload result for sample.\n",
    "#     # Concatenate result with all results.  \n",
    "#     # Define filename for all samples.\n",
    "#     # Save results for all samples.\n",
    "#     file_name_abs_loss_reduction = \"abs_loss_reduction_sample_\"+str(n)+\".npy\"\n",
    "#     abs_loss_reduction = np.load(path_to_stored_results / file_name_abs_loss_reduction)\n",
    "#     # Initialize storage for sample 0:\n",
    "#     if n == 0:\n",
    "#         abs_loss_reductions = np.expand_dims(abs_loss_reduction,axis=0)\n",
    "#     else:\n",
    "#         abs_loss_reductions = np.concatenate([abs_loss_reductions,np.expand_dims(abs_loss_reduction,axis=0)])\n",
    "# file_name_abs_loss_reductions = \"abs_loss_reductions.npy\"\n",
    "# np.save(path_to_stored_results / file_name_abs_loss_reductions, abs_loss_reductions)\n",
    "    \n",
    "# # Combine results:\n",
    "# for n in np.arange(start_at,end_at):    \n",
    "\n",
    "#     ## rel_loss_reduction:\n",
    "    \n",
    "#     # Define filename, according to sample number.\n",
    "#     # Reload result for sample.\n",
    "#     # Concatenate result with all results.  \n",
    "#     # Define filename for all samples.\n",
    "#     # Save results for all samples.\n",
    "#     file_name_rel_loss_reduction = \"rel_loss_reduction_sample_\"+str(n)+\".npy\"\n",
    "#     rel_loss_reduction = np.load(path_to_stored_results / file_name_rel_loss_reduction)\n",
    "#     # Initialize storage for sample 0:\n",
    "#     if n == 0:\n",
    "#         rel_loss_reductions = np.expand_dims(rel_loss_reduction,axis=0)\n",
    "#     else:    \n",
    "#         rel_loss_reductions = np.concatenate([rel_loss_reductions,np.expand_dims(rel_loss_reduction,axis=0)])\n",
    "# file_name_rel_loss_reductions = \"rel_loss_reductions.npy\"\n",
    "# np.save(path_to_stored_results / file_name_rel_loss_reductions, rel_loss_reductions)\n",
    "    \n",
    "# # Combine results:\n",
    "# for n in np.arange(start_at,end_at):     \n",
    "\n",
    "#     ## acc_rel_loss_reduction:\n",
    "    \n",
    "#     # Define filename, according to sample number.\n",
    "#     # Reload result for sample.\n",
    "#     # Concatenate result with all results.  \n",
    "#     # Define filename for all samples.\n",
    "#     # Save results for all samples.\n",
    "#     file_name_acc_rel_loss_reduction = \"acc_rel_loss_reduction_sample_\"+str(n)+\".npy\"\n",
    "#     acc_rel_loss_reduction = np.load(path_to_stored_results / file_name_acc_rel_loss_reduction)\n",
    "#     # Initialize storage for sample 0:\n",
    "#     if n == 0:\n",
    "#         acc_rel_loss_reductions = np.expand_dims(acc_rel_loss_reduction,axis=0)\n",
    "#     else:\n",
    "#         acc_rel_loss_reductions = np.concatenate([acc_rel_loss_reductions,np.expand_dims(acc_rel_loss_reduction,axis=0)])\n",
    "# file_name_acc_rel_loss_reductions = \"acc_rel_loss_reductions.npy\"\n",
    "# np.save(path_to_stored_results / file_name_acc_rel_loss_reductions, acc_rel_loss_reductions)\n",
    "\n",
    "# print(\"rel_loss_reduction_maps:\", rel_loss_reduction_maps.shape)\n",
    "# print(\"patch_orders:\", patch_orders.shape)\n",
    "# print(\"rel_loss_reductions:\", rel_loss_reductions.shape)\n",
    "# print(\"abs_loss_reductions:\", abs_loss_reductions.shape)\n",
    "# print(\"acc_rel_loss_reductions:\", acc_rel_loss_reductions.shape)"
   ]
  },
  {
   "cell_type": "code",
   "execution_count": 7,
   "id": "ad2cead1",
   "metadata": {},
   "outputs": [
    {
     "name": "stdout",
     "output_type": "stream",
     "text": [
      "rel_loss_reduction_maps: (120, 80, 176)\n",
      "patch_orders: (120, 14080)\n",
      "rel_loss_reductions: (120, 14080)\n",
      "abs_loss_reductions: (120, 14080)\n",
      "acc_rel_loss_reductions: (120, 14080)\n"
     ]
    }
   ],
   "source": [
    "# start_at = 1300\n",
    "# end_at = 1300+60\n",
    "\n",
    "# # Reload results for this experiment:\n",
    "# rel_loss_reduction_maps = np.load(path_to_stored_results / \"rel_loss_reduction_maps.npy\")\n",
    "# patch_orders = np.load(path_to_stored_results / \"patch_orders.npy\")\n",
    "# abs_loss_reductions = np.load(path_to_stored_results / \"abs_loss_reductions.npy\")\n",
    "# rel_loss_reductions = np.load(path_to_stored_results / \"rel_loss_reductions.npy\")\n",
    "# acc_rel_loss_reductions = np.load(path_to_stored_results / \"acc_rel_loss_reductions.npy\")\n",
    "\n",
    "# # Combine results:\n",
    "# for n in np.arange(start_at,end_at):    \n",
    "\n",
    "#     ## rel_loss_reduction_maps:\n",
    "    \n",
    "#     # Define filename, according to sample number.\n",
    "#     # Reload result for sample.\n",
    "#     # Concatenate result with all results.  \n",
    "#     # Define filename for all samples.\n",
    "#     # Save results for all samples.\n",
    "#     file_name_rel_loss_reduction_map = \"rel_loss_reduction_map_sample_\"+str(n)+\".npy\"\n",
    "#     rel_loss_reduction_map = np.load(path_to_stored_results / file_name_rel_loss_reduction_map)\n",
    "#     rel_loss_reduction_maps = np.concatenate([rel_loss_reduction_maps,np.expand_dims(rel_loss_reduction_map,axis=0)])\n",
    "# file_name_rel_loss_reduction_maps = \"rel_loss_reduction_maps_new.npy\"\n",
    "# np.save(path_to_stored_results / file_name_rel_loss_reduction_maps, rel_loss_reduction_maps)\n",
    "    \n",
    "# # Combine results:\n",
    "# for n in np.arange(start_at,end_at):     \n",
    "\n",
    "#     ## patch_orders:\n",
    "    \n",
    "#     # Define filename, according to sample number.\n",
    "#     # Reload result for sample.\n",
    "#     # Concatenate result with all results.  \n",
    "#     # Define filename for all samples.\n",
    "#     # Save results for all samples.\n",
    "#     file_name_patch_order = \"patch_order_sample_\"+str(n)+\".npy\"\n",
    "#     patch_order = np.load(path_to_stored_results / file_name_patch_order)\n",
    "#     patch_orders = np.concatenate([patch_orders,np.expand_dims(patch_order,axis=0)])\n",
    "# file_name_patch_orders = \"patch_orders_new.npy\"\n",
    "# np.save(path_to_stored_results / file_name_patch_orders, patch_orders)\n",
    "     \n",
    "# # Combine results:\n",
    "# for n in np.arange(start_at,end_at):     \n",
    "\n",
    "#     ## abs_loss_reduction:\n",
    "    \n",
    "#     # Define filename, according to sample number.\n",
    "#     # Reload result for sample.\n",
    "#     # Concatenate result with all results.  \n",
    "#     # Define filename for all samples.\n",
    "#     # Save results for all samples.\n",
    "#     file_name_abs_loss_reduction = \"abs_loss_reduction_sample_\"+str(n)+\".npy\"\n",
    "#     abs_loss_reduction = np.load(path_to_stored_results / file_name_abs_loss_reduction)\n",
    "#     abs_loss_reductions = np.concatenate([abs_loss_reductions,np.expand_dims(abs_loss_reduction,axis=0)])\n",
    "# file_name_abs_loss_reductions = \"abs_loss_reductions_new.npy\"\n",
    "# np.save(path_to_stored_results / file_name_abs_loss_reductions, abs_loss_reductions)\n",
    "    \n",
    "# # Combine results:\n",
    "# for n in np.arange(start_at,end_at):     \n",
    "\n",
    "#     ## rel_loss_reduction:\n",
    "    \n",
    "#     # Define filename, according to sample number.\n",
    "#     # Reload result for sample.\n",
    "#     # Concatenate result with all results.  \n",
    "#     # Define filename for all samples.\n",
    "#     # Save results for all samples.\n",
    "#     file_name_rel_loss_reduction = \"rel_loss_reduction_sample_\"+str(n)+\".npy\"\n",
    "#     rel_loss_reduction = np.load(path_to_stored_results / file_name_rel_loss_reduction)\n",
    "#     rel_loss_reductions = np.concatenate([rel_loss_reductions,np.expand_dims(rel_loss_reduction,axis=0)])\n",
    "# file_name_rel_loss_reductions = \"rel_loss_reductions_new.npy\"\n",
    "# np.save(path_to_stored_results / file_name_rel_loss_reductions, rel_loss_reductions)\n",
    "    \n",
    "# # Combine results:\n",
    "# for n in np.arange(start_at,end_at):    \n",
    "\n",
    "#     ## acc_rel_loss_reduction:\n",
    "    \n",
    "#     # Define filename, according to sample number.\n",
    "#     # Reload result for sample.\n",
    "#     # Concatenate result with all results.  \n",
    "#     # Define filename for all samples.\n",
    "#     # Save results for all samples.\n",
    "#     file_name_acc_rel_loss_reduction = \"acc_rel_loss_reduction_sample_\"+str(n)+\".npy\"\n",
    "#     acc_rel_loss_reduction = np.load(path_to_stored_results / file_name_acc_rel_loss_reduction)\n",
    "#     acc_rel_loss_reductions = np.concatenate([acc_rel_loss_reductions,np.expand_dims(acc_rel_loss_reduction,axis=0)])\n",
    "# file_name_acc_rel_loss_reductions = \"acc_rel_loss_reductions_new.npy\"\n",
    "# np.save(path_to_stored_results / file_name_acc_rel_loss_reductions, acc_rel_loss_reductions)\n",
    "\n",
    "# print(\"rel_loss_reduction_maps:\", rel_loss_reduction_maps.shape)\n",
    "# print(\"patch_orders:\", patch_orders.shape)\n",
    "# print(\"rel_loss_reductions:\", rel_loss_reductions.shape)\n",
    "# print(\"abs_loss_reductions:\", abs_loss_reductions.shape)\n",
    "# print(\"acc_rel_loss_reductions:\", acc_rel_loss_reductions.shape)"
   ]
  },
  {
   "cell_type": "code",
   "execution_count": 5,
   "id": "58fd79f9",
   "metadata": {},
   "outputs": [
    {
     "name": "stderr",
     "output_type": "stream",
     "text": [
      "2023-03-08 09:35:31.178447: W tensorflow/stream_executor/platform/default/dso_loader.cc:64] Could not load dynamic library 'libcuda.so.1'; dlerror: libcuda.so.1: cannot open shared object file: No such file or directory; LD_LIBRARY_PATH: /.singularity.d/libs\n",
      "2023-03-08 09:35:31.178469: W tensorflow/stream_executor/cuda/cuda_driver.cc:269] failed call to cuInit: UNKNOWN ERROR (303)\n",
      "2023-03-08 09:35:31.178480: I tensorflow/stream_executor/cuda/cuda_diagnostics.cc:156] kernel driver does not appear to be running on this host (neshcl211): /proc/driver/nvidia/version does not exist\n",
      "2023-03-08 09:35:31.178655: I tensorflow/core/platform/cpu_feature_guard.cc:142] This TensorFlow binary is optimized with oneAPI Deep Neural Network Library (oneDNN) to use the following CPU instructions in performance-critical operations:  SSE4.1 SSE4.2 AVX AVX2 AVX512F FMA\n",
      "To enable them in other operations, rebuild TensorFlow with the appropriate compiler flags.\n"
     ]
    }
   ],
   "source": [
    "# # Get path to model:\n",
    "# path_to_model = Path('GitGeomar/marco-landt-hayen/reconstruct_missing_data_results/'+model_config+'_'+feature_short+'_'+source+'_'\n",
    "#                       +mask_type+'_'+missing_type+'_factor_'+str(augmentation_factor)+run)\n",
    "\n",
    "# # Reload final model, trained on range:\n",
    "# model = tf.keras.models.load_model(path_to_model / 'missing_0_100' / 'model')"
   ]
  },
  {
   "cell_type": "code",
   "execution_count": 8,
   "id": "fcf776d3",
   "metadata": {},
   "outputs": [],
   "source": [
    "## Load data:\n",
    "\n",
    "# Path to full data:\n",
    "path_to_data = \"GitHub/MarcoLandtHayen/reconstruct_missing_data/data/raw/sst.mnmean.nc\"  # Full data\n",
    "\n",
    "# Open data set:\n",
    "sst_dataset=xr.open_dataset(\"GitHub/MarcoLandtHayen/reconstruct_missing_data/data/raw/sst.mnmean.nc\")\n",
    "\n",
    "# Start with raw slp fields as lat/lon grids in time, from 1948 to 2022:\n",
    "sst_fields = (\n",
    "    sst_dataset.sst\n",
    "    .sel(time=slice('1880-01-01', '2022-12-01'))\n",
    ")\n",
    "\n",
    "# Compute monthly climatology (here 1980 - 2009) for whole world:\n",
    "sst_climatology_fields = (\n",
    "    sst_dataset.sst\n",
    "    .sel(time=slice('1980-01-01','2009-12-01'))\n",
    "    .groupby(\"time.month\")\n",
    "    .mean(\"time\")\n",
    ")\n",
    "\n",
    "# Get slp anomaly fields by subtracting monthly climatology from raw slp fields:\n",
    "sst_anomaly_fields = sst_fields.groupby(\"time.month\") - sst_climatology_fields\n",
    "\n",
    "# Remove last row (latidute) and last 4 columns (longitude), to have even number of steps in latitude (=88)\n",
    "# and longitude (=176), that can be evenly divided 4 times by two. This serves as 'quick-and-dirty'\n",
    "# solution to avoid problems with UPSAMPLING in U-Net. There must be a more elegant way, take care of it later!\n",
    "sst_anomaly_fields = sst_anomaly_fields[:,5:-4,:-4]\n",
    "data = sst_anomaly_fields.values\n",
    "\n",
    "# Create synthetic missing_mask of ONEs, to load FULL validation samples:\n",
    "missing_mask_1 = (np.ones(data.shape)==1)\n",
    "\n",
    "# Get scaled validation inputs and targets. Note: Using missing_mask of ONEs, validation inputs and targets are \n",
    "# identical. Only difference is found in dimensionality: inputs have channel number (=1) as final dimension, targets don't.\n",
    "train_input, val_input, _, _, train_min, train_max, _, _ = split_and_scale_data(\n",
    "    data, \n",
    "    missing_mask_1,\n",
    "    train_val_split, \n",
    "    scale_to\n",
    ")"
   ]
  },
  {
   "cell_type": "code",
   "execution_count": 9,
   "id": "930a0e2c",
   "metadata": {},
   "outputs": [],
   "source": [
    "# Get possible number of patches in lat and lon directions, respectively:\n",
    "n_lat = int(val_input[0:1].shape[1] / patch_size)\n",
    "n_lon = int(val_input[0:1].shape[2] / patch_size)\n",
    "\n",
    "# Obtain total number of patches:\n",
    "n_patches = int(n_lat * n_lon)\n",
    "\n",
    "# If max. number of patches to include is given as -1, set to total number of possible patches:\n",
    "if max_patch_num == -1:\n",
    "    max_patch_num = n_patches"
   ]
  },
  {
   "cell_type": "code",
   "execution_count": 10,
   "id": "c98dc63a",
   "metadata": {},
   "outputs": [
    {
     "name": "stdout",
     "output_type": "stream",
     "text": [
      "rel_loss_reduction_maps: (120, 80, 176)\n",
      "patch_orders: (120, 14080)\n",
      "rel_loss_reductions: (120, 14080)\n",
      "abs_loss_reductions: (120, 14080)\n",
      "acc_rel_loss_reductions: (120, 14080)\n"
     ]
    }
   ],
   "source": [
    "# Reload results for this experiment:\n",
    "rel_loss_reduction_maps = np.load(path_to_stored_results / \"rel_loss_reduction_maps.npy\")\n",
    "patch_orders = np.load(path_to_stored_results / \"patch_orders.npy\")\n",
    "abs_loss_reductions = np.load(path_to_stored_results / \"abs_loss_reductions.npy\")\n",
    "rel_loss_reductions = np.load(path_to_stored_results / \"rel_loss_reductions.npy\")\n",
    "acc_rel_loss_reductions = np.load(path_to_stored_results / \"acc_rel_loss_reductions.npy\")\n",
    "\n",
    "# Check dimensions:\n",
    "print(\"rel_loss_reduction_maps:\", rel_loss_reduction_maps.shape)\n",
    "print(\"patch_orders:\", patch_orders.shape)\n",
    "print(\"rel_loss_reductions:\", rel_loss_reductions.shape)\n",
    "print(\"abs_loss_reductions:\", abs_loss_reductions.shape)\n",
    "print(\"acc_rel_loss_reductions:\", acc_rel_loss_reductions.shape)"
   ]
  },
  {
   "cell_type": "code",
   "execution_count": 12,
   "id": "7f624121",
   "metadata": {},
   "outputs": [
    {
     "data": {
      "image/png": "[encoded data removed]",
      "text/plain": [
       "<Figure size 576x288 with 2 Axes>"
      ]
     },
     "metadata": {
      "needs_background": "light"
     },
     "output_type": "display_data"
    }
   ],
   "source": [
    "## range_0_100, relevance_1: TRAINING samples!\n",
    "# Include first and last 60 samples.\n",
    "# patch_size = 1\n",
    "# max_patch_num = 50\n",
    "# max_acc_rel_loss_reduction = 0.9\n",
    "\n",
    "# Compute mean of rel. loss reduction maps, over desired number of considered validation samples:\n",
    "mean_rel_loss_reduction_map = np.mean(rel_loss_reduction_maps[:n_samples],axis=0)\n",
    "\n",
    "# Plot resulting mean rel. loss reduction map as heatmap:        \n",
    "fig, ax = plt.subplots(figsize=(8, 4))\n",
    "im = plt.imshow(mean_rel_loss_reduction_map, cmap=\"coolwarm\", interpolation='nearest', vmax=0.002)\n",
    "cbar = plt.colorbar(im)\n",
    "cbar.set_label('rel. loss reduction', fontsize=14)\n",
    "plt.title('Mean rel. loss red. map, with patch size '+str(patch_size)+', '+str(n_samples)+' val. samples', fontsize=14)\n",
    "plt.xlabel('Longitude [°E]', fontsize=14)\n",
    "plt.ylabel('Latitude [°N]', fontsize=14)\n",
    "plt.xticks(np.arange(0, 176, step=30), [0, 60, 120, 180, 240, 300], fontsize=12)\n",
    "plt.yticks(np.arange(9, 80, step=10), [60, 40, 20, 0, -20, -40, -60, -80], fontsize=12)\n",
    "plt.show()"
   ]
  },
  {
   "cell_type": "code",
   "execution_count": 13,
   "id": "c7f7dec8",
   "metadata": {},
   "outputs": [],
   "source": [
    "# Get mask for invalid grid points (= land masses):\n",
    "invalid_gridpoints = np.isnan(sst_anomaly_fields[0].values)"
   ]
  },
  {
   "cell_type": "code",
   "execution_count": 14,
   "id": "57157598",
   "metadata": {},
   "outputs": [],
   "source": [
    "# Copy mean rel. loss reduction map:\n",
    "mean_rel_loss_reduction_map_nan = np.copy(mean_rel_loss_reduction_map)\n",
    "\n",
    "# Set invalid grid points to NaN, to highlight land masses:\n",
    "mean_rel_loss_reduction_map_nan[invalid_gridpoints] = float('nan')"
   ]
  },
  {
   "cell_type": "code",
   "execution_count": 15,
   "id": "867b3e86",
   "metadata": {},
   "outputs": [
    {
     "data": {
      "image/png": "[encoded data removed]",
      "text/plain": [
       "<Figure size 576x288 with 2 Axes>"
      ]
     },
     "metadata": {
      "needs_background": "light"
     },
     "output_type": "display_data"
    }
   ],
   "source": [
    "# Plot resulting mean rel. loss reduction map as heatmap:        \n",
    "fig, ax = plt.subplots(figsize=(8, 4))\n",
    "im = plt.imshow(mean_rel_loss_reduction_map_nan, cmap=\"coolwarm\", interpolation='nearest', vmax=0.002)\n",
    "cbar = plt.colorbar(im)\n",
    "cbar.set_label('rel. loss reduction', fontsize=14)\n",
    "plt.title('Mean rel. loss red. map, with patch size '+str(patch_size)+', '+str(n_samples)+' val. samples', fontsize=14)\n",
    "plt.xlabel('Longitude [°E]', fontsize=14)\n",
    "plt.ylabel('Latitude [°N]', fontsize=14)\n",
    "plt.xticks(np.arange(0, 176, step=30), [0, 60, 120, 180, 240, 300], fontsize=12)\n",
    "plt.yticks(np.arange(9, 80, step=10), [60, 40, 20, 0, -20, -40, -60, -80], fontsize=12)\n",
    "plt.show()"
   ]
  },
  {
   "cell_type": "code",
   "execution_count": null,
   "id": "a7098e7c",
   "metadata": {},
   "outputs": [],
   "source": []
  },
  {
   "cell_type": "markdown",
   "id": "ff38d27b",
   "metadata": {},
   "source": [
    "### Clustering with GMM to find optimal masks"
   ]
  },
  {
   "cell_type": "markdown",
   "id": "d2939b92",
   "metadata": {},
   "source": [
    "#### 99.9% missing"
   ]
  },
  {
   "cell_type": "code",
   "execution_count": 15,
   "id": "7046a6d7",
   "metadata": {},
   "outputs": [
    {
     "name": "stdout",
     "output_type": "stream",
     "text": [
      "non-zero entries in mean rel. loss reduction map:  6078\n",
      "number of xyz-tuples representing non-zero entries in mean rel. loss reduction map:  156\n"
     ]
    }
   ],
   "source": [
    "# Look for number of grid points in mean rel. loss reduction map with non-zero entry:\n",
    "print(\"non-zero entries in mean rel. loss reduction map: \", np.sum(mean_rel_loss_reduction_map!=0))\n",
    "\n",
    "## Start with 3D clustering of x/y positions and its rel. loss reduction (z) for non-zero entries:\n",
    "## Optionally cut of noise in mean rel. loss reduction map:\n",
    "\n",
    "# Set threshold:\n",
    "noise_threshold = 0.001\n",
    "\n",
    "# Compute max. rel. loss reduction, for scaling of z-component:\n",
    "max_rel_loss_red = np.max(mean_rel_loss_reduction_map)\n",
    "\n",
    "# Create tuples of x/y/z positions:\n",
    "xyz = []\n",
    "\n",
    "# Loop over longitude:\n",
    "for x in range(n_lon):\n",
    "    \n",
    "    # Loop over latitude:\n",
    "    for y in range(n_lat):\n",
    "        \n",
    "        # Check for non-zero entry in mean rel. loss reduction map:\n",
    "        if mean_rel_loss_reduction_map[y,x] > noise_threshold:\n",
    "            \n",
    "#         # Alternatively check for grid points, that exceed threshold in patch_counts:\n",
    "#         if patch_counts_2D[y,x] > 5:\n",
    "            \n",
    "            # Store xyz-tuple, scaled to [0,1] in either dimension:\n",
    "            xyz.append([x/(n_lon-1), y/(n_lat-1), mean_rel_loss_reduction_map[y,x]/max_rel_loss_red])\n",
    "\n",
    "# Convert list of xyz-tuples to np.array:\n",
    "xyz = np.array(xyz)\n",
    "\n",
    "# Output number of obtained tuples:\n",
    "print(\"number of xyz-tuples representing non-zero entries in mean rel. loss reduction map: \", len(xyz))\n",
    "\n",
    "# Get clusters from GMM algorithms with pre-specified number of clusters = 10 (=0.1% for RW slp grid).\n",
    "# Note: Only use positional features (lat and lon), omit mean rel. loss reduction as feature:\n",
    "GMM_999 = GaussianMixture(n_components=10, random_state=0).fit(xyz[:,:2])\n",
    "\n",
    "# Get clusters:\n",
    "GMM_999_clusters = GMM_999.predict(xyz[:,:2])"
   ]
  },
  {
   "cell_type": "code",
   "execution_count": 17,
   "id": "5dc0918f",
   "metadata": {},
   "outputs": [],
   "source": [
    "## Convert obtained cluster means to real world lat/lon scales:\n",
    "\n",
    "# Note: slp real world fields come on 73 x 144 lat-lon-grid. Truncated to 72 x 144, to make them fit to U-Net with 4 convolutions.\n",
    "# For rescaling, need original dimensions, to transfer grid correctly.\n",
    "n_lat_realworld = 73\n",
    "n_lon_realworld = 144\n",
    "\n",
    "# Initialize storage:\n",
    "cluster_means_999_GMM = np.zeros(GMM_999.means_.shape).astype(int)\n",
    "\n",
    "# Unscale latitude and longitude dimensions:\n",
    "cluster_means_999_GMM[:,0] = np.round(GMM_999.means_[:,0]*(n_lon_realworld-1),0).astype(int)\n",
    "cluster_means_999_GMM[:,1] = np.round(GMM_999.means_[:,1]*(n_lat_realworld-1),0).astype(int)"
   ]
  },
  {
   "cell_type": "code",
   "execution_count": 18,
   "id": "495c0505",
   "metadata": {},
   "outputs": [
    {
     "data": {
      "image/png": "[encoded data removed]",
      "text/plain": [
       "<Figure size 576x288 with 2 Axes>"
      ]
     },
     "metadata": {
      "needs_background": "light"
     },
     "output_type": "display_data"
    }
   ],
   "source": [
    "## Create optimal mask from cluster means:\n",
    "\n",
    "# Initialize two-dimensional boolean mask of FALSE, dimension (n_lat, n_lon):\n",
    "mask_999_GMM = (np.zeros((n_lat_realworld,n_lon_realworld))!=0)\n",
    "\n",
    "# Loop over cluster centers:\n",
    "for xyz in cluster_means_999_GMM:\n",
    "    \n",
    "    # Set grid points to True:\n",
    "    mask_999_GMM[xyz[1],xyz[0]]=True\n",
    "\n",
    "# Truncate mask to fit dimensions, used to train models: Omit last row and last four columns, to fit requirements for U-Net:\n",
    "mask_999_GMM = mask_999_GMM[:-1,:]\n",
    "\n",
    "# Plot optimal mask:\n",
    "fig, ax = plt.subplots(figsize=(8, 4))\n",
    "im = plt.imshow(np.flip(mask_999_GMM,axis=0), cmap=\"Greys\", interpolation='nearest')#, vmax=0.00022)\n",
    "cbar = plt.colorbar(im)\n",
    "cbar.set_label('rel. loss reduction', fontsize=14)\n",
    "plt.title('Optimal mask with top 10 grid points, 99.9% missing values on RW grid', fontsize=14)\n",
    "plt.xlabel('Longitude [°E]', fontsize=14)\n",
    "plt.ylabel('Latitude [°N]', fontsize=14)\n",
    "plt.xticks(np.arange(0, 144, step=24), [0, 60, 120, 180, 240, 300], fontsize=12)\n",
    "plt.yticks(np.arange(4, 72, step=8), [80, 60, 40, 20, 0, -20, -40, -60, -80], fontsize=12)\n",
    "plt.show()"
   ]
  },
  {
   "cell_type": "code",
   "execution_count": 19,
   "id": "08079eac",
   "metadata": {},
   "outputs": [
    {
     "name": "stdout",
     "output_type": "stream",
     "text": [
      "GitGeomar/marco-landt-hayen/reconstruct_missing_data_results/unet_4conv_slp_CESM_variable_range_0_100_factor_3_final/relevance_1\n"
     ]
    }
   ],
   "source": [
    "# Set path to store optimal missing masks:\n",
    "path_to_store_masks = Path(\n",
    "    'GitGeomar/marco-landt-hayen/reconstruct_missing_data_results/'+model_config+'_'+feature_short+'_'+source+'_'+\n",
    "    mask_type+'_'+missing_type+'_factor_'+str(augmentation_factor)+run+exp_name)\n",
    "\n",
    "print(path_to_store_masks)"
   ]
  },
  {
   "cell_type": "code",
   "execution_count": 20,
   "id": "c86b34f5",
   "metadata": {},
   "outputs": [],
   "source": [
    "## Store masks, to re-use in batch:\n",
    "#np.save(path_to_store_masks / \"optimal_sampling_mask_999_realworld.npy\", mask_999_GMM)"
   ]
  },
  {
   "cell_type": "markdown",
   "id": "7d110d1a",
   "metadata": {},
   "source": [
    "#### 99% missing"
   ]
  },
  {
   "cell_type": "code",
   "execution_count": 25,
   "id": "b386bf95",
   "metadata": {},
   "outputs": [
    {
     "name": "stdout",
     "output_type": "stream",
     "text": [
      "non-zero entries in mean rel. loss reduction map:  6078\n",
      "noise threshold: 0.0005\n",
      "number of xyz-tuples representing non-zero entries in mean rel. loss reduction map:  446\n"
     ]
    },
    {
     "data": {
      "image/png": "[encoded data removed]",
      "text/plain": [
       "<Figure size 576x288 with 1 Axes>"
      ]
     },
     "metadata": {
      "needs_background": "light"
     },
     "output_type": "display_data"
    }
   ],
   "source": [
    "# Look for number of grid points in mean rel. loss reduction map with non-zero entry:\n",
    "print(\"non-zero entries in mean rel. loss reduction map: \", np.sum(mean_rel_loss_reduction_map!=0))\n",
    "\n",
    "## Start with 3D clustering of x/y positions and its rel. loss reduction (z) for non-zero entries:\n",
    "## Optionally cut of noise in mean rel. loss reduction map:\n",
    "\n",
    "# Set threshold:\n",
    "noise_threshold = 0.0005\n",
    "\n",
    "print('noise threshold:',noise_threshold)\n",
    "\n",
    "# Compute max. rel. loss reduction, for scaling of z-component:\n",
    "max_rel_loss_red = np.max(mean_rel_loss_reduction_map)\n",
    "\n",
    "# Create tuples of x/y/z positions:\n",
    "xyz = []\n",
    "\n",
    "# Loop over longitude:\n",
    "for x in range(n_lon):\n",
    "    \n",
    "    # Loop over latitude:\n",
    "    for y in range(n_lat):\n",
    "        \n",
    "        # Check for non-zero entry in mean rel. loss reduction map:\n",
    "        if mean_rel_loss_reduction_map[y,x] > noise_threshold:\n",
    "            \n",
    "#         # Alternatively check for grid points, that exceed threshold in patch_counts:\n",
    "#         if patch_counts_2D[y,x] > 5:\n",
    "            \n",
    "            # Store xyz-tuple, scaled to [0,1] in either dimension:\n",
    "            xyz.append([x/(n_lon-1), y/(n_lat-1), mean_rel_loss_reduction_map[y,x]/max_rel_loss_red])\n",
    "\n",
    "# Convert list of xyz-tuples to np.array:\n",
    "xyz = np.array(xyz)\n",
    "\n",
    "# Output number of obtained tuples:\n",
    "print(\"number of xyz-tuples representing non-zero entries in mean rel. loss reduction map: \", len(xyz))\n",
    "\n",
    "# Get clusters from GMM algorithms with pre-specified number of clusters = 104 (=1% for RW slp grid).\n",
    "# Note: Only use positional features (lat and lon), omit mean rel. loss reduction as feature:\n",
    "GMM_99 = GaussianMixture(n_components=104, random_state=0).fit(xyz[:,:2])\n",
    "\n",
    "# Get clusters:\n",
    "GMM_99_clusters = GMM_99.predict(xyz[:,:2])\n",
    "\n",
    "## Convert obtained cluster means to real world lat/lon scales:\n",
    "\n",
    "# Note: slp real world fields come on 73 x 144 lat-lon-grid. Truncated to 72 x 144, to make them fit to U-Net with 4 convolutions.\n",
    "# For rescaling, need original dimensions, to transfer grid correctly.\n",
    "n_lat_realworld = 73\n",
    "n_lon_realworld = 144\n",
    "\n",
    "# Initialize storage:\n",
    "cluster_means_99_GMM = np.zeros(GMM_99.means_.shape).astype(int)\n",
    "\n",
    "# Unscale latitude and longitude dimensions:\n",
    "cluster_means_99_GMM[:,0] = np.round(GMM_99.means_[:,0]*(n_lon_realworld-1),0).astype(int)\n",
    "cluster_means_99_GMM[:,1] = np.round(GMM_99.means_[:,1]*(n_lat_realworld-1),0).astype(int)\n",
    "\n",
    "## Create optimal mask from cluster means:\n",
    "\n",
    "# Initialize two-dimensional boolean mask of FALSE, dimension (n_lat, n_lon):\n",
    "mask_99_GMM = (np.zeros((n_lat_realworld,n_lon_realworld))!=0)\n",
    "\n",
    "# Loop over cluster centers:\n",
    "for xyz in cluster_means_99_GMM:\n",
    "    \n",
    "    # Set grid points to True:\n",
    "    mask_99_GMM[xyz[1],xyz[0]]=True\n",
    "\n",
    "# Truncate mask to fit dimensions, used to train models: Omit last row and last four columns, to fit requirements for U-Net:\n",
    "mask_99_GMM = mask_99_GMM[:-1,:]\n",
    "\n",
    "# Plot optimal mask:\n",
    "fig, ax = plt.subplots(figsize=(8, 4))\n",
    "im = plt.imshow(np.flip(mask_99_GMM,axis=0), cmap=\"Greys\", interpolation='nearest')#, vmax=0.00022)\n",
    "#cbar = plt.colorbar(im)\n",
    "#cbar.set_label('rel. loss reduction', fontsize=14)\n",
    "plt.title('Optimal mask with top 104 grid points, 99% missing values on RW grid', fontsize=14)\n",
    "plt.xlabel('Longitude [°E]', fontsize=14)\n",
    "plt.ylabel('Latitude [°N]', fontsize=14)\n",
    "plt.xticks(np.arange(0, 144, step=24), [0, 60, 120, 180, 240, 300], fontsize=12)\n",
    "plt.yticks(np.arange(4, 72, step=8), [80, 60, 40, 20, 0, -20, -40, -60, -80], fontsize=12)\n",
    "plt.show()"
   ]
  },
  {
   "cell_type": "code",
   "execution_count": 23,
   "id": "18619cba",
   "metadata": {},
   "outputs": [
    {
     "name": "stdout",
     "output_type": "stream",
     "text": [
      "GitGeomar/marco-landt-hayen/reconstruct_missing_data_results/unet_4conv_slp_CESM_variable_range_0_100_factor_3_final/relevance_1\n"
     ]
    }
   ],
   "source": [
    "# Set path to store optimal missing masks:\n",
    "path_to_store_masks = Path(\n",
    "    'GitGeomar/marco-landt-hayen/reconstruct_missing_data_results/'+model_config+'_'+feature_short+'_'+source+'_'+\n",
    "    mask_type+'_'+missing_type+'_factor_'+str(augmentation_factor)+run+exp_name)\n",
    "\n",
    "print(path_to_store_masks)"
   ]
  },
  {
   "cell_type": "code",
   "execution_count": 24,
   "id": "13cf4fba",
   "metadata": {},
   "outputs": [],
   "source": [
    "## Store masks, to re-use in batch:\n",
    "#np.save(path_to_store_masks / \"optimal_sampling_mask_99_realworld.npy\", mask_99_GMM)"
   ]
  },
  {
   "cell_type": "markdown",
   "id": "ea060ad9",
   "metadata": {},
   "source": [
    "#### 95% missing"
   ]
  },
  {
   "cell_type": "code",
   "execution_count": 26,
   "id": "324ba50b",
   "metadata": {},
   "outputs": [
    {
     "name": "stdout",
     "output_type": "stream",
     "text": [
      "non-zero entries in mean rel. loss reduction map:  6078\n",
      "noise threshold: 0.0\n",
      "number of xyz-tuples representing non-zero entries in mean rel. loss reduction map:  6078\n"
     ]
    },
    {
     "name": "stderr",
     "output_type": "stream",
     "text": [
      "/app/conda/lib/python3.8/site-packages/sklearn/mixture/_base.py:286: ConvergenceWarning: Initialization 1 did not converge. Try different init parameters, or increase max_iter, tol or check for degenerate data.\n",
      "  warnings.warn(\n"
     ]
    },
    {
     "data": {
      "image/png": "[encoded data removed]",
      "text/plain": [
       "<Figure size 576x288 with 1 Axes>"
      ]
     },
     "metadata": {
      "needs_background": "light"
     },
     "output_type": "display_data"
    }
   ],
   "source": [
    "# Look for number of grid points in mean rel. loss reduction map with non-zero entry:\n",
    "print(\"non-zero entries in mean rel. loss reduction map: \", np.sum(mean_rel_loss_reduction_map!=0))\n",
    "\n",
    "## Start with 3D clustering of x/y positions and its rel. loss reduction (z) for non-zero entries:\n",
    "## Optionally cut of noise in mean rel. loss reduction map:\n",
    "\n",
    "# Set threshold:\n",
    "noise_threshold = 0.0\n",
    "\n",
    "print('noise threshold:',noise_threshold)\n",
    "\n",
    "# Compute max. rel. loss reduction, for scaling of z-component:\n",
    "max_rel_loss_red = np.max(mean_rel_loss_reduction_map)\n",
    "\n",
    "# Create tuples of x/y/z positions:\n",
    "xyz = []\n",
    "\n",
    "# Loop over longitude:\n",
    "for x in range(n_lon):\n",
    "    \n",
    "    # Loop over latitude:\n",
    "    for y in range(n_lat):\n",
    "        \n",
    "        # Check for non-zero entry in mean rel. loss reduction map:\n",
    "        if mean_rel_loss_reduction_map[y,x] > noise_threshold:\n",
    "            \n",
    "#         # Alternatively check for grid points, that exceed threshold in patch_counts:\n",
    "#         if patch_counts_2D[y,x] > 5:\n",
    "            \n",
    "            # Store xyz-tuple, scaled to [0,1] in either dimension:\n",
    "            xyz.append([x/(n_lon-1), y/(n_lat-1), mean_rel_loss_reduction_map[y,x]/max_rel_loss_red])\n",
    "\n",
    "# Convert list of xyz-tuples to np.array:\n",
    "xyz = np.array(xyz)\n",
    "\n",
    "# Output number of obtained tuples:\n",
    "print(\"number of xyz-tuples representing non-zero entries in mean rel. loss reduction map: \", len(xyz))\n",
    "\n",
    "# Get clusters from GMM algorithms with pre-specified number of clusters = 518 (=5% for RW slp grid).\n",
    "# Note: Only use positional features (lat and lon), omit mean rel. loss reduction as feature:\n",
    "GMM_95 = GaussianMixture(n_components=518, random_state=0).fit(xyz[:,:2])\n",
    "\n",
    "# Get clusters:\n",
    "GMM_95_clusters = GMM_95.predict(xyz[:,:2])\n",
    "\n",
    "## Convert obtained cluster means to real world lat/lon scales:\n",
    "\n",
    "# Note: slp real world fields come on 73 x 144 lat-lon-grid. Truncated to 72 x 144, to make them fit to U-Net with 4 convolutions.\n",
    "# For rescaling, need original dimensions, to transfer grid correctly.\n",
    "n_lat_realworld = 73\n",
    "n_lon_realworld = 144\n",
    "\n",
    "# Initialize storage:\n",
    "cluster_means_95_GMM = np.zeros(GMM_95.means_.shape).astype(int)\n",
    "\n",
    "# Unscale latitude and longitude dimensions:\n",
    "cluster_means_95_GMM[:,0] = np.round(GMM_95.means_[:,0]*(n_lon_realworld-1),0).astype(int)\n",
    "cluster_means_95_GMM[:,1] = np.round(GMM_95.means_[:,1]*(n_lat_realworld-1),0).astype(int)\n",
    "\n",
    "## Create optimal mask from cluster means:\n",
    "\n",
    "# Initialize two-dimensional boolean mask of FALSE, dimension (n_lat, n_lon):\n",
    "mask_95_GMM = (np.zeros((n_lat_realworld,n_lon_realworld))!=0)\n",
    "\n",
    "# Loop over cluster centers:\n",
    "for xyz in cluster_means_95_GMM:\n",
    "    \n",
    "    # Set grid points to True:\n",
    "    mask_95_GMM[xyz[1],xyz[0]]=True\n",
    "\n",
    "# Truncate mask to fit dimensions, used to train models: Omit last row and last four columns, to fit requirements for U-Net:\n",
    "mask_95_GMM = mask_95_GMM[:-1,:]\n",
    "\n",
    "# Plot optimal mask:\n",
    "fig, ax = plt.subplots(figsize=(8, 4))\n",
    "im = plt.imshow(np.flip(mask_95_GMM,axis=0), cmap=\"Greys\", interpolation='nearest')#, vmax=0.00022)\n",
    "#cbar = plt.colorbar(im)\n",
    "#cbar.set_label('rel. loss reduction', fontsize=14)\n",
    "plt.title('Optimal mask with top 518 grid points, 95% missing values on RW grid', fontsize=14)\n",
    "plt.xlabel('Longitude [°E]', fontsize=14)\n",
    "plt.ylabel('Latitude [°N]', fontsize=14)\n",
    "plt.xticks(np.arange(0, 144, step=24), [0, 60, 120, 180, 240, 300], fontsize=12)\n",
    "plt.yticks(np.arange(4, 72, step=8), [80, 60, 40, 20, 0, -20, -40, -60, -80], fontsize=12)\n",
    "plt.show()"
   ]
  },
  {
   "cell_type": "code",
   "execution_count": 27,
   "id": "3aa6086a",
   "metadata": {},
   "outputs": [
    {
     "name": "stdout",
     "output_type": "stream",
     "text": [
      "GitGeomar/marco-landt-hayen/reconstruct_missing_data_results/unet_4conv_slp_CESM_variable_range_0_100_factor_3_final/relevance_1\n"
     ]
    }
   ],
   "source": [
    "# Set path to store optimal missing masks:\n",
    "path_to_store_masks = Path(\n",
    "    'GitGeomar/marco-landt-hayen/reconstruct_missing_data_results/'+model_config+'_'+feature_short+'_'+source+'_'+\n",
    "    mask_type+'_'+missing_type+'_factor_'+str(augmentation_factor)+run+exp_name)\n",
    "\n",
    "print(path_to_store_masks)"
   ]
  },
  {
   "cell_type": "code",
   "execution_count": 28,
   "id": "67a1796c",
   "metadata": {},
   "outputs": [],
   "source": [
    "## Store masks, to re-use in batch:\n",
    "np.save(path_to_store_masks / \"optimal_sampling_mask_95_realworld.npy\", mask_95_GMM)"
   ]
  },
  {
   "cell_type": "code",
   "execution_count": null,
   "id": "3b39fc1e",
   "metadata": {},
   "outputs": [],
   "source": []
  }
 ],
 "metadata": {
  "kernelspec": {
   "display_name": "Python 3 (ipykernel)",
   "language": "python",
   "name": "python3"
  },
  "language_info": {
   "codemirror_mode": {
    "name": "ipython",
    "version": 3
   },
   "file_extension": ".py",
   "mimetype": "text/x-python",
   "name": "python",
   "nbconvert_exporter": "python",
   "pygments_lexer": "ipython3",
   "version": "3.8.8"
  }
 },
 "nbformat": 4,
 "nbformat_minor": 5
}
