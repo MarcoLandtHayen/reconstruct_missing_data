{
 "cells": [
  {
   "cell_type": "markdown",
   "id": "15bca82a",
   "metadata": {},
   "source": [
    "### First experiments with U-Net on FOCI sst data\n",
    "\n",
    "Trained model with **variable mask** and **augmentation factor 3** on samples with rel. amount of missing values in the **range of [0.25, 0.999]**.\n",
    "\n",
    "Now feed validation samples with fixed rel. amount of missing data [0.999, 0.99, 0.95, 0.90, 0.75, 0.5, 0.25], respectively), that has been used for training final models (*unet_4conv_sst_FOCI_variable_discrete_factor_2_final*).\n",
    "\n",
    "Compare resulting validation loss with validation loss from final models.\n",
    "\n",
    "#### Results:\n",
    "\n",
    "It works! Get the full flexibility in a single model: Can feed samples with rel. amount of missing values over the whole range from 0.999 to 0.25. Plus can freely choose, which inputs to present, since model is trained on a variable missing mask.\n",
    "\n",
    "--> **Next:** Use this single model for the brute-force experiment to find the optimized sampling strategy."
   ]
  },
  {
   "cell_type": "code",
   "execution_count": 1,
   "id": "5ebfa268",
   "metadata": {},
   "outputs": [],
   "source": [
    "import os\n",
    "import sys\n",
    "sys.path.append('../reconstruct_missing_data')\n",
    "\n",
    "from pathlib import Path\n",
    "from json import dump, load\n",
    "\n",
    "import numpy as np\n",
    "from matplotlib import pyplot as plt\n",
    "\n",
    "from data_loading import find_data_files, load_data_set, get_anomalies, clone_data, create_missing_mask, split_and_scale_data\n",
    "from models import build_unet_4conv\n",
    "\n",
    "import tensorflow as tf\n",
    "from tensorflow.keras import Sequential\n",
    "from tensorflow.keras.models import Model\n",
    "from tensorflow.keras.layers import Input, Dense, Lambda, concatenate, Conv1D, Conv2D, MaxPool2D, UpSampling2D, BatchNormalization, LeakyReLU\n",
    "from tensorflow.keras.optimizers import Adam, SGD\n",
    "import tensorflow.keras.initializers as tfi\n",
    "import tensorflow.keras.regularizers as tfr\n",
    "from tensorflow.keras.utils import plot_model\n",
    "\n",
    "# Suppress Tensorflow warnings\n",
    "tf.compat.v1.logging.set_verbosity(tf.compat.v1.logging.ERROR)"
   ]
  },
  {
   "cell_type": "code",
   "execution_count": 2,
   "id": "ef87900b",
   "metadata": {},
   "outputs": [],
   "source": [
    "# Set working directory, according to working directory in scripts:\n",
    "os.chdir('/gxfs_work1/geomar/smomw511')"
   ]
  },
  {
   "cell_type": "code",
   "execution_count": 3,
   "id": "4ae0ba51",
   "metadata": {},
   "outputs": [
    {
     "name": "stdout",
     "output_type": "stream",
     "text": [
      "GitGeomar/marco-landt-hayen/reconstruct_missing_data_results/unet_4conv_sst_FOCI_variable_discrete_factor_2_final\n"
     ]
    }
   ],
   "source": [
    "## Reload validation loss from final models trained on discrete rel. amounts of missing values:\n",
    "\n",
    "# Specify experiment:\n",
    "model_config = 'unet_4conv'\n",
    "feature = 'sea-surface-temperature' # Choose either 'sea-level-pressure' or 'sea-surface-temperature' as feature.\n",
    "feature_short = 'sst' # Free to set short name, to store results, e.g. 'slp' and 'sst'.\n",
    "source = 'FOCI' # Choose Earth System Model, either 'FOCI' or 'CESM'.\n",
    "\n",
    "mask_type = 'variable'\n",
    "missing_type = 'discrete'\n",
    "augmentation_factor = 2\n",
    "run = '_final'\n",
    "\n",
    "# Get path to stored validation loss from batch:\n",
    "path_to_final_discrete_model = Path('GitGeomar/marco-landt-hayen/reconstruct_missing_data_results/'+model_config+'_'+feature_short+'_'+source+'_'\n",
    "                      +mask_type+'_'+missing_type+'_factor_'+str(augmentation_factor)+run)\n",
    "\n",
    "print(path_to_final_discrete_model)\n",
    "\n",
    "# Reload validation loss from sensitivity experiment (batch), which includes the final loss, we are interested in:\n",
    "val_loss_all = np.load(path_to_final_discrete_model / 'val_loss_all.npy')\n",
    "\n",
    "# Get validation loss from final models:\n",
    "val_loss_final = np.diag(val_loss_all)"
   ]
  },
  {
   "cell_type": "code",
   "execution_count": 5,
   "id": "97952bd9",
   "metadata": {},
   "outputs": [
    {
     "name": "stdout",
     "output_type": "stream",
     "text": [
      "GitGeomar/marco-landt-hayen/reconstruct_missing_data_results/unet_4conv_sst_FOCI_variable_range_0_100_factor_3_seed_1/missing_0_100\n"
     ]
    }
   ],
   "source": [
    "## Reload train and validation loss from model trained on range:\n",
    "\n",
    "# Specify experiment:\n",
    "model_config = 'unet_4conv'\n",
    "feature = 'sea-surface-temperature' # Choose either 'sea-level-pressure' or 'sea-surface-temperature' as feature.\n",
    "feature_short = 'sst' # Free to set short name, to store results, e.g. 'slp' and 'sst'.\n",
    "source = 'FOCI' # Choose Earth System Model, either 'FOCI' or 'CESM'.\n",
    "\n",
    "mask_type = 'variable'\n",
    "missing_type = 'range'\n",
    "range_string = '_0_100'\n",
    "augmentation_factor = 3\n",
    "run = '_seed_1'\n",
    "\n",
    "# # Get path to stored validation loss from batch:\n",
    "# path = Path('GitGeomar/marco-landt-hayen/reconstruct_missing_data/results/'+model_config+'_'+feature_short+'_'+source+'_'\n",
    "#                       +mask_type+'_'+missing_type+'_75_99_factor_'+str(augmentation_factor)+run+'/missing_75_99')\n",
    "\n",
    "# Get path to stored validation loss from batch:\n",
    "path = Path('GitGeomar/marco-landt-hayen/reconstruct_missing_data_results/'+model_config+'_'+feature_short+'_'+source+'_'\n",
    "                      +mask_type+'_'+missing_type+range_string+'_factor_'+str(augmentation_factor)+run+'/missing'+range_string)\n",
    "\n",
    "\n",
    "print(path)\n",
    "\n",
    "# Reload train and validation loss over epochs:\n",
    "train_loss_range = np.load(path / 'train_loss.npy')\n",
    "val_loss_range = np.load(path / 'val_loss.npy')"
   ]
  },
  {
   "cell_type": "code",
   "execution_count": 6,
   "id": "6dff61b4",
   "metadata": {},
   "outputs": [
    {
     "data": {
      "text/plain": [
       "[<matplotlib.lines.Line2D at 0x1536c2d42400>]"
      ]
     },
     "execution_count": 6,
     "metadata": {},
     "output_type": "execute_result"
    },
    {
     "data": {
      "image/png": "[encoded data removed]",
      "text/plain": [
       "<Figure size 432x288 with 1 Axes>"
      ]
     },
     "metadata": {
      "needs_background": "light"
     },
     "output_type": "display_data"
    }
   ],
   "source": [
    "plt.plot(train_loss_range[1:]) "
   ]
  },
  {
   "cell_type": "code",
   "execution_count": null,
   "id": "979ba9ed",
   "metadata": {},
   "outputs": [],
   "source": []
  },
  {
   "cell_type": "code",
   "execution_count": 4,
   "id": "8fdf1e5a",
   "metadata": {},
   "outputs": [
    {
     "name": "stdout",
     "output_type": "stream",
     "text": [
      "GitGeomar/marco-landt-hayen/reconstruct_missing_data_results/unet_4conv_sst_FOCI_variable_range_0_100_factor_3_final\n"
     ]
    },
    {
     "name": "stderr",
     "output_type": "stream",
     "text": [
      "2023-03-06 14:41:22.620870: W tensorflow/stream_executor/platform/default/dso_loader.cc:64] Could not load dynamic library 'libcuda.so.1'; dlerror: libcuda.so.1: cannot open shared object file: No such file or directory; LD_LIBRARY_PATH: /.singularity.d/libs\n",
      "2023-03-06 14:41:22.620892: W tensorflow/stream_executor/cuda/cuda_driver.cc:269] failed call to cuInit: UNKNOWN ERROR (303)\n",
      "2023-03-06 14:41:22.620907: I tensorflow/stream_executor/cuda/cuda_diagnostics.cc:156] kernel driver does not appear to be running on this host (neshcl108): /proc/driver/nvidia/version does not exist\n",
      "2023-03-06 14:41:22.625842: I tensorflow/core/platform/cpu_feature_guard.cc:142] This TensorFlow binary is optimized with oneAPI Deep Neural Network Library (oneDNN) to use the following CPU instructions in performance-critical operations:  SSE4.1 SSE4.2 AVX AVX2 AVX512F FMA\n",
      "To enable them in other operations, rebuild TensorFlow with the appropriate compiler flags.\n"
     ]
    }
   ],
   "source": [
    "## Reload final model, trained on range:\n",
    "\n",
    "# Specify experiment:\n",
    "model_config = 'unet_4conv'\n",
    "feature = 'sea-surface-temperature' # Choose either 'sea-level-pressure' or 'sea-surface-temperature' as feature.\n",
    "feature_short = 'sst' # Free to set short name, to store results, e.g. 'slp' and 'sst'.\n",
    "source = 'FOCI' # Choose Earth System Model, either 'FOCI' or 'CESM'.\n",
    "\n",
    "mask_type = 'variable'\n",
    "missing_type = 'range'\n",
    "range_string = '_0_100'\n",
    "augmentation_factor = 3\n",
    "run = '_final'\n",
    "\n",
    "# # Get path to stored validation loss from batch:\n",
    "# path_to_final_range_model = Path('GitGeomar/marco-landt-hayen/reconstruct_missing_data/results/'+model_config+'_'+feature_short+'_'+source+'_'\n",
    "#                       +mask_type+'_'+missing_type+'_75_99_factor_'+str(augmentation_factor)+run)\n",
    "\n",
    "# Get path to stored validation loss from batch:\n",
    "path_to_final_range_model = Path('GitGeomar/marco-landt-hayen/reconstruct_missing_data_results/'+model_config+'_'+feature_short+'_'+source+'_'\n",
    "                      +mask_type+'_'+missing_type+range_string+'_factor_'+str(augmentation_factor)+run)\n",
    "\n",
    "print(path_to_final_range_model)\n",
    "\n",
    "# Reload parameters for this experiment:\n",
    "with open(path_to_final_range_model / 'parameters.json', 'r') as f:\n",
    "    parameters=load(f)\n",
    "\n",
    "train_val_split = parameters['train_val_split']\n",
    "missing_values = [0.999, 0.99, 0.95, 0.9, 0.75, 0.5, 0.25] # Manually set, not taken from parameters file, since it contains only the range limits.\n",
    "scale_to = parameters['scale_to']\n",
    "\n",
    "# Reload final model, trained on range:\n",
    "model_string = 'missing'+range_string+'/model'\n",
    "model = tf.keras.models.load_model(path_to_final_range_model / model_string)"
   ]
  },
  {
   "cell_type": "code",
   "execution_count": 5,
   "id": "cab371bf",
   "metadata": {},
   "outputs": [
    {
     "name": "stderr",
     "output_type": "stream",
     "text": [
      "/app/conda/lib/python3.8/site-packages/xarray/coding/times.py:673: SerializationWarning: Unable to decode time axis into full numpy.datetime64 objects, continuing using cftime.datetime objects instead, reason: dates out of range\n",
      "  dtype = _decode_cf_datetime_dtype(data, units, calendar, self.use_cftime)\n",
      "/app/conda/lib/python3.8/site-packages/numpy/core/_asarray.py:83: SerializationWarning: Unable to decode time axis into full numpy.datetime64 objects, continuing using cftime.datetime objects instead, reason: dates out of range\n",
      "  return array(a, dtype, copy=False, order=order)\n"
     ]
    }
   ],
   "source": [
    "# !!! Feed range model with data, that has been used to train final discrete model with augmentation factor 2!\n",
    "augmentation_factor = 2\n",
    "\n",
    "\n",
    "# Path to full data:\n",
    "path_to_data = 'climate_index_collection/data/raw/2022-08-22/'\n",
    "\n",
    "# Load data, only to infer sample dimensions (lat,lon):\n",
    "data = load_data_set(data_path=path_to_data, data_source_name=source)\n",
    "\n",
    "# Get number of train and validation samples: Consider augmentation factor!\n",
    "n_train = int(len(data[feature]) * augmentation_factor * train_val_split)\n",
    "n_val = (len(data[feature]) * augmentation_factor) - n_train"
   ]
  },
  {
   "cell_type": "code",
   "execution_count": 6,
   "id": "4b1c4544",
   "metadata": {},
   "outputs": [],
   "source": [
    "# Initialize storage for validation inputs: Dimensions (#missing values settings, #val.samples, lat, lon)\n",
    "val_input_all = np.zeros((len(missing_values), n_val, data[feature].shape[1], data[feature].shape[2]))\n",
    "\n",
    "# Initialize storage for validation targets: Dimensions (#val.samples, lat, lon)\n",
    "val_target_all = np.zeros((n_val, data[feature].shape[1], data[feature].shape[2]))\n",
    "\n",
    "# Initialize storage for validation predictions: Dimensions (#missing values settings, #samples, lat, lon)\n",
    "val_pred_all = np.zeros((len(missing_values), n_val, data[feature].shape[1], data[feature].shape[2]))"
   ]
  },
  {
   "cell_type": "code",
   "execution_count": 7,
   "id": "c6337aaf",
   "metadata": {},
   "outputs": [
    {
     "name": "stdout",
     "output_type": "stream",
     "text": [
      "missing:  1  of  7\n"
     ]
    },
    {
     "name": "stderr",
     "output_type": "stream",
     "text": [
      "/app/conda/lib/python3.8/site-packages/xarray/coding/times.py:673: SerializationWarning: Unable to decode time axis into full numpy.datetime64 objects, continuing using cftime.datetime objects instead, reason: dates out of range\n",
      "  dtype = _decode_cf_datetime_dtype(data, units, calendar, self.use_cftime)\n",
      "/app/conda/lib/python3.8/site-packages/numpy/core/_asarray.py:83: SerializationWarning: Unable to decode time axis into full numpy.datetime64 objects, continuing using cftime.datetime objects instead, reason: dates out of range\n",
      "  return array(a, dtype, copy=False, order=order)\n",
      "2023-03-06 14:42:02.370949: I tensorflow/compiler/mlir/mlir_graph_optimization_pass.cc:185] None of the MLIR Optimization Passes are enabled (registered 2)\n"
     ]
    },
    {
     "name": "stdout",
     "output_type": "stream",
     "text": [
      "missing:  2  of  7\n"
     ]
    },
    {
     "name": "stderr",
     "output_type": "stream",
     "text": [
      "/app/conda/lib/python3.8/site-packages/xarray/coding/times.py:673: SerializationWarning: Unable to decode time axis into full numpy.datetime64 objects, continuing using cftime.datetime objects instead, reason: dates out of range\n",
      "  dtype = _decode_cf_datetime_dtype(data, units, calendar, self.use_cftime)\n",
      "/app/conda/lib/python3.8/site-packages/numpy/core/_asarray.py:83: SerializationWarning: Unable to decode time axis into full numpy.datetime64 objects, continuing using cftime.datetime objects instead, reason: dates out of range\n",
      "  return array(a, dtype, copy=False, order=order)\n"
     ]
    },
    {
     "name": "stdout",
     "output_type": "stream",
     "text": [
      "missing:  3  of  7\n"
     ]
    },
    {
     "name": "stderr",
     "output_type": "stream",
     "text": [
      "/app/conda/lib/python3.8/site-packages/xarray/coding/times.py:673: SerializationWarning: Unable to decode time axis into full numpy.datetime64 objects, continuing using cftime.datetime objects instead, reason: dates out of range\n",
      "  dtype = _decode_cf_datetime_dtype(data, units, calendar, self.use_cftime)\n",
      "/app/conda/lib/python3.8/site-packages/numpy/core/_asarray.py:83: SerializationWarning: Unable to decode time axis into full numpy.datetime64 objects, continuing using cftime.datetime objects instead, reason: dates out of range\n",
      "  return array(a, dtype, copy=False, order=order)\n"
     ]
    },
    {
     "name": "stdout",
     "output_type": "stream",
     "text": [
      "missing:  4  of  7\n"
     ]
    },
    {
     "name": "stderr",
     "output_type": "stream",
     "text": [
      "/app/conda/lib/python3.8/site-packages/xarray/coding/times.py:673: SerializationWarning: Unable to decode time axis into full numpy.datetime64 objects, continuing using cftime.datetime objects instead, reason: dates out of range\n",
      "  dtype = _decode_cf_datetime_dtype(data, units, calendar, self.use_cftime)\n",
      "/app/conda/lib/python3.8/site-packages/numpy/core/_asarray.py:83: SerializationWarning: Unable to decode time axis into full numpy.datetime64 objects, continuing using cftime.datetime objects instead, reason: dates out of range\n",
      "  return array(a, dtype, copy=False, order=order)\n"
     ]
    },
    {
     "name": "stdout",
     "output_type": "stream",
     "text": [
      "missing:  5  of  7\n"
     ]
    },
    {
     "name": "stderr",
     "output_type": "stream",
     "text": [
      "/app/conda/lib/python3.8/site-packages/xarray/coding/times.py:673: SerializationWarning: Unable to decode time axis into full numpy.datetime64 objects, continuing using cftime.datetime objects instead, reason: dates out of range\n",
      "  dtype = _decode_cf_datetime_dtype(data, units, calendar, self.use_cftime)\n",
      "/app/conda/lib/python3.8/site-packages/numpy/core/_asarray.py:83: SerializationWarning: Unable to decode time axis into full numpy.datetime64 objects, continuing using cftime.datetime objects instead, reason: dates out of range\n",
      "  return array(a, dtype, copy=False, order=order)\n"
     ]
    },
    {
     "name": "stdout",
     "output_type": "stream",
     "text": [
      "missing:  6  of  7\n"
     ]
    },
    {
     "name": "stderr",
     "output_type": "stream",
     "text": [
      "/app/conda/lib/python3.8/site-packages/xarray/coding/times.py:673: SerializationWarning: Unable to decode time axis into full numpy.datetime64 objects, continuing using cftime.datetime objects instead, reason: dates out of range\n",
      "  dtype = _decode_cf_datetime_dtype(data, units, calendar, self.use_cftime)\n",
      "/app/conda/lib/python3.8/site-packages/numpy/core/_asarray.py:83: SerializationWarning: Unable to decode time axis into full numpy.datetime64 objects, continuing using cftime.datetime objects instead, reason: dates out of range\n",
      "  return array(a, dtype, copy=False, order=order)\n"
     ]
    },
    {
     "name": "stdout",
     "output_type": "stream",
     "text": [
      "missing:  7  of  7\n"
     ]
    },
    {
     "name": "stderr",
     "output_type": "stream",
     "text": [
      "/app/conda/lib/python3.8/site-packages/xarray/coding/times.py:673: SerializationWarning: Unable to decode time axis into full numpy.datetime64 objects, continuing using cftime.datetime objects instead, reason: dates out of range\n",
      "  dtype = _decode_cf_datetime_dtype(data, units, calendar, self.use_cftime)\n",
      "/app/conda/lib/python3.8/site-packages/numpy/core/_asarray.py:83: SerializationWarning: Unable to decode time axis into full numpy.datetime64 objects, continuing using cftime.datetime objects instead, reason: dates out of range\n",
      "  return array(a, dtype, copy=False, order=order)\n"
     ]
    }
   ],
   "source": [
    "# # Loop over rel. amounts of missing values:\n",
    "# for i in range(len(missing_values)):\n",
    "\n",
    "#     # Get status:\n",
    "#     print('missing: ',i+1,' of ',len(missing_values))\n",
    "#     # Get current rel. amount of missing values:\n",
    "#     missing = missing_values[i]\n",
    "\n",
    "#     ## Load complete data, reconstruct sparse data (as inputs) and complete data (as targets).\n",
    "\n",
    "#     # Load data:\n",
    "#     data = load_data_set(data_path=path_to_data, data_source_name=source)\n",
    "\n",
    "#     # Select single feature and compute anomalies, using whole time span as climatology:\n",
    "#     data = get_anomalies(feature=feature, data_set=data)\n",
    "\n",
    "#     # Extend data, if desired:\n",
    "#     data = clone_data(data=data, augmentation_factor=augmentation_factor)\n",
    "\n",
    "#     # Reload mask for missing values.\n",
    "#     # Rel. amount of missing values = 0.999 requires special treatment:\n",
    "#     if missing==0.999:\n",
    "#         missing_mask = np.load(path_to_final_discrete_model / 'missing_' f'{int(missing*1000)}' / 'missing_mask.npy')\n",
    "#     else:\n",
    "#         missing_mask = np.load(path_to_final_discrete_model / 'missing_' f'{int(missing*100)}' / 'missing_mask.npy')\n",
    "\n",
    "#     # Use sparse data as inputs and complete data as targets. Split sparse and complete data into training and validation sets. \n",
    "#     # Scale or normlalize data according to statistics obtained from only training data.\n",
    "#     _, val_input, _, val_target, train_min, train_max, train_mean, train_std = split_and_scale_data(\n",
    "#         data, \n",
    "#         missing_mask, \n",
    "#         train_val_split, \n",
    "#         scale_to\n",
    "#     )\n",
    "\n",
    "#     # Store inputs: Omit final dimension of predictions, that only contains the channel (here: 1)\n",
    "#     val_input_all[i,:,:,:] = val_input[:,:,:,0]\n",
    "\n",
    "#     # Store targets: Only once!\n",
    "#     if i == 0:\n",
    "#         val_target_all[:,:,:] = val_target[:,:,:]\n",
    "\n",
    "#     # Get model predictions on validation data:\n",
    "#     val_pred = model.predict(val_input_all[i])\n",
    "\n",
    "#     # Store predictions: Omit final dimension of predictions, that only contains the channel (here: 1)\n",
    "#     val_pred_all[i,:,:,:] = val_pred[:,:,:,0]"
   ]
  },
  {
   "cell_type": "code",
   "execution_count": 8,
   "id": "ef03f327",
   "metadata": {},
   "outputs": [],
   "source": [
    "# ## Compute validation loss for model trained on range, feeding samples with discrete rel. amount of missing values:\n",
    "\n",
    "# # Initialize storage for validation loss for all rel. amounts of missing values. \n",
    "# # Dimensions (#missing values settings):\n",
    "# val_loss_all = np.zeros(len(missing_values))\n",
    "\n",
    "# # Loop over rel. amounts of missing values:\n",
    "# for i in range(len(missing_values)):\n",
    "    \n",
    "#     # Compute and store validation loss:\n",
    "#     val_loss_all[i] = np.mean((val_target_all - val_pred_all[i,:,:,:])**2)        \n",
    "\n",
    "# # Save validation loss:\n",
    "# np.save(path_to_final_range_model / 'val_loss_all.npy', val_loss_all)"
   ]
  },
  {
   "cell_type": "code",
   "execution_count": 20,
   "id": "b6d9b766",
   "metadata": {},
   "outputs": [],
   "source": [
    "## Or reload validation loss:\n",
    "# val_loss_all = np.load(path_to_final_range_model / 'val_loss_all.npy')"
   ]
  },
  {
   "cell_type": "code",
   "execution_count": null,
   "id": "ef522317",
   "metadata": {},
   "outputs": [],
   "source": [
    "# Plot val_loss_final (red) and val_loss_all (grey) over missing values, as in sensitivity experiment"
   ]
  },
  {
   "cell_type": "code",
   "execution_count": 9,
   "id": "1d5c2700",
   "metadata": {},
   "outputs": [
    {
     "data": {
      "image/png": "[encoded data removed]",
      "text/plain": [
       "<Figure size 504x288 with 1 Axes>"
      ]
     },
     "metadata": {
      "needs_background": "light"
     },
     "output_type": "display_data"
    }
   ],
   "source": [
    "### Result from range experiment with model trained on [0,1] with augmentation factor 3:\n",
    "\n",
    "## Plot validation loss over rel. amounts of missing values \n",
    "## for final models trained on discrete amounts of missing values (red)\n",
    "## compared to model trained on range of missing values, \n",
    "## but fed with samples of discrete amounts of missing values (grey).\n",
    "\n",
    "fig, ax = plt.subplots(1,1,figsize=(7,4))\n",
    "\n",
    "# Validation loss, using final models trained on discrete amounts of missing values (red):\n",
    "ax.plot(np.log10(val_loss_final), color='red',\n",
    "             label = 'variable mask, discrete, augmentation factor 2',\n",
    "             marker = 'o', linestyle = '--',\n",
    "    )\n",
    "\n",
    "# Final validation loss from model trained on range, but fed with samples of discrete amounts of missing values (grey):\n",
    "ax.plot(np.log10(val_loss_all), color='grey',\n",
    "             label = 'variable mask, range, augmentation factor 3',\n",
    "             marker = 'o', linestyle = '--',\n",
    "    )\n",
    "\n",
    "ax.set_xticks(np.arange(0, len(missing_values), step=1), missing_values, fontsize=12)\n",
    "ax.set_title('Validation loss for models trained discrete rates of miss. values vs. range model', fontsize=16)\n",
    "ax.set_xlabel('rate of missing values', fontsize=12)\n",
    "ax.set_ylabel('log. mean squared error', fontsize=12)\n",
    "ax.legend()\n",
    "plt.show() "
   ]
  },
  {
   "cell_type": "code",
   "execution_count": 21,
   "id": "30bbc395",
   "metadata": {},
   "outputs": [
    {
     "data": {
      "image/png": "[encoded data removed]",
      "text/plain": [
       "<Figure size 504x288 with 1 Axes>"
      ]
     },
     "metadata": {
      "needs_background": "light"
     },
     "output_type": "display_data"
    }
   ],
   "source": [
    "### Result from range experiment with model trained on [0.25,0.999] with augmentation factor 3:\n",
    "\n",
    "## Plot validation loss over rel. amounts of missing values \n",
    "## for final models trained on discrete amounts of missing values (red)\n",
    "## compared to model trained on range of missing values, \n",
    "## but fed with samples of discrete amounts of missing values (grey).\n",
    "\n",
    "fig, ax = plt.subplots(1,1,figsize=(7,4))\n",
    "\n",
    "# Validation loss, using final models trained on discrete amounts of missing values (red):\n",
    "ax.plot(np.log10(val_loss_final), color='red',\n",
    "             label = 'variable mask, discrete, augmentation factor 2',\n",
    "             marker = 'o', linestyle = '--',\n",
    "    )\n",
    "\n",
    "# Final validation loss from model trained on range, but fed with samples of discrete amounts of missing values (grey):\n",
    "ax.plot(np.log10(val_loss_all), color='grey',\n",
    "             label = 'variable mask, range, augmentation factor 3',\n",
    "             marker = 'o', linestyle = '--',\n",
    "    )\n",
    "\n",
    "ax.set_xticks(np.arange(0, len(missing_values), step=1), missing_values, fontsize=12)\n",
    "ax.set_title('Validation loss for models trained discrete rates of miss. values vs. range model', fontsize=16)\n",
    "ax.set_xlabel('rate of missing values', fontsize=12)\n",
    "ax.set_ylabel('log. mean squared error', fontsize=12)\n",
    "ax.legend()\n",
    "plt.show() "
   ]
  },
  {
   "cell_type": "code",
   "execution_count": null,
   "id": "eb1ccf3b",
   "metadata": {},
   "outputs": [],
   "source": []
  },
  {
   "cell_type": "code",
   "execution_count": null,
   "id": "76513eae",
   "metadata": {},
   "outputs": [],
   "source": []
  },
  {
   "cell_type": "code",
   "execution_count": null,
   "id": "87f83106",
   "metadata": {},
   "outputs": [],
   "source": []
  }
 ],
 "metadata": {
  "kernelspec": {
   "display_name": "Python 3 (ipykernel)",
   "language": "python",
   "name": "python3"
  },
  "language_info": {
   "codemirror_mode": {
    "name": "ipython",
    "version": 3
   },
   "file_extension": ".py",
   "mimetype": "text/x-python",
   "name": "python",
   "nbconvert_exporter": "python",
   "pygments_lexer": "ipython3",
   "version": "3.8.8"
  }
 },
 "nbformat": 4,
 "nbformat_minor": 5
}
