{
 "cells": [
  {
   "cell_type": "markdown",
   "id": "ebc0731f",
   "metadata": {},
   "source": [
    "### First experiments with U-Net on CESM slp data\n",
    "\n",
    "Trained model with **variable mask** and **augmentation factor 2** on samples with rel. amount of missing values in the **range of [0.75, 0.99]**.\n",
    "\n",
    "Now feed validation samples with fixed rel. amount of missing data ([0.99, 0.95, 0.90, 0.75, 0.5]), that has been used for training final models (*unet_4conv_slp_CESM_variable_discrete_factor_2_final*).\n",
    "\n",
    "Compare resulting validation loss with validation loss from final models.\n",
    "\n",
    "#### Results:\n",
    "\n",
    "It works! Get the full flexibility in a single model: Can feed samples with rel. amount of missing values over the whole range from 0.99 to 0.5. Plus can freely choose, which inputs to present, since model is trained on a variable missing mask.\n",
    "\n",
    "--> **Next:** Use this single model for the brute-force experiment to find the optimized sampling strategy."
   ]
  },
  {
   "cell_type": "code",
   "execution_count": 1,
   "id": "e9181c96",
   "metadata": {},
   "outputs": [],
   "source": [
    "import os\n",
    "import sys\n",
    "sys.path.append('../reconstruct_missing_data')\n",
    "\n",
    "from pathlib import Path\n",
    "from json import dump, load\n",
    "\n",
    "import numpy as np\n",
    "from matplotlib import pyplot as plt\n",
    "\n",
    "from data_loading import find_data_files, load_data_set, get_anomalies, clone_data, create_missing_mask, split_and_scale_data\n",
    "from models import build_unet_4conv\n",
    "\n",
    "import tensorflow as tf\n",
    "from tensorflow.keras import Sequential\n",
    "from tensorflow.keras.models import Model\n",
    "from tensorflow.keras.layers import Input, Dense, Lambda, concatenate, Conv1D, Conv2D, MaxPool2D, UpSampling2D, BatchNormalization, LeakyReLU\n",
    "from tensorflow.keras.optimizers import Adam, SGD\n",
    "import tensorflow.keras.initializers as tfi\n",
    "import tensorflow.keras.regularizers as tfr\n",
    "from tensorflow.keras.utils import plot_model\n",
    "\n",
    "# Suppress Tensorflow warnings\n",
    "tf.compat.v1.logging.set_verbosity(tf.compat.v1.logging.ERROR)"
   ]
  },
  {
   "cell_type": "code",
   "execution_count": 2,
   "id": "2f02711f",
   "metadata": {},
   "outputs": [],
   "source": [
    "# Set working directory, according to working directory in scripts:\n",
    "os.chdir('/gxfs_work1/geomar/smomw511')"
   ]
  },
  {
   "cell_type": "code",
   "execution_count": 25,
   "id": "44e24104",
   "metadata": {},
   "outputs": [
    {
     "name": "stdout",
     "output_type": "stream",
     "text": [
      "GitGeomar/marco-landt-hayen/reconstruct_missing_data/results/unet_4conv_slp_CESM_variable_discrete_factor_2_final\n"
     ]
    }
   ],
   "source": [
    "## Reload validation loss from final models trained on discrete rel. amounts of missing values:\n",
    "\n",
    "# Specify experiment:\n",
    "model_config = 'unet_4conv'\n",
    "feature = 'sea-level-pressure' # Choose either 'sea-level-pressure' or 'sea-surface-temperature' as feature.\n",
    "feature_short = 'slp' # Free to set short name, to store results, e.g. 'slp' and 'sst'.\n",
    "source = 'CESM' # Choose Earth System Model, either 'FOCI' or 'CESM'.\n",
    "\n",
    "mask_type = 'variable'\n",
    "missing_type = 'discrete'\n",
    "augmentation_factor = 2\n",
    "run = '_final'\n",
    "\n",
    "# Get path to stored validation loss from batch:\n",
    "path_to_final_discrete_model = Path('GitGeomar/marco-landt-hayen/reconstruct_missing_data/results/'+model_config+'_'+feature_short+'_'+source+'_'\n",
    "                      +mask_type+'_'+missing_type+'_factor_'+str(augmentation_factor)+run)\n",
    "\n",
    "print(path_to_discrete_final_model)\n",
    "\n",
    "# Reload validation loss from sensitivity experiment (batch), which includes the final loss, we are interested in:\n",
    "val_loss_all = np.load(path_to_final_discrete_model / 'val_loss_all.npy')\n",
    "\n",
    "# Get validation loss from final models:\n",
    "val_loss_final = np.diag(val_loss_all)"
   ]
  },
  {
   "cell_type": "code",
   "execution_count": 26,
   "id": "259d895d",
   "metadata": {},
   "outputs": [
    {
     "name": "stdout",
     "output_type": "stream",
     "text": [
      "GitGeomar/marco-landt-hayen/reconstruct_missing_data/results/unet_4conv_slp_CESM_variable_range_factor_2_seed_1/missing_75_99\n"
     ]
    }
   ],
   "source": [
    "## Reload train and validation loss from model trained on range:\n",
    "\n",
    "# Specify experiment:\n",
    "model_config = 'unet_4conv'\n",
    "feature = 'sea-level-pressure' # Choose either 'sea-level-pressure' or 'sea-surface-temperature' as feature.\n",
    "feature_short = 'slp' # Free to set short name, to store results, e.g. 'slp' and 'sst'.\n",
    "source = 'CESM' # Choose Earth System Model, either 'FOCI' or 'CESM'.\n",
    "\n",
    "mask_type = 'variable'\n",
    "missing_type = 'range'\n",
    "augmentation_factor = 2\n",
    "run = '_seed_1'\n",
    "\n",
    "# Get path to stored validation loss from batch:\n",
    "path = Path('GitGeomar/marco-landt-hayen/reconstruct_missing_data/results/'+model_config+'_'+feature_short+'_'+source+'_'\n",
    "                      +mask_type+'_'+missing_type+'_factor_'+str(augmentation_factor)+run+'/missing_75_99')\n",
    "\n",
    "print(path)\n",
    "\n",
    "# Reload train and validation loss over epochs:\n",
    "train_loss_range = np.load(path / 'train_loss.npy')\n",
    "val_loss_range = np.load(path / 'val_loss.npy')"
   ]
  },
  {
   "cell_type": "code",
   "execution_count": 27,
   "id": "0a917bf5",
   "metadata": {},
   "outputs": [
    {
     "data": {
      "text/plain": [
       "[<matplotlib.lines.Line2D at 0x1485edc4e250>]"
      ]
     },
     "execution_count": 27,
     "metadata": {},
     "output_type": "execute_result"
    },
    {
     "data": {
      "image/png": "[encoded data removed]",
      "text/plain": [
       "<Figure size 432x288 with 1 Axes>"
      ]
     },
     "metadata": {
      "needs_background": "light"
     },
     "output_type": "display_data"
    }
   ],
   "source": [
    "plt.plot(train_loss_range[1:]) # Epoch 9 is performing best, saved as 'final' model."
   ]
  },
  {
   "cell_type": "code",
   "execution_count": 31,
   "id": "33955e08",
   "metadata": {},
   "outputs": [
    {
     "name": "stdout",
     "output_type": "stream",
     "text": [
      "GitGeomar/marco-landt-hayen/reconstruct_missing_data/results/unet_4conv_slp_CESM_variable_range_factor_2_final\n"
     ]
    }
   ],
   "source": [
    "## Reload final model, trained on range:\n",
    "\n",
    "# Specify experiment:\n",
    "model_config = 'unet_4conv'\n",
    "feature = 'sea-level-pressure' # Choose either 'sea-level-pressure' or 'sea-surface-temperature' as feature.\n",
    "feature_short = 'slp' # Free to set short name, to store results, e.g. 'slp' and 'sst'.\n",
    "source = 'CESM' # Choose Earth System Model, either 'FOCI' or 'CESM'.\n",
    "\n",
    "mask_type = 'variable'\n",
    "missing_type = 'range'\n",
    "augmentation_factor = 2\n",
    "run = '_final'\n",
    "\n",
    "# Get path to stored validation loss from batch:\n",
    "path_to_final_range_model = Path('GitGeomar/marco-landt-hayen/reconstruct_missing_data/results/'+model_config+'_'+feature_short+'_'+source+'_'\n",
    "                      +mask_type+'_'+missing_type+'_factor_'+str(augmentation_factor)+run)\n",
    "\n",
    "print(path_to_final_range_model)\n",
    "\n",
    "# Reload parameters for this experiment:\n",
    "with open(path_to_final_range_model / 'parameters.json', 'r') as f:\n",
    "    parameters=load(f)\n",
    "\n",
    "train_val_split = parameters['train_val_split']\n",
    "missing_values = [0.99, 0.95, 0.9, 0.75, 0.5] # Manually set, not taken from parameters file, since it contains only the range limits.\n",
    "scale_to = parameters['scale_to']\n",
    "\n",
    "# Reload final model, trained on range:\n",
    "model = tf.keras.models.load_model(path_to_final_range_model / 'missing_75_99' / 'model')"
   ]
  },
  {
   "cell_type": "code",
   "execution_count": 32,
   "id": "24e24753",
   "metadata": {},
   "outputs": [],
   "source": [
    "# Path to full data:\n",
    "path_to_data = 'climate_index_collection/data/raw/2022-08-22/'\n",
    "\n",
    "# Load data, only to infer sample dimensions (lat,lon):\n",
    "data = load_data_set(data_path=path_to_data, data_source_name=source)\n",
    "\n",
    "# Get number of train and validation samples: Consider augmentation factor!\n",
    "n_train = int(len(data[feature]) * augmentation_factor * train_val_split)\n",
    "n_val = (len(data[feature]) * augmentation_factor) - n_train"
   ]
  },
  {
   "cell_type": "code",
   "execution_count": 33,
   "id": "e85b6cfc",
   "metadata": {},
   "outputs": [],
   "source": [
    "# Initialize storage for validation inputs: Dimensions (#missing values settings, #val.samples, lat, lon)\n",
    "val_input_all = np.zeros((len(missing_values), n_val, data[feature].shape[1], data[feature].shape[2]))\n",
    "\n",
    "# Initialize storage for validation targets: Dimensions (#val.samples, lat, lon)\n",
    "val_target_all = np.zeros((n_val, data[feature].shape[1], data[feature].shape[2]))\n",
    "\n",
    "# Initialize storage for validation predictions: Dimensions (#missing values settings, #samples, lat, lon)\n",
    "val_pred_all = np.zeros((len(missing_values), n_val, data[feature].shape[1], data[feature].shape[2]))"
   ]
  },
  {
   "cell_type": "code",
   "execution_count": 34,
   "id": "95560be8",
   "metadata": {},
   "outputs": [
    {
     "name": "stdout",
     "output_type": "stream",
     "text": [
      "missing:  1  of  5\n"
     ]
    },
    {
     "name": "stderr",
     "output_type": "stream",
     "text": [
      "2023-01-26 14:38:01.254685: I tensorflow/compiler/mlir/mlir_graph_optimization_pass.cc:185] None of the MLIR Optimization Passes are enabled (registered 2)\n"
     ]
    },
    {
     "name": "stdout",
     "output_type": "stream",
     "text": [
      "missing:  2  of  5\n",
      "missing:  3  of  5\n",
      "missing:  4  of  5\n",
      "missing:  5  of  5\n"
     ]
    },
    {
     "ename": "IndexError",
     "evalue": "too many indices for array: array is 4-dimensional, but 5 were indexed",
     "output_type": "error",
     "traceback": [
      "\u001b[0;31m---------------------------------------------------------------------------\u001b[0m",
      "\u001b[0;31mIndexError\u001b[0m                                Traceback (most recent call last)",
      "Input \u001b[0;32mIn [34]\u001b[0m, in \u001b[0;36m<cell line: 52>\u001b[0;34m()\u001b[0m\n\u001b[1;32m     52\u001b[0m \u001b[38;5;28;01mfor\u001b[39;00m i \u001b[38;5;129;01min\u001b[39;00m \u001b[38;5;28mrange\u001b[39m(\u001b[38;5;28mlen\u001b[39m(missing_values)):\n\u001b[1;32m     53\u001b[0m     \n\u001b[1;32m     54\u001b[0m     \u001b[38;5;66;03m# Loop over rel. amounts of missing values:\u001b[39;00m\n\u001b[1;32m     55\u001b[0m     \u001b[38;5;28;01mfor\u001b[39;00m j \u001b[38;5;129;01min\u001b[39;00m \u001b[38;5;28mrange\u001b[39m(\u001b[38;5;28mlen\u001b[39m(missing_values)):\n\u001b[1;32m     56\u001b[0m         \u001b[38;5;66;03m# Store validation loss:\u001b[39;00m\n\u001b[0;32m---> 57\u001b[0m         val_loss_all[i,j] \u001b[38;5;241m=\u001b[39m np\u001b[38;5;241m.\u001b[39mmean((val_target_all \u001b[38;5;241m-\u001b[39m \u001b[43mval_pred_all\u001b[49m\u001b[43m[\u001b[49m\u001b[43mi\u001b[49m\u001b[43m,\u001b[49m\u001b[43mj\u001b[49m\u001b[43m,\u001b[49m\u001b[43m:\u001b[49m\u001b[43m,\u001b[49m\u001b[43m:\u001b[49m\u001b[43m,\u001b[49m\u001b[43m:\u001b[49m\u001b[43m]\u001b[49m)\u001b[38;5;241m*\u001b[39m\u001b[38;5;241m*\u001b[39m\u001b[38;5;241m2\u001b[39m)        \n\u001b[1;32m     59\u001b[0m \u001b[38;5;66;03m# Save validation loss:\u001b[39;00m\n\u001b[1;32m     60\u001b[0m np\u001b[38;5;241m.\u001b[39msave(path_to_final_range_model \u001b[38;5;241m/\u001b[39m \u001b[38;5;124m'\u001b[39m\u001b[38;5;124mval_loss_all.npy\u001b[39m\u001b[38;5;124m'\u001b[39m, val_loss_all)\n",
      "\u001b[0;31mIndexError\u001b[0m: too many indices for array: array is 4-dimensional, but 5 were indexed"
     ]
    }
   ],
   "source": [
    "# Loop over rel. amounts of missing values:\n",
    "for i in range(len(missing_values)):\n",
    "\n",
    "    # Get status:\n",
    "    print('missing: ',i+1,' of ',len(missing_values))\n",
    "    # Get current rel. amount of missing values:\n",
    "    missing = missing_values[i]\n",
    "\n",
    "    ## Load complete data, reconstruct sparse data (as inputs) and complete data (as targets).\n",
    "\n",
    "    # Load data:\n",
    "    data = load_data_set(data_path=path_to_data, data_source_name=source)\n",
    "\n",
    "    # Select single feature and compute anomalies, using whole time span as climatology:\n",
    "    data = get_anomalies(feature=feature, data_set=data)\n",
    "\n",
    "    # Extend data, if desired:\n",
    "    data = clone_data(data=data, augmentation_factor=augmentation_factor)\n",
    "\n",
    "    # Reload mask for missing values:\n",
    "    missing_mask = np.load(path_to_final_discrete_model / 'missing_' f'{int(missing*100)}' / 'missing_mask.npy')\n",
    "\n",
    "    # Use sparse data as inputs and complete data as targets. Split sparse and complete data into training and validation sets. \n",
    "    # Scale or normlalize data according to statistics obtained from only training data.\n",
    "    train_input, val_input, train_target, val_target, train_min, train_max, train_mean, train_std = split_and_scale_data(\n",
    "        data, \n",
    "        missing_mask, \n",
    "        train_val_split, \n",
    "        scale_to\n",
    "    )\n",
    "\n",
    "    # Store inputs: Omit final dimension of predictions, that only contains the channel (here: 1)\n",
    "    val_input_all[i,:,:,:] = val_input[:,:,:,0]\n",
    "\n",
    "    # Store targets: Only once!\n",
    "    if i == 0:\n",
    "        val_target_all[:,:,:] = val_target[:,:,:]\n",
    "\n",
    "    # Get model predictions on validation data:\n",
    "    val_pred = model.predict(val_input_all[i])\n",
    "\n",
    "    # Store predictions: Omit final dimension of predictions, that only contains the channel (here: 1)\n",
    "    val_pred_all[i,:,:,:] = val_pred[:,:,:,0]"
   ]
  },
  {
   "cell_type": "code",
   "execution_count": 35,
   "id": "5e49e574",
   "metadata": {},
   "outputs": [],
   "source": [
    "## Compute validation loss for model trained on range, feeding samples with discrete rel. amount of missing values:\n",
    "\n",
    "# Initialize storage for validation loss for all rel. amounts of missing values. \n",
    "# Dimensions (#missing values settings):\n",
    "val_loss_all = np.zeros(len(missing_values))\n",
    "\n",
    "# Loop over rel. amounts of missing values:\n",
    "for i in range(len(missing_values)):\n",
    "    \n",
    "    # Compute and store validation loss:\n",
    "    val_loss_all[i] = np.mean((val_target_all - val_pred_all[i,:,:,:])**2)        \n",
    "\n",
    "# Save validation loss:\n",
    "np.save(path_to_final_range_model / 'val_loss_all.npy', val_loss_all)"
   ]
  },
  {
   "cell_type": "code",
   "execution_count": null,
   "id": "936428b2",
   "metadata": {},
   "outputs": [],
   "source": [
    "# Plot val_loss_final (red) and val_loss_all (grey) over missing values, as in sensitivity experiment"
   ]
  },
  {
   "cell_type": "code",
   "execution_count": 40,
   "id": "834a715c",
   "metadata": {},
   "outputs": [
    {
     "data": {
      "image/png": "[encoded data removed]",
      "text/plain": [
       "<Figure size 504x288 with 1 Axes>"
      ]
     },
     "metadata": {
      "needs_background": "light"
     },
     "output_type": "display_data"
    }
   ],
   "source": [
    "## Plot validation loss over rel. amounts of missing values \n",
    "## for final models trained on discrete amounts of missing values (red)\n",
    "## compared to model trained on range of missing values, \n",
    "## but fed with samples of discrete amounts of missing values (grey).\n",
    "\n",
    "fig, ax = plt.subplots(1,1,figsize=(7,4))\n",
    "\n",
    "# Validation loss, using final models trained on discrete amounts of missing values (red):\n",
    "ax.plot(val_loss_final, color='red',\n",
    "             label = 'variable mask, discrete, augmentation factor 2',\n",
    "             marker = 'o', linestyle = '--',\n",
    "    )\n",
    "\n",
    "# Final validation loss from model trained on range, but fed with samples of discrete amounts of missing values (grey):\n",
    "ax.plot(val_loss_all, color='grey',\n",
    "             label = 'variable mask, range, augmentation factor 2',\n",
    "             marker = 'o', linestyle = '--',\n",
    "    )\n",
    "\n",
    "ax.set_xticks(np.arange(0, len(missing_values), step=1), missing_values, fontsize=12)\n",
    "ax.set_title('Validation loss for models trained on range versus discrete amounts of miss. values', fontsize=16)\n",
    "ax.set_xlabel('Rel. amount of missing values', fontsize=12)\n",
    "ax.set_ylabel('Mean squared error', fontsize=12)\n",
    "ax.legend()\n",
    "plt.show() "
   ]
  },
  {
   "cell_type": "code",
   "execution_count": null,
   "id": "20559f67",
   "metadata": {},
   "outputs": [],
   "source": []
  },
  {
   "cell_type": "code",
   "execution_count": null,
   "id": "e4164f2b",
   "metadata": {},
   "outputs": [],
   "source": []
  }
 ],
 "metadata": {
  "kernelspec": {
   "display_name": "Python 3 (ipykernel)",
   "language": "python",
   "name": "python3"
  },
  "language_info": {
   "codemirror_mode": {
    "name": "ipython",
    "version": 3
   },
   "file_extension": ".py",
   "mimetype": "text/x-python",
   "name": "python",
   "nbconvert_exporter": "python",
   "pygments_lexer": "ipython3",
   "version": "3.8.8"
  }
 },
 "nbformat": 4,
 "nbformat_minor": 5
}
